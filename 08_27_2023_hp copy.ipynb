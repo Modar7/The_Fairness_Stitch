{
 "cells": [
  {
   "cell_type": "code",
   "execution_count": 1,
   "metadata": {},
   "outputs": [],
   "source": [
    "#import os\n",
    "#os.chdir('C:\\MM\\Tools\\PyTorch\\PyTorch Fundamentals\\Local_CONDA_Env\\Last-Layer Fairness Fine-tuning is Simple and Effective for Neural Networks/UTKFace')"
   ]
  },
  {
   "cell_type": "code",
   "execution_count": 1,
   "metadata": {},
   "outputs": [
    {
     "data": {
      "text/plain": [
       "'/gpfs/space/home/sulaiman/MM/UTKFace'"
      ]
     },
     "execution_count": 1,
     "metadata": {},
     "output_type": "execute_result"
    }
   ],
   "source": [
    "pwd\n",
    "\n"
   ]
  },
  {
   "cell_type": "code",
   "execution_count": 2,
   "metadata": {},
   "outputs": [
    {
     "name": "stdout",
     "output_type": "stream",
     "text": [
      "240_train_age_gender_detection_240_train_age_v3_batch_1024.ipynb\r\n",
      "240_train_age_gender_detection_240_train_age_v3_batch_128_08_27_2023.ipynb\r\n",
      "\u001b[0m\u001b[38;5;27mDestination_FolderName\u001b[0m/\r\n",
      "models.py\r\n",
      "\u001b[38;5;27m__pycache__\u001b[0m/\r\n",
      "\u001b[38;5;27mUTKFace\u001b[0m/\r\n",
      "\u001b[38;5;9mUTKFace.tar.gz\u001b[0m\r\n"
     ]
    }
   ],
   "source": [
    "ls"
   ]
  },
  {
   "cell_type": "code",
   "execution_count": 3,
   "metadata": {},
   "outputs": [],
   "source": [
    "\n",
    "# importing the \"tarfile\" module\n",
    "#import tarfile\n",
    "  \n",
    "# open file\n",
    "#file = tarfile.open('UTKFace.tar.gz')\n",
    "  \n",
    "# extracting file\n",
    "#file.extractall('./Destination_FolderName')\n",
    "  \n",
    "#file.close()"
   ]
  },
  {
   "cell_type": "code",
   "execution_count": 4,
   "metadata": {},
   "outputs": [
    {
     "name": "stdout",
     "output_type": "stream",
     "text": [
      "Number of images in the folder: 23708\n"
     ]
    }
   ],
   "source": [
    "import os\n",
    "\n",
    "folder_path = \"Destination_FolderName/UTKFace\"  # Replace with the actual folder path\n",
    "\n",
    "image_extensions = [\".jpg\", \".jpeg\", \".png\", \".gif\", \".bmp\"]  # Add more if needed\n",
    "\n",
    "image_count = 0\n",
    "\n",
    "for filename in os.listdir(folder_path):\n",
    "    if any(filename.lower().endswith(ext) for ext in image_extensions):\n",
    "        image_count += 1\n",
    "\n",
    "print(f\"Number of images in the folder: {image_count}\")\n"
   ]
  },
  {
   "cell_type": "code",
   "execution_count": null,
   "metadata": {},
   "outputs": [],
   "source": []
  },
  {
   "cell_type": "code",
   "execution_count": 1,
   "metadata": {},
   "outputs": [],
   "source": [
    "# https://youtu.be/rdjWDAYt98s\n",
    "\"\"\"\n",
    "Train deep learning models to predict age and gender.\n",
    "\n",
    "Datase from here: https://susanqq.github.io/UTKFace/\n",
    "\"\"\"\n",
    "\n",
    "import pandas as pd\n",
    "import numpy as np\n",
    "import os\n",
    "import matplotlib.pyplot as plt\n",
    "import cv2\n",
    "#from keras.models import Sequential,load_model,Model\n",
    "#from keras.layers import Conv2D,MaxPool2D,Dense,Dropout,BatchNormalization,Flatten,Input\n",
    "from sklearn.model_selection import train_test_split\n",
    "\n",
    "import torch\n"
   ]
  },
  {
   "cell_type": "code",
   "execution_count": 6,
   "metadata": {},
   "outputs": [],
   "source": [
    "path = \"Destination_FolderName/UTKFace\"\n",
    "images_data = []\n",
    "age = []\n",
    "gender = []\n",
    "age_gender = []\n",
    "i = 0\n",
    "\n",
    "for img in os.listdir(path):\n",
    "  ages = img.split(\"_\")[0]\n",
    "  #print(np.array(ages))\n",
    "  #print(type(np.array(ages)))\n",
    "  if int(ages) > 35 :\n",
    "    ages = 0\n",
    "  else:\n",
    "    ages = 1\n",
    "  genders = img.split(\"_\")[1]\n",
    "  img = cv2.imread(str(path)+\"/\"+str(img))\n",
    "  img = cv2.cvtColor(img,cv2.COLOR_BGR2RGB)\n",
    "  img = np.array(img)\n",
    "  tensor = torch.tensor(img)\n",
    "  transposed_image = tensor.permute(2, 0, 1)\n",
    "  images_data.append(transposed_image)\n",
    "  age.append(np.array(ages))\n",
    "  gender.append(np.array(genders))\n",
    "  age_gender.append(torch.tensor([np.array(ages,np.uint64).tolist(), np.array(genders[0],np.uint64).tolist()]))\n",
    "  #i = i +1\n",
    "  #if i == 100:\n",
    "   # break\n",
    "  \n",
    "#age = np.array(age,dtype=np.int64)\n",
    "#images = np.array(images)   #Forgot to scale image for my training. Please divide by 255 to scale. \n",
    "#gender = np.array(gender,np.uint64)\n",
    "\n",
    "#x_train_age, x_test_age, y_train_age, y_test_age = train_test_split(images, age, random_state=42)\n",
    "\n",
    "#x_train_gender, x_test_gender, y_train_gender, y_test_gender = train_test_split(images, gender, random_state=42)"
   ]
  },
  {
   "cell_type": "code",
   "execution_count": 7,
   "metadata": {},
   "outputs": [
    {
     "data": {
      "text/plain": [
       "tensor([[[ 80,  79,  78,  ..., 174, 174, 174],\n",
       "         [ 80,  80,  79,  ..., 174, 174, 174],\n",
       "         [ 80,  80,  79,  ..., 174, 174, 174],\n",
       "         ...,\n",
       "         [111, 109, 108,  ...,  73,  73,  73],\n",
       "         [111, 109, 107,  ...,  67,  67,  67],\n",
       "         [112, 109, 107,  ...,  63,  63,  64]],\n",
       "\n",
       "        [[ 59,  58,  57,  ..., 174, 174, 174],\n",
       "         [ 59,  59,  58,  ..., 174, 174, 174],\n",
       "         [ 60,  60,  59,  ..., 174, 174, 174],\n",
       "         ...,\n",
       "         [ 82,  80,  77,  ...,  61,  61,  61],\n",
       "         [ 82,  80,  76,  ...,  55,  55,  55],\n",
       "         [ 83,  80,  76,  ...,  51,  51,  52]],\n",
       "\n",
       "        [[ 54,  53,  52,  ..., 176, 176, 176],\n",
       "         [ 54,  54,  53,  ..., 176, 176, 176],\n",
       "         [ 53,  53,  52,  ..., 176, 176, 176],\n",
       "         ...,\n",
       "         [ 64,  62,  59,  ...,  61,  61,  61],\n",
       "         [ 64,  62,  58,  ...,  55,  55,  55],\n",
       "         [ 65,  62,  58,  ...,  51,  51,  52]]], dtype=torch.uint8)"
      ]
     },
     "execution_count": 7,
     "metadata": {},
     "output_type": "execute_result"
    }
   ],
   "source": [
    "images_data[0]"
   ]
  },
  {
   "cell_type": "code",
   "execution_count": null,
   "metadata": {},
   "outputs": [],
   "source": []
  },
  {
   "cell_type": "code",
   "execution_count": null,
   "metadata": {},
   "outputs": [],
   "source": []
  },
  {
   "cell_type": "markdown",
   "metadata": {},
   "source": [
    "# Split the data"
   ]
  },
  {
   "cell_type": "code",
   "execution_count": 6,
   "metadata": {},
   "outputs": [
    {
     "name": "stdout",
     "output_type": "stream",
     "text": [
      "(1: Young (age ≤ 35)): 0\n",
      "(0: Old (age > 35)): 0\n"
     ]
    }
   ],
   "source": [
    "print('(1: Young (age ≤ 35)):', int(age_gender[0][0]))\n",
    "\n",
    "print('(0: Old (age > 35)):', int(age_gender[0][0]))"
   ]
  },
  {
   "cell_type": "code",
   "execution_count": 75,
   "metadata": {},
   "outputs": [
    {
     "name": "stdout",
     "output_type": "stream",
     "text": [
      "(0: Male): 0\n",
      "(1: Female): 0\n"
     ]
    }
   ],
   "source": [
    "print('(0: Male):', int(age_gender[0][1]))\n",
    "\n",
    "print('(1: Female):', int(age_gender[0][1]))"
   ]
  },
  {
   "cell_type": "code",
   "execution_count": 76,
   "metadata": {},
   "outputs": [
    {
     "name": "stdout",
     "output_type": "stream",
     "text": [
      "23708\n",
      "23708\n"
     ]
    }
   ],
   "source": [
    "print(len(images_data))\n",
    "\n",
    "print(len(age_gender))"
   ]
  },
  {
   "cell_type": "code",
   "execution_count": 81,
   "metadata": {},
   "outputs": [
    {
     "name": "stdout",
     "output_type": "stream",
     "text": [
      "(0: Old (age > 35)):\n",
      "0\n",
      "tensor([0, 0])\n"
     ]
    }
   ],
   "source": [
    "for k in range(len(images_data)):\n",
    "    if int(age_gender[k][0]) == 1:\n",
    "        print('(1: Young (age ≤ 35)):')\n",
    "    elif int(age_gender[k][0]) == 0:\n",
    "        print('(0: Old (age > 35)):')\n",
    "    elif int(age_gender[k][1]) == 0:\n",
    "        print('(0: Male):')\n",
    "    elif int(age_gender[k][1]) == 1:\n",
    "        print('(1: Female):')\n",
    "        \n",
    "    print(k)\n",
    "    print(age_gender[k])\n",
    "   \n",
    "    break\n"
   ]
  },
  {
   "cell_type": "code",
   "execution_count": 84,
   "metadata": {},
   "outputs": [
    {
     "name": "stdout",
     "output_type": "stream",
     "text": [
      "(0: Old (age > 35)):\n",
      "(0: Male):\n",
      "tensor([0, 0])\n"
     ]
    }
   ],
   "source": [
    "for k in range(len(images_data)):\n",
    "    if int(age_gender[k][0]) == 1:\n",
    "        print('(1: Young (age ≤ 35)):')\n",
    "        if int(age_gender[k][1]) == 0:\n",
    "            print('(0: Male):')\n",
    "        elif int(age_gender[k][1]) == 1:\n",
    "            print('(1: Female):')\n",
    "    elif int(age_gender[k][0]) == 0:\n",
    "        print('(0: Old (age > 35)):')\n",
    "        if int(age_gender[k][1]) == 0:\n",
    "            print('(0: Male):')\n",
    "        elif int(age_gender[k][1]) == 1:\n",
    "            print('(1: Female):')\n",
    "        \n",
    "    #print(k)\n",
    "    print(age_gender[k])\n",
    "   \n",
    "    break\n"
   ]
  },
  {
   "cell_type": "code",
   "execution_count": 101,
   "metadata": {},
   "outputs": [],
   "source": [
    "images_data_train = []\n",
    "images_data_val = []\n",
    "images_data_test = []\n",
    "\n",
    "age_gender_train = []\n",
    "age_gender_val = []\n",
    "age_gender_test = []"
   ]
  },
  {
   "cell_type": "code",
   "execution_count": 102,
   "metadata": {},
   "outputs": [],
   "source": [
    "for k in range(len(images_data)):\n",
    "    if int(age_gender[k][0]) == 1:\n",
    "        #print('(1: Young (age ≤ 35)):')\n",
    "        if int(age_gender[k][1]) == 0:\n",
    "            #print('(0: Male):')\n",
    "            # 4,133/1,378/1,378\n",
    "            if len(images_data_train) < 4133:\n",
    "                images_data_train.append(images_data[k])\n",
    "                age_gender_train.append(age_gender[k])\n",
    "            elif len(images_data_val) < 1378:\n",
    "                images_data_val.append(images_data[k])\n",
    "                age_gender_val.append(age_gender[k])\n",
    "            elif len(images_data_test) < 1378:\n",
    "                images_data_test.append(images_data[k])\n",
    "                age_gender_test.append(age_gender[k])\n",
    "        elif int(age_gender[k][1]) == 1:\n",
    "            #print('(1: Female):')\n",
    "            # 4,931/1,643/1,644\n",
    "            if len(images_data_train) < 4931:\n",
    "                images_data_train.append(images_data[k])\n",
    "                age_gender_train.append(age_gender[k])\n",
    "            elif len(images_data_val) < 1643:\n",
    "                images_data_val.append(images_data[k])\n",
    "                age_gender_val.append(age_gender[k])\n",
    "            elif len(images_data_test) < 1644:\n",
    "                images_data_test.append(images_data[k])\n",
    "                age_gender_test.append(age_gender[k])\n",
    "    elif int(age_gender[k][0]) == 0:\n",
    "        #print('(0: Old (age > 35)):')\n",
    "        if int(age_gender[k][1]) == 0:\n",
    "            #print('(0: Male):')\n",
    "            #3,301/1,101/1,100\n",
    "            if len(images_data_train) < 3301:\n",
    "                images_data_train.append(images_data[k])\n",
    "                age_gender_train.append(age_gender[k])\n",
    "            elif len(images_data_val) < 1101:\n",
    "                images_data_val.append(images_data[k])\n",
    "                age_gender_val.append(age_gender[k])\n",
    "            elif len(images_data_test) < 1100:\n",
    "                images_data_test.append(images_data[k])\n",
    "                age_gender_test.append(age_gender[k])\n",
    "        elif int(age_gender[k][1]) == 1:\n",
    "            #print('(1: Female):')\n",
    "            #1,858/619/619\n",
    "            if len(images_data_train) < 1858:\n",
    "                images_data_train.append(images_data[k])\n",
    "                age_gender_train.append(age_gender[k])\n",
    "            elif len(images_data_val) < 619:\n",
    "                images_data_val.append(images_data[k])\n",
    "                age_gender_val.append(age_gender[k])\n",
    "            elif len(images_data_test) < 619:\n",
    "                images_data_test.append(images_data[k])\n",
    "                age_gender_test.append(age_gender[k])\n",
    "        \n",
    "    #print(k)\n",
    "    #print(age_gender[k])\n",
    "   \n",
    "    #break\n"
   ]
  },
  {
   "cell_type": "code",
   "execution_count": 105,
   "metadata": {},
   "outputs": [
    {
     "name": "stdout",
     "output_type": "stream",
     "text": [
      "4931\n",
      "4931\n",
      "-------------------------\n",
      "1643\n",
      "1643\n",
      "-------------------------\n",
      "1644\n",
      "1644\n",
      "-------------------------\n"
     ]
    }
   ],
   "source": [
    "print(len(images_data_train))\n",
    "print(len(age_gender_train))\n",
    "\n",
    "print('-------------------------')\n",
    "print(len(images_data_val))\n",
    "print(len(age_gender_val))\n",
    "print('-------------------------')\n",
    "\n",
    "\n",
    "print(len(images_data_test))\n",
    "print(len(age_gender_test))\n",
    "print('-------------------------')\n",
    "\n",
    "\n"
   ]
  },
  {
   "cell_type": "code",
   "execution_count": 8,
   "metadata": {},
   "outputs": [],
   "source": [
    "images_data_train_Young_Male = []  # 4,133/1,378/1,378\n",
    "age_gender_train_Young_Male = []  \n",
    "\n",
    "images_data_train_Young_Female = [] # 4,931/1,643/1,644\n",
    "age_gender_train_Young_Female = []\n",
    "\n",
    "images_data_train_Old_Male = []  # 3,301/1,101/1,100\n",
    "age_gender_train_Old_Male = []\n",
    "\n",
    "images_data_train_Old_Female = []   # 1,858/619/619\n",
    "age_gender_train_Old_Female = []\n",
    "\n",
    "#####################################\n",
    "\n",
    "images_data_val_Young_Male = []\n",
    "age_gender_val_Young_Male = []\n",
    "\n",
    "images_data_val_Young_Female = []\n",
    "age_gender_val_Young_Female = []\n",
    "\n",
    "images_data_val_Old_Male = []\n",
    "age_gender_val_Old_Male = []\n",
    "\n",
    "images_data_val_Old_Female = []\n",
    "age_gender_val_Old_Female = []\n",
    "\n",
    "#####################################\n",
    "\n",
    "images_data_test_Young_Male = []\n",
    "age_gender_test_Young_Male = []\n",
    "\n",
    "images_data_test_Young_Female = []\n",
    "age_gender_test_Young_Female = []\n",
    "\n",
    "images_data_test_Old_Male = []\n",
    "age_gender_test_Old_Male = []\n",
    "\n",
    "images_data_test_Old_Female = []\n",
    "age_gender_test_Old_Female = []\n",
    "\n",
    "#####################################\n",
    "\n",
    "\n"
   ]
  },
  {
   "cell_type": "code",
   "execution_count": 9,
   "metadata": {},
   "outputs": [],
   "source": [
    "for k in range(len(images_data)):\n",
    "    if int(age_gender[k][0]) == 1:\n",
    "        #print('(1: Young (age ≤ 35)):')\n",
    "        if int(age_gender[k][1]) == 0:\n",
    "            #print('(0: Male):')\n",
    "            # 4,133/1,378/1,378\n",
    "            if len(images_data_train_Young_Male) < 4133:\n",
    "                images_data_train_Young_Male.append(images_data[k])\n",
    "                age_gender_train_Young_Male.append(age_gender[k])\n",
    "            elif len(images_data_val_Young_Male) < 1378:\n",
    "                images_data_val_Young_Male.append(images_data[k])\n",
    "                age_gender_val_Young_Male.append(age_gender[k])\n",
    "            elif len(images_data_test_Young_Male) < 1378:\n",
    "                images_data_test_Young_Male.append(images_data[k])\n",
    "                age_gender_test_Young_Male.append(age_gender[k])\n",
    "        elif int(age_gender[k][1]) == 1:\n",
    "            #print('(1: Female):')\n",
    "            # 4,931/1,643/1,644\n",
    "            if len(images_data_train_Young_Female) < 4931:\n",
    "                images_data_train_Young_Female.append(images_data[k])\n",
    "                age_gender_train_Young_Female.append(age_gender[k])\n",
    "            elif len(images_data_val_Young_Female) < 1643:\n",
    "                images_data_val_Young_Female.append(images_data[k])\n",
    "                age_gender_val_Young_Female.append(age_gender[k])\n",
    "            elif len(images_data_test_Young_Female) < 1644:\n",
    "                images_data_test_Young_Female.append(images_data[k])\n",
    "                age_gender_test_Young_Female.append(age_gender[k])\n",
    "    elif int(age_gender[k][0]) == 0:\n",
    "        #print('(0: Old (age > 35)):')\n",
    "        if int(age_gender[k][1]) == 0:\n",
    "            #print('(0: Male):')\n",
    "            #3,301/1,101/1,100\n",
    "            if len(images_data_train_Old_Male) < 3301:\n",
    "                images_data_train_Old_Male.append(images_data[k])\n",
    "                age_gender_train_Old_Male.append(age_gender[k])\n",
    "            elif len(images_data_val_Old_Male) < 1101:\n",
    "                images_data_val_Old_Male.append(images_data[k])\n",
    "                age_gender_val_Old_Male.append(age_gender[k])\n",
    "            elif len(images_data_test_Old_Male) < 1100:\n",
    "                images_data_test_Old_Male.append(images_data[k])\n",
    "                age_gender_test_Old_Male.append(age_gender[k])\n",
    "        elif int(age_gender[k][1]) == 1:\n",
    "            #print('(1: Female):')\n",
    "            #1,858/619/619\n",
    "            if len(images_data_train_Old_Female) < 1858:\n",
    "                images_data_train_Old_Female.append(images_data[k])\n",
    "                age_gender_train_Old_Female.append(age_gender[k])\n",
    "            elif len(images_data_val_Old_Female) < 619:\n",
    "                images_data_val_Old_Female.append(images_data[k])\n",
    "                age_gender_val_Old_Female.append(age_gender[k])\n",
    "            elif len(images_data_test_Old_Female) < 619:\n",
    "                images_data_test_Old_Female.append(images_data[k])\n",
    "                age_gender_test_Old_Female.append(age_gender[k])\n",
    "        \n",
    "    #print(k)\n",
    "    #print(age_gender[k])\n",
    "   \n",
    "    #break\n"
   ]
  },
  {
   "cell_type": "code",
   "execution_count": 10,
   "metadata": {},
   "outputs": [
    {
     "name": "stdout",
     "output_type": "stream",
     "text": [
      "images_data_train_Young_Male: 4133\n",
      "4133\n",
      "images_data_train_Young_Female: 4931\n",
      "4931\n",
      "images_data_train_Old_Male: 3301\n",
      "3301\n",
      "images_data_train_Old_Female: 1858\n",
      "1858\n",
      "---------------    Val   ---------------------------\n",
      "1378\n",
      "1378\n",
      "1643\n",
      "1643\n",
      "1101\n",
      "1101\n",
      "619\n",
      "619\n",
      "-----------------  Test -------------------------\n",
      "------------------------------------------\n",
      "1378\n",
      "1378\n",
      "1644\n",
      "1644\n",
      "1100\n",
      "1100\n",
      "619\n",
      "619\n",
      "------------------------------------------\n"
     ]
    }
   ],
   "source": [
    "print('images_data_train_Young_Male:', len(images_data_train_Young_Male))  # 4,133/1,378/1,378\n",
    "print(len(age_gender_train_Young_Male))  \n",
    "\n",
    "\n",
    "\n",
    "print('images_data_train_Young_Female:', len(images_data_train_Young_Female)) # 4,931/1,643/1,644\n",
    "print(len(age_gender_train_Young_Female))\n",
    "\n",
    "\n",
    "\n",
    "print('images_data_train_Old_Male:', len(images_data_train_Old_Male))  # 3,301/1,101/1,100\n",
    "print(len(age_gender_train_Old_Male))\n",
    "\n",
    "\n",
    "\n",
    "\n",
    "print('images_data_train_Old_Female:', len(images_data_train_Old_Female))   # 1,858/619/619\n",
    "print(len(age_gender_train_Old_Female))\n",
    "print('---------------    Val   ---------------------------')\n",
    "#####################################\n",
    "\n",
    "\n",
    "\n",
    "\n",
    "print(len(images_data_val_Young_Male))\n",
    "print(len(age_gender_val_Young_Male))\n",
    "\n",
    "\n",
    "print(len(images_data_val_Young_Female))\n",
    "print(len(age_gender_val_Young_Female))\n",
    "\n",
    "\n",
    "print(len(images_data_val_Old_Male))\n",
    "print(len(age_gender_val_Old_Male))\n",
    "\n",
    "\n",
    "print(len(images_data_val_Old_Female))\n",
    "print(len(age_gender_val_Old_Female))\n",
    "print('-----------------  Test -------------------------')\n",
    "\n",
    "\n",
    "\n",
    "\n",
    "#####################################\n",
    "print('------------------------------------------')\n",
    "print(len(images_data_test_Young_Male))\n",
    "print(len(age_gender_test_Young_Male))\n",
    "\n",
    "print(len(images_data_test_Young_Female))\n",
    "print(len(age_gender_test_Young_Female))\n",
    "\n",
    "print(len(images_data_test_Old_Male))\n",
    "print(len(age_gender_test_Old_Male))\n",
    "\n",
    "print(len(images_data_test_Old_Female))\n",
    "print(len(age_gender_test_Old_Female))\n",
    "print('------------------------------------------')\n",
    "#####################################\n",
    "\n",
    "\n"
   ]
  },
  {
   "cell_type": "code",
   "execution_count": 11,
   "metadata": {},
   "outputs": [],
   "source": [
    "all_images_data_train = images_data_train_Young_Male + images_data_train_Young_Female + images_data_train_Old_Male + images_data_train_Old_Female\n",
    "all_images_data_val =  images_data_val_Young_Male + images_data_val_Young_Female + images_data_val_Old_Male + images_data_val_Old_Female\n",
    "all_images_data_test = images_data_test_Young_Male + images_data_test_Young_Female + images_data_test_Old_Male + images_data_test_Old_Female\n",
    "\n",
    "all_age_gender_train = age_gender_train_Young_Male + age_gender_train_Young_Female + age_gender_train_Old_Male + age_gender_train_Old_Female\n",
    "all_age_gender_val =  age_gender_val_Young_Male + age_gender_val_Young_Female + age_gender_val_Old_Male + age_gender_val_Old_Female\n",
    "all_age_gender_test = age_gender_test_Young_Male + age_gender_test_Young_Female + age_gender_test_Old_Male + age_gender_test_Old_Female\n"
   ]
  },
  {
   "cell_type": "code",
   "execution_count": 12,
   "metadata": {},
   "outputs": [
    {
     "name": "stdout",
     "output_type": "stream",
     "text": [
      "14223\n",
      "4741\n",
      "4741\n"
     ]
    }
   ],
   "source": [
    "print(len(all_images_data_train))\n",
    "print(len(all_images_data_val))\n",
    "print(len(all_images_data_test))"
   ]
  },
  {
   "cell_type": "code",
   "execution_count": 13,
   "metadata": {},
   "outputs": [
    {
     "data": {
      "text/plain": [
       "torch.Size([3, 200, 200])"
      ]
     },
     "execution_count": 13,
     "metadata": {},
     "output_type": "execute_result"
    }
   ],
   "source": [
    "all_images_data_train[0].shape"
   ]
  },
  {
   "cell_type": "code",
   "execution_count": 14,
   "metadata": {},
   "outputs": [
    {
     "name": "stdout",
     "output_type": "stream",
     "text": [
      "14223\n",
      "4741\n",
      "4741\n"
     ]
    }
   ],
   "source": [
    "print(len(all_age_gender_train))\n",
    "print(len(all_age_gender_val))\n",
    "print(len(all_age_gender_test))\n"
   ]
  },
  {
   "cell_type": "code",
   "execution_count": 49,
   "metadata": {},
   "outputs": [
    {
     "name": "stdout",
     "output_type": "stream",
     "text": [
      "<class 'list'>\n",
      "<class 'list'>\n"
     ]
    }
   ],
   "source": [
    "print(type(all_images_data_train))\n",
    "print(type(all_images_data_train))"
   ]
  },
  {
   "cell_type": "code",
   "execution_count": 60,
   "metadata": {},
   "outputs": [
    {
     "data": {
      "text/plain": [
       "[tensor([1, 0]),\n",
       " tensor([1, 0]),\n",
       " tensor([1, 0]),\n",
       " tensor([1, 0]),\n",
       " tensor([1, 0]),\n",
       " tensor([1, 0]),\n",
       " tensor([1, 0]),\n",
       " tensor([1, 0]),\n",
       " tensor([1, 0]),\n",
       " tensor([1, 0]),\n",
       " tensor([1, 0]),\n",
       " tensor([1, 0]),\n",
       " tensor([1, 0]),\n",
       " tensor([1, 0]),\n",
       " tensor([1, 0]),\n",
       " tensor([1, 0]),\n",
       " tensor([1, 0]),\n",
       " tensor([1, 0]),\n",
       " tensor([1, 0]),\n",
       " tensor([1, 0]),\n",
       " tensor([1, 0]),\n",
       " tensor([1, 0]),\n",
       " tensor([1, 0]),\n",
       " tensor([1, 0]),\n",
       " tensor([1, 0]),\n",
       " tensor([1, 0]),\n",
       " tensor([1, 0]),\n",
       " tensor([1, 0]),\n",
       " tensor([1, 0]),\n",
       " tensor([1, 0]),\n",
       " tensor([1, 0]),\n",
       " tensor([1, 0]),\n",
       " tensor([1, 0]),\n",
       " tensor([1, 0]),\n",
       " tensor([1, 0]),\n",
       " tensor([1, 0]),\n",
       " tensor([1, 0]),\n",
       " tensor([1, 0]),\n",
       " tensor([1, 0]),\n",
       " tensor([1, 0]),\n",
       " tensor([1, 0]),\n",
       " tensor([1, 0]),\n",
       " tensor([1, 0]),\n",
       " tensor([1, 0]),\n",
       " tensor([1, 0]),\n",
       " tensor([1, 0]),\n",
       " tensor([1, 0]),\n",
       " tensor([1, 0]),\n",
       " tensor([1, 0]),\n",
       " tensor([1, 0]),\n",
       " tensor([1, 0]),\n",
       " tensor([1, 0]),\n",
       " tensor([1, 0]),\n",
       " tensor([1, 0]),\n",
       " tensor([1, 0]),\n",
       " tensor([1, 0]),\n",
       " tensor([1, 0]),\n",
       " tensor([1, 0]),\n",
       " tensor([1, 0]),\n",
       " tensor([1, 0]),\n",
       " tensor([1, 0]),\n",
       " tensor([1, 0]),\n",
       " tensor([1, 0]),\n",
       " tensor([1, 0]),\n",
       " tensor([1, 0]),\n",
       " tensor([1, 0]),\n",
       " tensor([1, 0]),\n",
       " tensor([1, 0]),\n",
       " tensor([1, 0]),\n",
       " tensor([1, 0]),\n",
       " tensor([1, 0]),\n",
       " tensor([1, 0]),\n",
       " tensor([1, 0]),\n",
       " tensor([1, 0]),\n",
       " tensor([1, 0]),\n",
       " tensor([1, 0]),\n",
       " tensor([1, 0]),\n",
       " tensor([1, 0]),\n",
       " tensor([1, 0]),\n",
       " tensor([1, 0]),\n",
       " tensor([1, 0]),\n",
       " tensor([1, 0]),\n",
       " tensor([1, 0]),\n",
       " tensor([1, 0]),\n",
       " tensor([1, 0]),\n",
       " tensor([1, 0]),\n",
       " tensor([1, 0]),\n",
       " tensor([1, 0]),\n",
       " tensor([1, 0]),\n",
       " tensor([1, 0]),\n",
       " tensor([1, 0]),\n",
       " tensor([1, 0]),\n",
       " tensor([1, 0]),\n",
       " tensor([1, 0]),\n",
       " tensor([1, 0]),\n",
       " tensor([1, 0]),\n",
       " tensor([1, 0]),\n",
       " tensor([1, 0]),\n",
       " tensor([1, 0]),\n",
       " tensor([1, 0]),\n",
       " tensor([1, 0]),\n",
       " tensor([1, 0]),\n",
       " tensor([1, 0]),\n",
       " tensor([1, 0]),\n",
       " tensor([1, 0]),\n",
       " tensor([1, 0]),\n",
       " tensor([1, 0]),\n",
       " tensor([1, 0]),\n",
       " tensor([1, 0]),\n",
       " tensor([1, 0]),\n",
       " tensor([1, 0]),\n",
       " tensor([1, 0]),\n",
       " tensor([1, 0]),\n",
       " tensor([1, 0]),\n",
       " tensor([1, 0]),\n",
       " tensor([1, 0]),\n",
       " tensor([1, 0]),\n",
       " tensor([1, 0]),\n",
       " tensor([1, 0]),\n",
       " tensor([1, 0]),\n",
       " tensor([1, 0]),\n",
       " tensor([1, 0]),\n",
       " tensor([1, 0]),\n",
       " tensor([1, 0]),\n",
       " tensor([1, 0]),\n",
       " tensor([1, 0]),\n",
       " tensor([1, 0]),\n",
       " tensor([1, 0]),\n",
       " tensor([1, 0]),\n",
       " tensor([1, 0]),\n",
       " tensor([1, 0]),\n",
       " tensor([1, 0]),\n",
       " tensor([1, 0]),\n",
       " tensor([1, 0]),\n",
       " tensor([1, 0]),\n",
       " tensor([1, 0]),\n",
       " tensor([1, 0]),\n",
       " tensor([1, 0]),\n",
       " tensor([1, 0]),\n",
       " tensor([1, 0]),\n",
       " tensor([1, 0]),\n",
       " tensor([1, 0]),\n",
       " tensor([1, 0]),\n",
       " tensor([1, 0]),\n",
       " tensor([1, 0]),\n",
       " tensor([1, 0]),\n",
       " tensor([1, 0]),\n",
       " tensor([1, 0]),\n",
       " tensor([1, 0]),\n",
       " tensor([1, 0]),\n",
       " tensor([1, 0]),\n",
       " tensor([1, 0]),\n",
       " tensor([1, 0]),\n",
       " tensor([1, 0]),\n",
       " tensor([1, 0]),\n",
       " tensor([1, 0]),\n",
       " tensor([1, 0]),\n",
       " tensor([1, 0]),\n",
       " tensor([1, 0]),\n",
       " tensor([1, 0]),\n",
       " tensor([1, 0]),\n",
       " tensor([1, 0]),\n",
       " tensor([1, 0]),\n",
       " tensor([1, 0]),\n",
       " tensor([1, 0]),\n",
       " tensor([1, 0]),\n",
       " tensor([1, 0]),\n",
       " tensor([1, 0]),\n",
       " tensor([1, 0]),\n",
       " tensor([1, 0]),\n",
       " tensor([1, 0]),\n",
       " tensor([1, 0]),\n",
       " tensor([1, 0]),\n",
       " tensor([1, 0]),\n",
       " tensor([1, 0]),\n",
       " tensor([1, 0]),\n",
       " tensor([1, 0]),\n",
       " tensor([1, 0]),\n",
       " tensor([1, 0]),\n",
       " tensor([1, 0]),\n",
       " tensor([1, 0]),\n",
       " tensor([1, 0]),\n",
       " tensor([1, 0]),\n",
       " tensor([1, 0]),\n",
       " tensor([1, 0]),\n",
       " tensor([1, 0]),\n",
       " tensor([1, 0]),\n",
       " tensor([1, 0]),\n",
       " tensor([1, 0]),\n",
       " tensor([1, 0]),\n",
       " tensor([1, 0]),\n",
       " tensor([1, 0]),\n",
       " tensor([1, 0]),\n",
       " tensor([1, 0]),\n",
       " tensor([1, 0]),\n",
       " tensor([1, 0]),\n",
       " tensor([1, 0]),\n",
       " tensor([1, 0]),\n",
       " tensor([1, 0]),\n",
       " tensor([1, 0]),\n",
       " tensor([1, 0]),\n",
       " tensor([1, 0]),\n",
       " tensor([1, 0]),\n",
       " tensor([1, 0]),\n",
       " tensor([1, 0]),\n",
       " tensor([1, 0]),\n",
       " tensor([1, 0]),\n",
       " tensor([1, 0]),\n",
       " tensor([1, 0]),\n",
       " tensor([1, 0]),\n",
       " tensor([1, 0]),\n",
       " tensor([1, 0]),\n",
       " tensor([1, 0]),\n",
       " tensor([1, 0]),\n",
       " tensor([1, 0]),\n",
       " tensor([1, 0]),\n",
       " tensor([1, 0]),\n",
       " tensor([1, 0]),\n",
       " tensor([1, 0]),\n",
       " tensor([1, 0]),\n",
       " tensor([1, 0]),\n",
       " tensor([1, 0]),\n",
       " tensor([1, 0]),\n",
       " tensor([1, 0]),\n",
       " tensor([1, 0]),\n",
       " tensor([1, 0]),\n",
       " tensor([1, 0]),\n",
       " tensor([1, 0]),\n",
       " tensor([1, 0]),\n",
       " tensor([1, 0]),\n",
       " tensor([1, 0]),\n",
       " tensor([1, 0]),\n",
       " tensor([1, 0]),\n",
       " tensor([1, 0]),\n",
       " tensor([1, 0]),\n",
       " tensor([1, 0]),\n",
       " tensor([1, 0]),\n",
       " tensor([1, 0]),\n",
       " tensor([1, 0]),\n",
       " tensor([1, 0]),\n",
       " tensor([1, 0]),\n",
       " tensor([1, 0]),\n",
       " tensor([1, 0]),\n",
       " tensor([1, 0]),\n",
       " tensor([1, 0]),\n",
       " tensor([1, 0]),\n",
       " tensor([1, 0]),\n",
       " tensor([1, 0]),\n",
       " tensor([1, 0]),\n",
       " tensor([1, 0]),\n",
       " tensor([1, 0]),\n",
       " tensor([1, 0]),\n",
       " tensor([1, 0]),\n",
       " tensor([1, 0]),\n",
       " tensor([1, 0]),\n",
       " tensor([1, 0]),\n",
       " tensor([1, 0]),\n",
       " tensor([1, 0]),\n",
       " tensor([1, 0]),\n",
       " tensor([1, 0]),\n",
       " tensor([1, 0]),\n",
       " tensor([1, 0]),\n",
       " tensor([1, 0]),\n",
       " tensor([1, 0]),\n",
       " tensor([1, 0]),\n",
       " tensor([1, 0]),\n",
       " tensor([1, 0]),\n",
       " tensor([1, 0]),\n",
       " tensor([1, 0]),\n",
       " tensor([1, 0]),\n",
       " tensor([1, 0]),\n",
       " tensor([1, 0]),\n",
       " tensor([1, 0]),\n",
       " tensor([1, 0]),\n",
       " tensor([1, 0]),\n",
       " tensor([1, 0]),\n",
       " tensor([1, 0]),\n",
       " tensor([1, 0]),\n",
       " tensor([1, 0]),\n",
       " tensor([1, 0]),\n",
       " tensor([1, 0]),\n",
       " tensor([1, 0]),\n",
       " tensor([1, 0]),\n",
       " tensor([1, 0]),\n",
       " tensor([1, 0]),\n",
       " tensor([1, 0]),\n",
       " tensor([1, 0]),\n",
       " tensor([1, 0]),\n",
       " tensor([1, 0]),\n",
       " tensor([1, 0]),\n",
       " tensor([1, 0]),\n",
       " tensor([1, 0]),\n",
       " tensor([1, 0]),\n",
       " tensor([1, 0]),\n",
       " tensor([1, 0]),\n",
       " tensor([1, 0]),\n",
       " tensor([1, 0]),\n",
       " tensor([1, 0]),\n",
       " tensor([1, 0]),\n",
       " tensor([1, 0]),\n",
       " tensor([1, 0]),\n",
       " tensor([1, 0]),\n",
       " tensor([1, 0]),\n",
       " tensor([1, 0]),\n",
       " tensor([1, 0]),\n",
       " tensor([1, 0]),\n",
       " tensor([1, 0]),\n",
       " tensor([1, 0]),\n",
       " tensor([1, 0]),\n",
       " tensor([1, 0]),\n",
       " tensor([1, 0]),\n",
       " tensor([1, 0]),\n",
       " tensor([1, 0]),\n",
       " tensor([1, 0]),\n",
       " tensor([1, 0]),\n",
       " tensor([1, 0]),\n",
       " tensor([1, 0]),\n",
       " tensor([1, 0]),\n",
       " tensor([1, 0]),\n",
       " tensor([1, 0]),\n",
       " tensor([1, 0]),\n",
       " tensor([1, 0]),\n",
       " tensor([1, 0]),\n",
       " tensor([1, 0]),\n",
       " tensor([1, 0]),\n",
       " tensor([1, 0]),\n",
       " tensor([1, 0]),\n",
       " tensor([1, 0]),\n",
       " tensor([1, 0]),\n",
       " tensor([1, 0]),\n",
       " tensor([1, 0]),\n",
       " tensor([1, 0]),\n",
       " tensor([1, 0]),\n",
       " tensor([1, 0]),\n",
       " tensor([1, 0]),\n",
       " tensor([1, 0]),\n",
       " tensor([1, 0]),\n",
       " tensor([1, 0]),\n",
       " tensor([1, 0]),\n",
       " tensor([1, 0]),\n",
       " tensor([1, 0]),\n",
       " tensor([1, 0]),\n",
       " tensor([1, 0]),\n",
       " tensor([1, 0]),\n",
       " tensor([1, 0]),\n",
       " tensor([1, 0]),\n",
       " tensor([1, 0]),\n",
       " tensor([1, 0]),\n",
       " tensor([1, 0]),\n",
       " tensor([1, 0]),\n",
       " tensor([1, 0]),\n",
       " tensor([1, 0]),\n",
       " tensor([1, 0]),\n",
       " tensor([1, 0]),\n",
       " tensor([1, 0]),\n",
       " tensor([1, 0]),\n",
       " tensor([1, 0]),\n",
       " tensor([1, 0]),\n",
       " tensor([1, 0]),\n",
       " tensor([1, 0]),\n",
       " tensor([1, 0]),\n",
       " tensor([1, 0]),\n",
       " tensor([1, 0]),\n",
       " tensor([1, 0]),\n",
       " tensor([1, 0]),\n",
       " tensor([1, 0]),\n",
       " tensor([1, 0]),\n",
       " tensor([1, 0]),\n",
       " tensor([1, 0]),\n",
       " tensor([1, 0]),\n",
       " tensor([1, 0]),\n",
       " tensor([1, 0]),\n",
       " tensor([1, 0]),\n",
       " tensor([1, 0]),\n",
       " tensor([1, 0]),\n",
       " tensor([1, 0]),\n",
       " tensor([1, 0]),\n",
       " tensor([1, 0]),\n",
       " tensor([1, 0]),\n",
       " tensor([1, 0]),\n",
       " tensor([1, 0]),\n",
       " tensor([1, 0]),\n",
       " tensor([1, 0]),\n",
       " tensor([1, 0]),\n",
       " tensor([1, 0]),\n",
       " tensor([1, 0]),\n",
       " tensor([1, 0]),\n",
       " tensor([1, 0]),\n",
       " tensor([1, 0]),\n",
       " tensor([1, 0]),\n",
       " tensor([1, 0]),\n",
       " tensor([1, 0]),\n",
       " tensor([1, 0]),\n",
       " tensor([1, 0]),\n",
       " tensor([1, 0]),\n",
       " tensor([1, 0]),\n",
       " tensor([1, 0]),\n",
       " tensor([1, 0]),\n",
       " tensor([1, 0]),\n",
       " tensor([1, 0]),\n",
       " tensor([1, 0]),\n",
       " tensor([1, 0]),\n",
       " tensor([1, 0]),\n",
       " tensor([1, 0]),\n",
       " tensor([1, 0]),\n",
       " tensor([1, 0]),\n",
       " tensor([1, 0]),\n",
       " tensor([1, 0]),\n",
       " tensor([1, 0]),\n",
       " tensor([1, 0]),\n",
       " tensor([1, 0]),\n",
       " tensor([1, 0]),\n",
       " tensor([1, 0]),\n",
       " tensor([1, 0]),\n",
       " tensor([1, 0]),\n",
       " tensor([1, 0]),\n",
       " tensor([1, 0]),\n",
       " tensor([1, 0]),\n",
       " tensor([1, 0]),\n",
       " tensor([1, 0]),\n",
       " tensor([1, 0]),\n",
       " tensor([1, 0]),\n",
       " tensor([1, 0]),\n",
       " tensor([1, 0]),\n",
       " tensor([1, 0]),\n",
       " tensor([1, 0]),\n",
       " tensor([1, 0]),\n",
       " tensor([1, 0]),\n",
       " tensor([1, 0]),\n",
       " tensor([1, 0]),\n",
       " tensor([1, 0]),\n",
       " tensor([1, 0]),\n",
       " tensor([1, 0]),\n",
       " tensor([1, 0]),\n",
       " tensor([1, 0]),\n",
       " tensor([1, 0]),\n",
       " tensor([1, 0]),\n",
       " tensor([1, 0]),\n",
       " tensor([1, 0]),\n",
       " tensor([1, 0]),\n",
       " tensor([1, 0]),\n",
       " tensor([1, 0]),\n",
       " tensor([1, 0]),\n",
       " tensor([1, 0]),\n",
       " tensor([1, 0]),\n",
       " tensor([1, 0]),\n",
       " tensor([1, 0]),\n",
       " tensor([1, 0]),\n",
       " tensor([1, 0]),\n",
       " tensor([1, 0]),\n",
       " tensor([1, 0]),\n",
       " tensor([1, 0]),\n",
       " tensor([1, 0]),\n",
       " tensor([1, 0]),\n",
       " tensor([1, 0]),\n",
       " tensor([1, 0]),\n",
       " tensor([1, 0]),\n",
       " tensor([1, 0]),\n",
       " tensor([1, 0]),\n",
       " tensor([1, 0]),\n",
       " tensor([1, 0]),\n",
       " tensor([1, 0]),\n",
       " tensor([1, 0]),\n",
       " tensor([1, 0]),\n",
       " tensor([1, 0]),\n",
       " tensor([1, 0]),\n",
       " tensor([1, 0]),\n",
       " tensor([1, 0]),\n",
       " tensor([1, 0]),\n",
       " tensor([1, 0]),\n",
       " tensor([1, 0]),\n",
       " tensor([1, 0]),\n",
       " tensor([1, 0]),\n",
       " tensor([1, 0]),\n",
       " tensor([1, 0]),\n",
       " tensor([1, 0]),\n",
       " tensor([1, 0]),\n",
       " tensor([1, 0]),\n",
       " tensor([1, 0]),\n",
       " tensor([1, 0]),\n",
       " tensor([1, 0]),\n",
       " tensor([1, 0]),\n",
       " tensor([1, 0]),\n",
       " tensor([1, 0]),\n",
       " tensor([1, 0]),\n",
       " tensor([1, 0]),\n",
       " tensor([1, 0]),\n",
       " tensor([1, 0]),\n",
       " tensor([1, 0]),\n",
       " tensor([1, 0]),\n",
       " tensor([1, 0]),\n",
       " tensor([1, 0]),\n",
       " tensor([1, 0]),\n",
       " tensor([1, 0]),\n",
       " tensor([1, 0]),\n",
       " tensor([1, 0]),\n",
       " tensor([1, 0]),\n",
       " tensor([1, 0]),\n",
       " tensor([1, 0]),\n",
       " tensor([1, 0]),\n",
       " tensor([1, 0]),\n",
       " tensor([1, 0]),\n",
       " tensor([1, 0]),\n",
       " tensor([1, 0]),\n",
       " tensor([1, 0]),\n",
       " tensor([1, 0]),\n",
       " tensor([1, 0]),\n",
       " tensor([1, 0]),\n",
       " tensor([1, 0]),\n",
       " tensor([1, 0]),\n",
       " tensor([1, 0]),\n",
       " tensor([1, 0]),\n",
       " tensor([1, 0]),\n",
       " tensor([1, 0]),\n",
       " tensor([1, 0]),\n",
       " tensor([1, 0]),\n",
       " tensor([1, 0]),\n",
       " tensor([1, 0]),\n",
       " tensor([1, 0]),\n",
       " tensor([1, 0]),\n",
       " tensor([1, 0]),\n",
       " tensor([1, 0]),\n",
       " tensor([1, 0]),\n",
       " tensor([1, 0]),\n",
       " tensor([1, 0]),\n",
       " tensor([1, 0]),\n",
       " tensor([1, 0]),\n",
       " tensor([1, 0]),\n",
       " tensor([1, 0]),\n",
       " tensor([1, 0]),\n",
       " tensor([1, 0]),\n",
       " tensor([1, 0]),\n",
       " tensor([1, 0]),\n",
       " tensor([1, 0]),\n",
       " tensor([1, 0]),\n",
       " tensor([1, 0]),\n",
       " tensor([1, 0]),\n",
       " tensor([1, 0]),\n",
       " tensor([1, 0]),\n",
       " tensor([1, 0]),\n",
       " tensor([1, 0]),\n",
       " tensor([1, 0]),\n",
       " tensor([1, 0]),\n",
       " tensor([1, 0]),\n",
       " tensor([1, 0]),\n",
       " tensor([1, 0]),\n",
       " tensor([1, 0]),\n",
       " tensor([1, 0]),\n",
       " tensor([1, 0]),\n",
       " tensor([1, 0]),\n",
       " tensor([1, 0]),\n",
       " tensor([1, 0]),\n",
       " tensor([1, 0]),\n",
       " tensor([1, 0]),\n",
       " tensor([1, 0]),\n",
       " tensor([1, 0]),\n",
       " tensor([1, 0]),\n",
       " tensor([1, 0]),\n",
       " tensor([1, 0]),\n",
       " tensor([1, 0]),\n",
       " tensor([1, 0]),\n",
       " tensor([1, 0]),\n",
       " tensor([1, 0]),\n",
       " tensor([1, 0]),\n",
       " tensor([1, 0]),\n",
       " tensor([1, 0]),\n",
       " tensor([1, 0]),\n",
       " tensor([1, 0]),\n",
       " tensor([1, 0]),\n",
       " tensor([1, 0]),\n",
       " tensor([1, 0]),\n",
       " tensor([1, 0]),\n",
       " tensor([1, 0]),\n",
       " tensor([1, 0]),\n",
       " tensor([1, 0]),\n",
       " tensor([1, 0]),\n",
       " tensor([1, 0]),\n",
       " tensor([1, 0]),\n",
       " tensor([1, 0]),\n",
       " tensor([1, 0]),\n",
       " tensor([1, 0]),\n",
       " tensor([1, 0]),\n",
       " tensor([1, 0]),\n",
       " tensor([1, 0]),\n",
       " tensor([1, 0]),\n",
       " tensor([1, 0]),\n",
       " tensor([1, 0]),\n",
       " tensor([1, 0]),\n",
       " tensor([1, 0]),\n",
       " tensor([1, 0]),\n",
       " tensor([1, 0]),\n",
       " tensor([1, 0]),\n",
       " tensor([1, 0]),\n",
       " tensor([1, 0]),\n",
       " tensor([1, 0]),\n",
       " tensor([1, 0]),\n",
       " tensor([1, 0]),\n",
       " tensor([1, 0]),\n",
       " tensor([1, 0]),\n",
       " tensor([1, 0]),\n",
       " tensor([1, 0]),\n",
       " tensor([1, 0]),\n",
       " tensor([1, 0]),\n",
       " tensor([1, 0]),\n",
       " tensor([1, 0]),\n",
       " tensor([1, 0]),\n",
       " tensor([1, 0]),\n",
       " tensor([1, 0]),\n",
       " tensor([1, 0]),\n",
       " tensor([1, 0]),\n",
       " tensor([1, 0]),\n",
       " tensor([1, 0]),\n",
       " tensor([1, 0]),\n",
       " tensor([1, 0]),\n",
       " tensor([1, 0]),\n",
       " tensor([1, 0]),\n",
       " tensor([1, 0]),\n",
       " tensor([1, 0]),\n",
       " tensor([1, 0]),\n",
       " tensor([1, 0]),\n",
       " tensor([1, 0]),\n",
       " tensor([1, 0]),\n",
       " tensor([1, 0]),\n",
       " tensor([1, 0]),\n",
       " tensor([1, 0]),\n",
       " tensor([1, 0]),\n",
       " tensor([1, 0]),\n",
       " tensor([1, 0]),\n",
       " tensor([1, 0]),\n",
       " tensor([1, 0]),\n",
       " tensor([1, 0]),\n",
       " tensor([1, 0]),\n",
       " tensor([1, 0]),\n",
       " tensor([1, 0]),\n",
       " tensor([1, 0]),\n",
       " tensor([1, 0]),\n",
       " tensor([1, 0]),\n",
       " tensor([1, 0]),\n",
       " tensor([1, 0]),\n",
       " tensor([1, 0]),\n",
       " tensor([1, 0]),\n",
       " tensor([1, 0]),\n",
       " tensor([1, 0]),\n",
       " tensor([1, 0]),\n",
       " tensor([1, 0]),\n",
       " tensor([1, 0]),\n",
       " tensor([1, 0]),\n",
       " tensor([1, 0]),\n",
       " tensor([1, 0]),\n",
       " tensor([1, 0]),\n",
       " tensor([1, 0]),\n",
       " tensor([1, 0]),\n",
       " tensor([1, 0]),\n",
       " tensor([1, 0]),\n",
       " tensor([1, 0]),\n",
       " tensor([1, 0]),\n",
       " tensor([1, 0]),\n",
       " tensor([1, 0]),\n",
       " tensor([1, 0]),\n",
       " tensor([1, 0]),\n",
       " tensor([1, 0]),\n",
       " tensor([1, 0]),\n",
       " tensor([1, 0]),\n",
       " tensor([1, 0]),\n",
       " tensor([1, 0]),\n",
       " tensor([1, 0]),\n",
       " tensor([1, 0]),\n",
       " tensor([1, 0]),\n",
       " tensor([1, 0]),\n",
       " tensor([1, 0]),\n",
       " tensor([1, 0]),\n",
       " tensor([1, 0]),\n",
       " tensor([1, 0]),\n",
       " tensor([1, 0]),\n",
       " tensor([1, 0]),\n",
       " tensor([1, 0]),\n",
       " tensor([1, 0]),\n",
       " tensor([1, 0]),\n",
       " tensor([1, 0]),\n",
       " tensor([1, 0]),\n",
       " tensor([1, 0]),\n",
       " tensor([1, 0]),\n",
       " tensor([1, 0]),\n",
       " tensor([1, 0]),\n",
       " tensor([1, 0]),\n",
       " tensor([1, 0]),\n",
       " tensor([1, 0]),\n",
       " tensor([1, 0]),\n",
       " tensor([1, 0]),\n",
       " tensor([1, 0]),\n",
       " tensor([1, 0]),\n",
       " tensor([1, 0]),\n",
       " tensor([1, 0]),\n",
       " tensor([1, 0]),\n",
       " tensor([1, 0]),\n",
       " tensor([1, 0]),\n",
       " tensor([1, 0]),\n",
       " tensor([1, 0]),\n",
       " tensor([1, 0]),\n",
       " tensor([1, 0]),\n",
       " tensor([1, 0]),\n",
       " tensor([1, 0]),\n",
       " tensor([1, 0]),\n",
       " tensor([1, 0]),\n",
       " tensor([1, 0]),\n",
       " tensor([1, 0]),\n",
       " tensor([1, 0]),\n",
       " tensor([1, 0]),\n",
       " tensor([1, 0]),\n",
       " tensor([1, 0]),\n",
       " tensor([1, 0]),\n",
       " tensor([1, 0]),\n",
       " tensor([1, 0]),\n",
       " tensor([1, 0]),\n",
       " tensor([1, 0]),\n",
       " tensor([1, 0]),\n",
       " tensor([1, 0]),\n",
       " tensor([1, 0]),\n",
       " tensor([1, 0]),\n",
       " tensor([1, 0]),\n",
       " tensor([1, 0]),\n",
       " tensor([1, 0]),\n",
       " tensor([1, 0]),\n",
       " tensor([1, 0]),\n",
       " tensor([1, 0]),\n",
       " tensor([1, 0]),\n",
       " tensor([1, 0]),\n",
       " tensor([1, 0]),\n",
       " tensor([1, 0]),\n",
       " tensor([1, 0]),\n",
       " tensor([1, 0]),\n",
       " tensor([1, 0]),\n",
       " tensor([1, 0]),\n",
       " tensor([1, 0]),\n",
       " tensor([1, 0]),\n",
       " tensor([1, 0]),\n",
       " tensor([1, 0]),\n",
       " tensor([1, 0]),\n",
       " tensor([1, 0]),\n",
       " tensor([1, 0]),\n",
       " tensor([1, 0]),\n",
       " tensor([1, 0]),\n",
       " tensor([1, 0]),\n",
       " tensor([1, 0]),\n",
       " tensor([1, 0]),\n",
       " tensor([1, 0]),\n",
       " tensor([1, 0]),\n",
       " tensor([1, 0]),\n",
       " tensor([1, 0]),\n",
       " tensor([1, 0]),\n",
       " tensor([1, 0]),\n",
       " tensor([1, 0]),\n",
       " tensor([1, 0]),\n",
       " tensor([1, 0]),\n",
       " tensor([1, 0]),\n",
       " tensor([1, 0]),\n",
       " tensor([1, 0]),\n",
       " tensor([1, 0]),\n",
       " tensor([1, 0]),\n",
       " tensor([1, 0]),\n",
       " tensor([1, 0]),\n",
       " tensor([1, 0]),\n",
       " tensor([1, 0]),\n",
       " tensor([1, 0]),\n",
       " tensor([1, 0]),\n",
       " tensor([1, 0]),\n",
       " tensor([1, 0]),\n",
       " tensor([1, 0]),\n",
       " tensor([1, 0]),\n",
       " tensor([1, 0]),\n",
       " tensor([1, 0]),\n",
       " tensor([1, 0]),\n",
       " tensor([1, 0]),\n",
       " tensor([1, 0]),\n",
       " tensor([1, 0]),\n",
       " tensor([1, 0]),\n",
       " tensor([1, 0]),\n",
       " tensor([1, 0]),\n",
       " tensor([1, 0]),\n",
       " tensor([1, 0]),\n",
       " tensor([1, 0]),\n",
       " tensor([1, 0]),\n",
       " tensor([1, 0]),\n",
       " tensor([1, 0]),\n",
       " tensor([1, 0]),\n",
       " tensor([1, 0]),\n",
       " tensor([1, 0]),\n",
       " tensor([1, 0]),\n",
       " tensor([1, 0]),\n",
       " tensor([1, 0]),\n",
       " tensor([1, 0]),\n",
       " tensor([1, 0]),\n",
       " tensor([1, 0]),\n",
       " tensor([1, 0]),\n",
       " tensor([1, 0]),\n",
       " tensor([1, 0]),\n",
       " tensor([1, 0]),\n",
       " tensor([1, 0]),\n",
       " tensor([1, 0]),\n",
       " tensor([1, 0]),\n",
       " tensor([1, 0]),\n",
       " tensor([1, 0]),\n",
       " tensor([1, 0]),\n",
       " tensor([1, 0]),\n",
       " tensor([1, 0]),\n",
       " tensor([1, 0]),\n",
       " tensor([1, 0]),\n",
       " tensor([1, 0]),\n",
       " tensor([1, 0]),\n",
       " tensor([1, 0]),\n",
       " tensor([1, 0]),\n",
       " tensor([1, 0]),\n",
       " tensor([1, 0]),\n",
       " tensor([1, 0]),\n",
       " tensor([1, 0]),\n",
       " tensor([1, 0]),\n",
       " tensor([1, 0]),\n",
       " tensor([1, 0]),\n",
       " tensor([1, 0]),\n",
       " tensor([1, 0]),\n",
       " tensor([1, 0]),\n",
       " tensor([1, 0]),\n",
       " tensor([1, 0]),\n",
       " tensor([1, 0]),\n",
       " tensor([1, 0]),\n",
       " tensor([1, 0]),\n",
       " tensor([1, 0]),\n",
       " tensor([1, 0]),\n",
       " tensor([1, 0]),\n",
       " tensor([1, 0]),\n",
       " tensor([1, 0]),\n",
       " tensor([1, 0]),\n",
       " tensor([1, 0]),\n",
       " tensor([1, 0]),\n",
       " tensor([1, 0]),\n",
       " tensor([1, 0]),\n",
       " tensor([1, 0]),\n",
       " tensor([1, 0]),\n",
       " tensor([1, 0]),\n",
       " tensor([1, 0]),\n",
       " tensor([1, 0]),\n",
       " tensor([1, 0]),\n",
       " tensor([1, 0]),\n",
       " tensor([1, 0]),\n",
       " tensor([1, 0]),\n",
       " tensor([1, 0]),\n",
       " tensor([1, 0]),\n",
       " tensor([1, 0]),\n",
       " tensor([1, 0]),\n",
       " tensor([1, 0]),\n",
       " tensor([1, 0]),\n",
       " tensor([1, 0]),\n",
       " tensor([1, 0]),\n",
       " tensor([1, 0]),\n",
       " tensor([1, 0]),\n",
       " tensor([1, 0]),\n",
       " tensor([1, 0]),\n",
       " tensor([1, 0]),\n",
       " tensor([1, 0]),\n",
       " tensor([1, 0]),\n",
       " tensor([1, 0]),\n",
       " tensor([1, 0]),\n",
       " tensor([1, 0]),\n",
       " tensor([1, 0]),\n",
       " tensor([1, 0]),\n",
       " tensor([1, 0]),\n",
       " tensor([1, 0]),\n",
       " tensor([1, 0]),\n",
       " tensor([1, 0]),\n",
       " tensor([1, 0]),\n",
       " tensor([1, 0]),\n",
       " tensor([1, 0]),\n",
       " tensor([1, 0]),\n",
       " tensor([1, 0]),\n",
       " tensor([1, 0]),\n",
       " tensor([1, 0]),\n",
       " tensor([1, 0]),\n",
       " tensor([1, 0]),\n",
       " tensor([1, 0]),\n",
       " tensor([1, 0]),\n",
       " tensor([1, 0]),\n",
       " tensor([1, 0]),\n",
       " tensor([1, 0]),\n",
       " tensor([1, 0]),\n",
       " tensor([1, 0]),\n",
       " tensor([1, 0]),\n",
       " tensor([1, 0]),\n",
       " tensor([1, 0]),\n",
       " tensor([1, 0]),\n",
       " tensor([1, 0]),\n",
       " tensor([1, 0]),\n",
       " tensor([1, 0]),\n",
       " tensor([1, 0]),\n",
       " tensor([1, 0]),\n",
       " tensor([1, 0]),\n",
       " tensor([1, 0]),\n",
       " tensor([1, 0]),\n",
       " tensor([1, 0]),\n",
       " tensor([1, 0]),\n",
       " tensor([1, 0]),\n",
       " tensor([1, 0]),\n",
       " tensor([1, 0]),\n",
       " tensor([1, 0]),\n",
       " tensor([1, 0]),\n",
       " tensor([1, 0]),\n",
       " tensor([1, 0]),\n",
       " tensor([1, 0]),\n",
       " tensor([1, 0]),\n",
       " tensor([1, 0]),\n",
       " tensor([1, 0]),\n",
       " tensor([1, 0]),\n",
       " tensor([1, 0]),\n",
       " tensor([1, 0]),\n",
       " tensor([1, 0]),\n",
       " tensor([1, 0]),\n",
       " tensor([1, 0]),\n",
       " tensor([1, 0]),\n",
       " tensor([1, 0]),\n",
       " tensor([1, 0]),\n",
       " tensor([1, 0]),\n",
       " tensor([1, 0]),\n",
       " tensor([1, 0]),\n",
       " tensor([1, 0]),\n",
       " tensor([1, 0]),\n",
       " tensor([1, 0]),\n",
       " tensor([1, 0]),\n",
       " tensor([1, 0]),\n",
       " tensor([1, 0]),\n",
       " tensor([1, 0]),\n",
       " tensor([1, 0]),\n",
       " tensor([1, 0]),\n",
       " tensor([1, 0]),\n",
       " tensor([1, 0]),\n",
       " tensor([1, 0]),\n",
       " tensor([1, 0]),\n",
       " tensor([1, 0]),\n",
       " tensor([1, 0]),\n",
       " tensor([1, 0]),\n",
       " tensor([1, 0]),\n",
       " tensor([1, 0]),\n",
       " tensor([1, 0]),\n",
       " tensor([1, 0]),\n",
       " tensor([1, 0]),\n",
       " tensor([1, 0]),\n",
       " tensor([1, 0]),\n",
       " tensor([1, 0]),\n",
       " tensor([1, 0]),\n",
       " tensor([1, 0]),\n",
       " tensor([1, 0]),\n",
       " tensor([1, 0]),\n",
       " tensor([1, 0]),\n",
       " tensor([1, 0]),\n",
       " tensor([1, 0]),\n",
       " tensor([1, 0]),\n",
       " tensor([1, 0]),\n",
       " tensor([1, 0]),\n",
       " tensor([1, 0]),\n",
       " tensor([1, 0]),\n",
       " tensor([1, 0]),\n",
       " tensor([1, 0]),\n",
       " tensor([1, 0]),\n",
       " tensor([1, 0]),\n",
       " tensor([1, 0]),\n",
       " tensor([1, 0]),\n",
       " tensor([1, 0]),\n",
       " tensor([1, 0]),\n",
       " tensor([1, 0]),\n",
       " tensor([1, 0]),\n",
       " tensor([1, 0]),\n",
       " tensor([1, 0]),\n",
       " tensor([1, 0]),\n",
       " tensor([1, 0]),\n",
       " tensor([1, 0]),\n",
       " tensor([1, 0]),\n",
       " tensor([1, 0]),\n",
       " tensor([1, 0]),\n",
       " tensor([1, 0]),\n",
       " tensor([1, 0]),\n",
       " tensor([1, 0]),\n",
       " tensor([1, 0]),\n",
       " tensor([1, 0]),\n",
       " tensor([1, 0]),\n",
       " tensor([1, 0]),\n",
       " tensor([1, 0]),\n",
       " tensor([1, 0]),\n",
       " tensor([1, 0]),\n",
       " tensor([1, 0]),\n",
       " tensor([1, 0]),\n",
       " tensor([1, 0]),\n",
       " tensor([1, 0]),\n",
       " tensor([1, 0]),\n",
       " tensor([1, 0]),\n",
       " tensor([1, 0]),\n",
       " tensor([1, 0]),\n",
       " tensor([1, 0]),\n",
       " tensor([1, 0]),\n",
       " tensor([1, 0]),\n",
       " tensor([1, 0]),\n",
       " tensor([1, 0]),\n",
       " tensor([1, 0]),\n",
       " ...]"
      ]
     },
     "execution_count": 60,
     "metadata": {},
     "output_type": "execute_result"
    }
   ],
   "source": [
    "all_age_gender_test"
   ]
  },
  {
   "cell_type": "code",
   "execution_count": 53,
   "metadata": {},
   "outputs": [
    {
     "data": {
      "text/plain": [
       "list"
      ]
     },
     "execution_count": 53,
     "metadata": {},
     "output_type": "execute_result"
    }
   ],
   "source": [
    "type(all_age_gender_test)"
   ]
  },
  {
   "cell_type": "code",
   "execution_count": 50,
   "metadata": {},
   "outputs": [],
   "source": [
    "torch.save(all_age_gender_test, 'all_age_gender_test_tensor.pt')"
   ]
  },
  {
   "cell_type": "code",
   "execution_count": 51,
   "metadata": {},
   "outputs": [
    {
     "data": {
      "text/plain": [
       "'/gpfs/space/home/sulaiman/MM/UTKFace'"
      ]
     },
     "execution_count": 51,
     "metadata": {},
     "output_type": "execute_result"
    }
   ],
   "source": [
    "pwd"
   ]
  },
  {
   "cell_type": "code",
   "execution_count": 54,
   "metadata": {},
   "outputs": [
    {
     "name": "stdout",
     "output_type": "stream",
     "text": [
      "[tensor([1, 0]), tensor([1, 0]), tensor([1, 0]), tensor([1, 0]), tensor([1, 0]), tensor([1, 0]), tensor([1, 0]), tensor([1, 0]), tensor([1, 0]), tensor([1, 0]), tensor([1, 0]), tensor([1, 0]), tensor([1, 0]), tensor([1, 0]), tensor([1, 0]), tensor([1, 0]), tensor([1, 0]), tensor([1, 0]), tensor([1, 0]), tensor([1, 0]), tensor([1, 0]), tensor([1, 0]), tensor([1, 0]), tensor([1, 0]), tensor([1, 0]), tensor([1, 0]), tensor([1, 0]), tensor([1, 0]), tensor([1, 0]), tensor([1, 0]), tensor([1, 0]), tensor([1, 0]), tensor([1, 0]), tensor([1, 0]), tensor([1, 0]), tensor([1, 0]), tensor([1, 0]), tensor([1, 0]), tensor([1, 0]), tensor([1, 0]), tensor([1, 0]), tensor([1, 0]), tensor([1, 0]), tensor([1, 0]), tensor([1, 0]), tensor([1, 0]), tensor([1, 0]), tensor([1, 0]), tensor([1, 0]), tensor([1, 0]), tensor([1, 0]), tensor([1, 0]), tensor([1, 0]), tensor([1, 0]), tensor([1, 0]), tensor([1, 0]), tensor([1, 0]), tensor([1, 0]), tensor([1, 0]), tensor([1, 0]), tensor([1, 0]), tensor([1, 0]), tensor([1, 0]), tensor([1, 0]), tensor([1, 0]), tensor([1, 0]), tensor([1, 0]), tensor([1, 0]), tensor([1, 0]), tensor([1, 0]), tensor([1, 0]), tensor([1, 0]), tensor([1, 0]), tensor([1, 0]), tensor([1, 0]), tensor([1, 0]), tensor([1, 0]), tensor([1, 0]), tensor([1, 0]), tensor([1, 0]), tensor([1, 0]), tensor([1, 0]), tensor([1, 0]), tensor([1, 0]), tensor([1, 0]), tensor([1, 0]), tensor([1, 0]), tensor([1, 0]), tensor([1, 0]), tensor([1, 0]), tensor([1, 0]), tensor([1, 0]), tensor([1, 0]), tensor([1, 0]), tensor([1, 0]), tensor([1, 0]), tensor([1, 0]), tensor([1, 0]), tensor([1, 0]), tensor([1, 0]), tensor([1, 0]), tensor([1, 0]), tensor([1, 0]), tensor([1, 0]), tensor([1, 0]), tensor([1, 0]), tensor([1, 0]), tensor([1, 0]), tensor([1, 0]), tensor([1, 0]), tensor([1, 0]), tensor([1, 0]), tensor([1, 0]), tensor([1, 0]), tensor([1, 0]), tensor([1, 0]), tensor([1, 0]), tensor([1, 0]), tensor([1, 0]), tensor([1, 0]), tensor([1, 0]), tensor([1, 0]), tensor([1, 0]), tensor([1, 0]), tensor([1, 0]), tensor([1, 0]), tensor([1, 0]), tensor([1, 0]), tensor([1, 0]), tensor([1, 0]), tensor([1, 0]), tensor([1, 0]), tensor([1, 0]), tensor([1, 0]), tensor([1, 0]), tensor([1, 0]), tensor([1, 0]), tensor([1, 0]), tensor([1, 0]), tensor([1, 0]), tensor([1, 0]), tensor([1, 0]), tensor([1, 0]), tensor([1, 0]), tensor([1, 0]), tensor([1, 0]), tensor([1, 0]), tensor([1, 0]), tensor([1, 0]), tensor([1, 0]), tensor([1, 0]), tensor([1, 0]), tensor([1, 0]), tensor([1, 0]), tensor([1, 0]), tensor([1, 0]), tensor([1, 0]), tensor([1, 0]), tensor([1, 0]), tensor([1, 0]), tensor([1, 0]), tensor([1, 0]), tensor([1, 0]), tensor([1, 0]), tensor([1, 0]), tensor([1, 0]), tensor([1, 0]), tensor([1, 0]), tensor([1, 0]), tensor([1, 0]), tensor([1, 0]), tensor([1, 0]), tensor([1, 0]), tensor([1, 0]), tensor([1, 0]), tensor([1, 0]), tensor([1, 0]), tensor([1, 0]), tensor([1, 0]), tensor([1, 0]), tensor([1, 0]), tensor([1, 0]), tensor([1, 0]), tensor([1, 0]), tensor([1, 0]), tensor([1, 0]), tensor([1, 0]), tensor([1, 0]), tensor([1, 0]), tensor([1, 0]), tensor([1, 0]), tensor([1, 0]), tensor([1, 0]), tensor([1, 0]), tensor([1, 0]), tensor([1, 0]), tensor([1, 0]), tensor([1, 0]), tensor([1, 0]), tensor([1, 0]), tensor([1, 0]), tensor([1, 0]), tensor([1, 0]), tensor([1, 0]), tensor([1, 0]), tensor([1, 0]), tensor([1, 0]), tensor([1, 0]), tensor([1, 0]), tensor([1, 0]), tensor([1, 0]), tensor([1, 0]), tensor([1, 0]), tensor([1, 0]), tensor([1, 0]), tensor([1, 0]), tensor([1, 0]), tensor([1, 0]), tensor([1, 0]), tensor([1, 0]), tensor([1, 0]), tensor([1, 0]), tensor([1, 0]), tensor([1, 0]), tensor([1, 0]), tensor([1, 0]), tensor([1, 0]), tensor([1, 0]), tensor([1, 0]), tensor([1, 0]), tensor([1, 0]), tensor([1, 0]), tensor([1, 0]), tensor([1, 0]), tensor([1, 0]), tensor([1, 0]), tensor([1, 0]), tensor([1, 0]), tensor([1, 0]), tensor([1, 0]), tensor([1, 0]), tensor([1, 0]), tensor([1, 0]), tensor([1, 0]), tensor([1, 0]), tensor([1, 0]), tensor([1, 0]), tensor([1, 0]), tensor([1, 0]), tensor([1, 0]), tensor([1, 0]), tensor([1, 0]), tensor([1, 0]), tensor([1, 0]), tensor([1, 0]), tensor([1, 0]), tensor([1, 0]), tensor([1, 0]), tensor([1, 0]), tensor([1, 0]), tensor([1, 0]), tensor([1, 0]), tensor([1, 0]), tensor([1, 0]), tensor([1, 0]), tensor([1, 0]), tensor([1, 0]), tensor([1, 0]), tensor([1, 0]), tensor([1, 0]), tensor([1, 0]), tensor([1, 0]), tensor([1, 0]), tensor([1, 0]), tensor([1, 0]), tensor([1, 0]), tensor([1, 0]), tensor([1, 0]), tensor([1, 0]), tensor([1, 0]), tensor([1, 0]), tensor([1, 0]), tensor([1, 0]), tensor([1, 0]), tensor([1, 0]), tensor([1, 0]), tensor([1, 0]), tensor([1, 0]), tensor([1, 0]), tensor([1, 0]), tensor([1, 0]), tensor([1, 0]), tensor([1, 0]), tensor([1, 0]), tensor([1, 0]), tensor([1, 0]), tensor([1, 0]), tensor([1, 0]), tensor([1, 0]), tensor([1, 0]), tensor([1, 0]), tensor([1, 0]), tensor([1, 0]), tensor([1, 0]), tensor([1, 0]), tensor([1, 0]), tensor([1, 0]), tensor([1, 0]), tensor([1, 0]), tensor([1, 0]), tensor([1, 0]), tensor([1, 0]), tensor([1, 0]), tensor([1, 0]), tensor([1, 0]), tensor([1, 0]), tensor([1, 0]), tensor([1, 0]), tensor([1, 0]), tensor([1, 0]), tensor([1, 0]), tensor([1, 0]), tensor([1, 0]), tensor([1, 0]), tensor([1, 0]), tensor([1, 0]), tensor([1, 0]), tensor([1, 0]), tensor([1, 0]), tensor([1, 0]), tensor([1, 0]), tensor([1, 0]), tensor([1, 0]), tensor([1, 0]), tensor([1, 0]), tensor([1, 0]), tensor([1, 0]), tensor([1, 0]), tensor([1, 0]), tensor([1, 0]), tensor([1, 0]), tensor([1, 0]), tensor([1, 0]), tensor([1, 0]), tensor([1, 0]), tensor([1, 0]), tensor([1, 0]), tensor([1, 0]), tensor([1, 0]), tensor([1, 0]), tensor([1, 0]), tensor([1, 0]), tensor([1, 0]), tensor([1, 0]), tensor([1, 0]), tensor([1, 0]), tensor([1, 0]), tensor([1, 0]), tensor([1, 0]), tensor([1, 0]), tensor([1, 0]), tensor([1, 0]), tensor([1, 0]), tensor([1, 0]), tensor([1, 0]), tensor([1, 0]), tensor([1, 0]), tensor([1, 0]), tensor([1, 0]), tensor([1, 0]), tensor([1, 0]), tensor([1, 0]), tensor([1, 0]), tensor([1, 0]), tensor([1, 0]), tensor([1, 0]), tensor([1, 0]), tensor([1, 0]), tensor([1, 0]), tensor([1, 0]), tensor([1, 0]), tensor([1, 0]), tensor([1, 0]), tensor([1, 0]), tensor([1, 0]), tensor([1, 0]), tensor([1, 0]), tensor([1, 0]), tensor([1, 0]), tensor([1, 0]), tensor([1, 0]), tensor([1, 0]), tensor([1, 0]), tensor([1, 0]), tensor([1, 0]), tensor([1, 0]), tensor([1, 0]), tensor([1, 0]), tensor([1, 0]), tensor([1, 0]), tensor([1, 0]), tensor([1, 0]), tensor([1, 0]), tensor([1, 0]), tensor([1, 0]), tensor([1, 0]), tensor([1, 0]), tensor([1, 0]), tensor([1, 0]), tensor([1, 0]), tensor([1, 0]), tensor([1, 0]), tensor([1, 0]), tensor([1, 0]), tensor([1, 0]), tensor([1, 0]), tensor([1, 0]), tensor([1, 0]), tensor([1, 0]), tensor([1, 0]), tensor([1, 0]), tensor([1, 0]), tensor([1, 0]), tensor([1, 0]), tensor([1, 0]), tensor([1, 0]), tensor([1, 0]), tensor([1, 0]), tensor([1, 0]), tensor([1, 0]), tensor([1, 0]), tensor([1, 0]), tensor([1, 0]), tensor([1, 0]), tensor([1, 0]), tensor([1, 0]), tensor([1, 0]), tensor([1, 0]), tensor([1, 0]), tensor([1, 0]), tensor([1, 0]), tensor([1, 0]), tensor([1, 0]), tensor([1, 0]), tensor([1, 0]), tensor([1, 0]), tensor([1, 0]), tensor([1, 0]), tensor([1, 0]), tensor([1, 0]), tensor([1, 0]), tensor([1, 0]), tensor([1, 0]), tensor([1, 0]), tensor([1, 0]), tensor([1, 0]), tensor([1, 0]), tensor([1, 0]), tensor([1, 0]), tensor([1, 0]), tensor([1, 0]), tensor([1, 0]), tensor([1, 0]), tensor([1, 0]), tensor([1, 0]), tensor([1, 0]), tensor([1, 0]), tensor([1, 0]), tensor([1, 0]), tensor([1, 0]), tensor([1, 0]), tensor([1, 0]), tensor([1, 0]), tensor([1, 0]), tensor([1, 0]), tensor([1, 0]), tensor([1, 0]), tensor([1, 0]), tensor([1, 0]), tensor([1, 0]), tensor([1, 0]), tensor([1, 0]), tensor([1, 0]), tensor([1, 0]), tensor([1, 0]), tensor([1, 0]), tensor([1, 0]), tensor([1, 0]), tensor([1, 0]), tensor([1, 0]), tensor([1, 0]), tensor([1, 0]), tensor([1, 0]), tensor([1, 0]), tensor([1, 0]), tensor([1, 0]), tensor([1, 0]), tensor([1, 0]), tensor([1, 0]), tensor([1, 0]), tensor([1, 0]), tensor([1, 0]), tensor([1, 0]), tensor([1, 0]), tensor([1, 0]), tensor([1, 0]), tensor([1, 0]), tensor([1, 0]), tensor([1, 0]), tensor([1, 0]), tensor([1, 0]), tensor([1, 0]), tensor([1, 0]), tensor([1, 0]), tensor([1, 0]), tensor([1, 0]), tensor([1, 0]), tensor([1, 0]), tensor([1, 0]), tensor([1, 0]), tensor([1, 0]), tensor([1, 0]), tensor([1, 0]), tensor([1, 0]), tensor([1, 0]), tensor([1, 0]), tensor([1, 0]), tensor([1, 0]), tensor([1, 0]), tensor([1, 0]), tensor([1, 0]), tensor([1, 0]), tensor([1, 0]), tensor([1, 0]), tensor([1, 0]), tensor([1, 0]), tensor([1, 0]), tensor([1, 0]), tensor([1, 0]), tensor([1, 0]), tensor([1, 0]), tensor([1, 0]), tensor([1, 0]), tensor([1, 0]), tensor([1, 0]), tensor([1, 0]), tensor([1, 0]), tensor([1, 0]), tensor([1, 0]), tensor([1, 0]), tensor([1, 0]), tensor([1, 0]), tensor([1, 0]), tensor([1, 0]), tensor([1, 0]), tensor([1, 0]), tensor([1, 0]), tensor([1, 0]), tensor([1, 0]), tensor([1, 0]), tensor([1, 0]), tensor([1, 0]), tensor([1, 0]), tensor([1, 0]), tensor([1, 0]), tensor([1, 0]), tensor([1, 0]), tensor([1, 0]), tensor([1, 0]), tensor([1, 0]), tensor([1, 0]), tensor([1, 0]), tensor([1, 0]), tensor([1, 0]), tensor([1, 0]), tensor([1, 0]), tensor([1, 0]), tensor([1, 0]), tensor([1, 0]), tensor([1, 0]), tensor([1, 0]), tensor([1, 0]), tensor([1, 0]), tensor([1, 0]), tensor([1, 0]), tensor([1, 0]), tensor([1, 0]), tensor([1, 0]), tensor([1, 0]), tensor([1, 0]), tensor([1, 0]), tensor([1, 0]), tensor([1, 0]), tensor([1, 0]), tensor([1, 0]), tensor([1, 0]), tensor([1, 0]), tensor([1, 0]), tensor([1, 0]), tensor([1, 0]), tensor([1, 0]), tensor([1, 0]), tensor([1, 0]), tensor([1, 0]), tensor([1, 0]), tensor([1, 0]), tensor([1, 0]), tensor([1, 0]), tensor([1, 0]), tensor([1, 0]), tensor([1, 0]), tensor([1, 0]), tensor([1, 0]), tensor([1, 0]), tensor([1, 0]), tensor([1, 0]), tensor([1, 0]), tensor([1, 0]), tensor([1, 0]), tensor([1, 0]), tensor([1, 0]), tensor([1, 0]), tensor([1, 0]), tensor([1, 0]), tensor([1, 0]), tensor([1, 0]), tensor([1, 0]), tensor([1, 0]), tensor([1, 0]), tensor([1, 0]), tensor([1, 0]), tensor([1, 0]), tensor([1, 0]), tensor([1, 0]), tensor([1, 0]), tensor([1, 0]), tensor([1, 0]), tensor([1, 0]), tensor([1, 0]), tensor([1, 0]), tensor([1, 0]), tensor([1, 0]), tensor([1, 0]), tensor([1, 0]), tensor([1, 0]), tensor([1, 0]), tensor([1, 0]), tensor([1, 0]), tensor([1, 0]), tensor([1, 0]), tensor([1, 0]), tensor([1, 0]), tensor([1, 0]), tensor([1, 0]), tensor([1, 0]), tensor([1, 0]), tensor([1, 0]), tensor([1, 0]), tensor([1, 0]), tensor([1, 0]), tensor([1, 0]), tensor([1, 0]), tensor([1, 0]), tensor([1, 0]), tensor([1, 0]), tensor([1, 0]), tensor([1, 0]), tensor([1, 0]), tensor([1, 0]), tensor([1, 0]), tensor([1, 0]), tensor([1, 0]), tensor([1, 0]), tensor([1, 0]), tensor([1, 0]), tensor([1, 0]), tensor([1, 0]), tensor([1, 0]), tensor([1, 0]), tensor([1, 0]), tensor([1, 0]), tensor([1, 0]), tensor([1, 0]), tensor([1, 0]), tensor([1, 0]), tensor([1, 0]), tensor([1, 0]), tensor([1, 0]), tensor([1, 0]), tensor([1, 0]), tensor([1, 0]), tensor([1, 0]), tensor([1, 0]), tensor([1, 0]), tensor([1, 0]), tensor([1, 0]), tensor([1, 0]), tensor([1, 0]), tensor([1, 0]), tensor([1, 0]), tensor([1, 0]), tensor([1, 0]), tensor([1, 0]), tensor([1, 0]), tensor([1, 0]), tensor([1, 0]), tensor([1, 0]), tensor([1, 0]), tensor([1, 0]), tensor([1, 0]), tensor([1, 0]), tensor([1, 0]), tensor([1, 0]), tensor([1, 0]), tensor([1, 0]), tensor([1, 0]), tensor([1, 0]), tensor([1, 0]), tensor([1, 0]), tensor([1, 0]), tensor([1, 0]), tensor([1, 0]), tensor([1, 0]), tensor([1, 0]), tensor([1, 0]), tensor([1, 0]), tensor([1, 0]), tensor([1, 0]), tensor([1, 0]), tensor([1, 0]), tensor([1, 0]), tensor([1, 0]), tensor([1, 0]), tensor([1, 0]), tensor([1, 0]), tensor([1, 0]), tensor([1, 0]), tensor([1, 0]), tensor([1, 0]), tensor([1, 0]), tensor([1, 0]), tensor([1, 0]), tensor([1, 0]), tensor([1, 0]), tensor([1, 0]), tensor([1, 0]), tensor([1, 0]), tensor([1, 0]), tensor([1, 0]), tensor([1, 0]), tensor([1, 0]), tensor([1, 0]), tensor([1, 0]), tensor([1, 0]), tensor([1, 0]), tensor([1, 0]), tensor([1, 0]), tensor([1, 0]), tensor([1, 0]), tensor([1, 0]), tensor([1, 0]), tensor([1, 0]), tensor([1, 0]), tensor([1, 0]), tensor([1, 0]), tensor([1, 0]), tensor([1, 0]), tensor([1, 0]), tensor([1, 0]), tensor([1, 0]), tensor([1, 0]), tensor([1, 0]), tensor([1, 0]), tensor([1, 0]), tensor([1, 0]), tensor([1, 0]), tensor([1, 0]), tensor([1, 0]), tensor([1, 0]), tensor([1, 0]), tensor([1, 0]), tensor([1, 0]), tensor([1, 0]), tensor([1, 0]), tensor([1, 0]), tensor([1, 0]), tensor([1, 0]), tensor([1, 0]), tensor([1, 0]), tensor([1, 0]), tensor([1, 0]), tensor([1, 0]), tensor([1, 0]), tensor([1, 0]), tensor([1, 0]), tensor([1, 0]), tensor([1, 0]), tensor([1, 0]), tensor([1, 0]), tensor([1, 0]), tensor([1, 0]), tensor([1, 0]), tensor([1, 0]), tensor([1, 0]), tensor([1, 0]), tensor([1, 0]), tensor([1, 0]), tensor([1, 0]), tensor([1, 0]), tensor([1, 0]), tensor([1, 0]), tensor([1, 0]), tensor([1, 0]), tensor([1, 0]), tensor([1, 0]), tensor([1, 0]), tensor([1, 0]), tensor([1, 0]), tensor([1, 0]), tensor([1, 0]), tensor([1, 0]), tensor([1, 0]), tensor([1, 0]), tensor([1, 0]), tensor([1, 0]), tensor([1, 0]), tensor([1, 0]), tensor([1, 0]), tensor([1, 0]), tensor([1, 0]), tensor([1, 0]), tensor([1, 0]), tensor([1, 0]), tensor([1, 0]), tensor([1, 0]), tensor([1, 0]), tensor([1, 0]), tensor([1, 0]), tensor([1, 0]), tensor([1, 0]), tensor([1, 0]), tensor([1, 0]), tensor([1, 0]), tensor([1, 0]), tensor([1, 0]), tensor([1, 0]), tensor([1, 0]), tensor([1, 0]), tensor([1, 0]), tensor([1, 0]), tensor([1, 0]), tensor([1, 0]), tensor([1, 0]), tensor([1, 0]), tensor([1, 0]), tensor([1, 0]), tensor([1, 0]), tensor([1, 0]), tensor([1, 0]), tensor([1, 0]), tensor([1, 0]), tensor([1, 0]), tensor([1, 0]), tensor([1, 0]), tensor([1, 0]), tensor([1, 0]), tensor([1, 0]), tensor([1, 0]), tensor([1, 0]), tensor([1, 0]), tensor([1, 0]), tensor([1, 0]), tensor([1, 0]), tensor([1, 0]), tensor([1, 0]), tensor([1, 0]), tensor([1, 0]), tensor([1, 0]), tensor([1, 0]), tensor([1, 0]), tensor([1, 0]), tensor([1, 0]), tensor([1, 0]), tensor([1, 0]), tensor([1, 0]), tensor([1, 0]), tensor([1, 0]), tensor([1, 0]), tensor([1, 0]), tensor([1, 0]), tensor([1, 0]), tensor([1, 0]), tensor([1, 0]), tensor([1, 0]), tensor([1, 0]), tensor([1, 0]), tensor([1, 0]), tensor([1, 0]), tensor([1, 0]), tensor([1, 0]), tensor([1, 0]), tensor([1, 0]), tensor([1, 0]), tensor([1, 0]), tensor([1, 0]), tensor([1, 0]), tensor([1, 0]), tensor([1, 0]), tensor([1, 0]), tensor([1, 0]), tensor([1, 0]), tensor([1, 0]), tensor([1, 0]), tensor([1, 0]), tensor([1, 0]), tensor([1, 0]), tensor([1, 0]), tensor([1, 0]), tensor([1, 0]), tensor([1, 0]), tensor([1, 0]), tensor([1, 0]), tensor([1, 0]), tensor([1, 0]), tensor([1, 0]), tensor([1, 0]), tensor([1, 0]), tensor([1, 0]), tensor([1, 0]), tensor([1, 0]), tensor([1, 0]), tensor([1, 0]), tensor([1, 0]), tensor([1, 0]), tensor([1, 0]), tensor([1, 0]), tensor([1, 0]), tensor([1, 0]), tensor([1, 0]), tensor([1, 0]), tensor([1, 0]), tensor([1, 0]), tensor([1, 0]), tensor([1, 0]), tensor([1, 0]), tensor([1, 0]), tensor([1, 0]), tensor([1, 0]), tensor([1, 0]), tensor([1, 0]), tensor([1, 0]), tensor([1, 0]), tensor([1, 0]), tensor([1, 0]), tensor([1, 0]), tensor([1, 0]), tensor([1, 0]), tensor([1, 0]), tensor([1, 0]), tensor([1, 0]), tensor([1, 0]), tensor([1, 0]), tensor([1, 0]), tensor([1, 0]), tensor([1, 0]), tensor([1, 0]), tensor([1, 0]), tensor([1, 0]), tensor([1, 0]), tensor([1, 0]), tensor([1, 0]), tensor([1, 0]), tensor([1, 0]), tensor([1, 0]), tensor([1, 0]), tensor([1, 0]), tensor([1, 0]), tensor([1, 0]), tensor([1, 0]), tensor([1, 0]), tensor([1, 0]), tensor([1, 0]), tensor([1, 0]), tensor([1, 0]), tensor([1, 0]), tensor([1, 0]), tensor([1, 0]), tensor([1, 0]), tensor([1, 0]), tensor([1, 0]), tensor([1, 0]), tensor([1, 0]), tensor([1, 0]), tensor([1, 0]), tensor([1, 0]), tensor([1, 0]), tensor([1, 0]), tensor([1, 0]), tensor([1, 0]), tensor([1, 0]), tensor([1, 0]), tensor([1, 0]), tensor([1, 0]), tensor([1, 0]), tensor([1, 0]), tensor([1, 0]), tensor([1, 0]), tensor([1, 0]), tensor([1, 0]), tensor([1, 0]), tensor([1, 0]), tensor([1, 0]), tensor([1, 0]), tensor([1, 0]), tensor([1, 0]), tensor([1, 0]), tensor([1, 0]), tensor([1, 0]), tensor([1, 0]), tensor([1, 0]), tensor([1, 0]), tensor([1, 0]), tensor([1, 0]), tensor([1, 0]), tensor([1, 0]), tensor([1, 0]), tensor([1, 0]), tensor([1, 0]), tensor([1, 0]), tensor([1, 0]), tensor([1, 0]), tensor([1, 0]), tensor([1, 0]), tensor([1, 0]), tensor([1, 0]), tensor([1, 0]), tensor([1, 0]), tensor([1, 0]), tensor([1, 0]), tensor([1, 0]), tensor([1, 0]), tensor([1, 0]), tensor([1, 0]), tensor([1, 0]), tensor([1, 0]), tensor([1, 0]), tensor([1, 0]), tensor([1, 0]), tensor([1, 0]), tensor([1, 0]), tensor([1, 0]), tensor([1, 0]), tensor([1, 0]), tensor([1, 0]), tensor([1, 0]), tensor([1, 0]), tensor([1, 0]), tensor([1, 0]), tensor([1, 0]), tensor([1, 0]), tensor([1, 0]), tensor([1, 0]), tensor([1, 0]), tensor([1, 0]), tensor([1, 0]), tensor([1, 0]), tensor([1, 0]), tensor([1, 0]), tensor([1, 0]), tensor([1, 0]), tensor([1, 0]), tensor([1, 0]), tensor([1, 0]), tensor([1, 0]), tensor([1, 0]), tensor([1, 0]), tensor([1, 0]), tensor([1, 0]), tensor([1, 0]), tensor([1, 0]), tensor([1, 0]), tensor([1, 0]), tensor([1, 0]), tensor([1, 0]), tensor([1, 0]), tensor([1, 0]), tensor([1, 0]), tensor([1, 0]), tensor([1, 0]), tensor([1, 0]), tensor([1, 0]), tensor([1, 0]), tensor([1, 0]), tensor([1, 0]), tensor([1, 0]), tensor([1, 0]), tensor([1, 0]), tensor([1, 0]), tensor([1, 0]), tensor([1, 0]), tensor([1, 0]), tensor([1, 0]), tensor([1, 0]), tensor([1, 0]), tensor([1, 0]), tensor([1, 0]), tensor([1, 0]), tensor([1, 0]), tensor([1, 0]), tensor([1, 0]), tensor([1, 0]), tensor([1, 0]), tensor([1, 0]), tensor([1, 0]), tensor([1, 0]), tensor([1, 0]), tensor([1, 0]), tensor([1, 0]), tensor([1, 0]), tensor([1, 0]), tensor([1, 0]), tensor([1, 0]), tensor([1, 0]), tensor([1, 0]), tensor([1, 0]), tensor([1, 0]), tensor([1, 0]), tensor([1, 0]), tensor([1, 0]), tensor([1, 0]), tensor([1, 0]), tensor([1, 0]), tensor([1, 0]), tensor([1, 0]), tensor([1, 0]), tensor([1, 0]), tensor([1, 0]), tensor([1, 0]), tensor([1, 0]), tensor([1, 0]), tensor([1, 0]), tensor([1, 0]), tensor([1, 0]), tensor([1, 0]), tensor([1, 0]), tensor([1, 0]), tensor([1, 0]), tensor([1, 0]), tensor([1, 0]), tensor([1, 0]), tensor([1, 0]), tensor([1, 0]), tensor([1, 0]), tensor([1, 0]), tensor([1, 0]), tensor([1, 0]), tensor([1, 0]), tensor([1, 0]), tensor([1, 0]), tensor([1, 0]), tensor([1, 0]), tensor([1, 0]), tensor([1, 0]), tensor([1, 0]), tensor([1, 0]), tensor([1, 0]), tensor([1, 0]), tensor([1, 0]), tensor([1, 0]), tensor([1, 0]), tensor([1, 0]), tensor([1, 0]), tensor([1, 0]), tensor([1, 0]), tensor([1, 0]), tensor([1, 0]), tensor([1, 0]), tensor([1, 0]), tensor([1, 0]), tensor([1, 0]), tensor([1, 0]), tensor([1, 0]), tensor([1, 0]), tensor([1, 0]), tensor([1, 0]), tensor([1, 0]), tensor([1, 0]), tensor([1, 0]), tensor([1, 0]), tensor([1, 0]), tensor([1, 0]), tensor([1, 0]), tensor([1, 0]), tensor([1, 0]), tensor([1, 0]), tensor([1, 0]), tensor([1, 0]), tensor([1, 0]), tensor([1, 0]), tensor([1, 0]), tensor([1, 0]), tensor([1, 0]), tensor([1, 0]), tensor([1, 0]), tensor([1, 0]), tensor([1, 0]), tensor([1, 0]), tensor([1, 0]), tensor([1, 0]), tensor([1, 0]), tensor([1, 0]), tensor([1, 0]), tensor([1, 0]), tensor([1, 0]), tensor([1, 0]), tensor([1, 0]), tensor([1, 0]), tensor([1, 0]), tensor([1, 0]), tensor([1, 0]), tensor([1, 0]), tensor([1, 0]), tensor([1, 0]), tensor([1, 0]), tensor([1, 0]), tensor([1, 0]), tensor([1, 0]), tensor([1, 0]), tensor([1, 0]), tensor([1, 0]), tensor([1, 0]), tensor([1, 0]), tensor([1, 0]), tensor([1, 0]), tensor([1, 0]), tensor([1, 0]), tensor([1, 0]), tensor([1, 0]), tensor([1, 0]), tensor([1, 0]), tensor([1, 0]), tensor([1, 0]), tensor([1, 0]), tensor([1, 0]), tensor([1, 0]), tensor([1, 0]), tensor([1, 0]), tensor([1, 0]), tensor([1, 0]), tensor([1, 0]), tensor([1, 0]), tensor([1, 0]), tensor([1, 0]), tensor([1, 0]), tensor([1, 0]), tensor([1, 0]), tensor([1, 0]), tensor([1, 0]), tensor([1, 0]), tensor([1, 0]), tensor([1, 0]), tensor([1, 0]), tensor([1, 0]), tensor([1, 0]), tensor([1, 0]), tensor([1, 0]), tensor([1, 0]), tensor([1, 0]), tensor([1, 0]), tensor([1, 0]), tensor([1, 0]), tensor([1, 0]), tensor([1, 0]), tensor([1, 0]), tensor([1, 0]), tensor([1, 0]), tensor([1, 0]), tensor([1, 0]), tensor([1, 0]), tensor([1, 0]), tensor([1, 0]), tensor([1, 0]), tensor([1, 0]), tensor([1, 0]), tensor([1, 0]), tensor([1, 0]), tensor([1, 0]), tensor([1, 0]), tensor([1, 0]), tensor([1, 0]), tensor([1, 0]), tensor([1, 0]), tensor([1, 0]), tensor([1, 0]), tensor([1, 0]), tensor([1, 0]), tensor([1, 0]), tensor([1, 0]), tensor([1, 0]), tensor([1, 0]), tensor([1, 0]), tensor([1, 0]), tensor([1, 0]), tensor([1, 0]), tensor([1, 0]), tensor([1, 0]), tensor([1, 0]), tensor([1, 0]), tensor([1, 0]), tensor([1, 0]), tensor([1, 0]), tensor([1, 0]), tensor([1, 0]), tensor([1, 0]), tensor([1, 0]), tensor([1, 0]), tensor([1, 0]), tensor([1, 0]), tensor([1, 0]), tensor([1, 0]), tensor([1, 0]), tensor([1, 0]), tensor([1, 0]), tensor([1, 0]), tensor([1, 0]), tensor([1, 0]), tensor([1, 0]), tensor([1, 0]), tensor([1, 0]), tensor([1, 0]), tensor([1, 0]), tensor([1, 0]), tensor([1, 0]), tensor([1, 0]), tensor([1, 0]), tensor([1, 0]), tensor([1, 0]), tensor([1, 0]), tensor([1, 0]), tensor([1, 0]), tensor([1, 0]), tensor([1, 0]), tensor([1, 0]), tensor([1, 0]), tensor([1, 0]), tensor([1, 0]), tensor([1, 0]), tensor([1, 0]), tensor([1, 0]), tensor([1, 0]), tensor([1, 0]), tensor([1, 0]), tensor([1, 0]), tensor([1, 0]), tensor([1, 0]), tensor([1, 0]), tensor([1, 0]), tensor([1, 0]), tensor([1, 0]), tensor([1, 0]), tensor([1, 0]), tensor([1, 0]), tensor([1, 0]), tensor([1, 0]), tensor([1, 0]), tensor([1, 0]), tensor([1, 0]), tensor([1, 0]), tensor([1, 0]), tensor([1, 0]), tensor([1, 0]), tensor([1, 0]), tensor([1, 0]), tensor([1, 0]), tensor([1, 0]), tensor([1, 0]), tensor([1, 0]), tensor([1, 0]), tensor([1, 1]), tensor([1, 1]), tensor([1, 1]), tensor([1, 1]), tensor([1, 1]), tensor([1, 1]), tensor([1, 1]), tensor([1, 1]), tensor([1, 1]), tensor([1, 1]), tensor([1, 1]), tensor([1, 1]), tensor([1, 1]), tensor([1, 1]), tensor([1, 1]), tensor([1, 1]), tensor([1, 1]), tensor([1, 1]), tensor([1, 1]), tensor([1, 1]), tensor([1, 1]), tensor([1, 1]), tensor([1, 1]), tensor([1, 1]), tensor([1, 1]), tensor([1, 1]), tensor([1, 1]), tensor([1, 1]), tensor([1, 1]), tensor([1, 1]), tensor([1, 1]), tensor([1, 1]), tensor([1, 1]), tensor([1, 1]), tensor([1, 1]), tensor([1, 1]), tensor([1, 1]), tensor([1, 1]), tensor([1, 1]), tensor([1, 1]), tensor([1, 1]), tensor([1, 1]), tensor([1, 1]), tensor([1, 1]), tensor([1, 1]), tensor([1, 1]), tensor([1, 1]), tensor([1, 1]), tensor([1, 1]), tensor([1, 1]), tensor([1, 1]), tensor([1, 1]), tensor([1, 1]), tensor([1, 1]), tensor([1, 1]), tensor([1, 1]), tensor([1, 1]), tensor([1, 1]), tensor([1, 1]), tensor([1, 1]), tensor([1, 1]), tensor([1, 1]), tensor([1, 1]), tensor([1, 1]), tensor([1, 1]), tensor([1, 1]), tensor([1, 1]), tensor([1, 1]), tensor([1, 1]), tensor([1, 1]), tensor([1, 1]), tensor([1, 1]), tensor([1, 1]), tensor([1, 1]), tensor([1, 1]), tensor([1, 1]), tensor([1, 1]), tensor([1, 1]), tensor([1, 1]), tensor([1, 1]), tensor([1, 1]), tensor([1, 1]), tensor([1, 1]), tensor([1, 1]), tensor([1, 1]), tensor([1, 1]), tensor([1, 1]), tensor([1, 1]), tensor([1, 1]), tensor([1, 1]), tensor([1, 1]), tensor([1, 1]), tensor([1, 1]), tensor([1, 1]), tensor([1, 1]), tensor([1, 1]), tensor([1, 1]), tensor([1, 1]), tensor([1, 1]), tensor([1, 1]), tensor([1, 1]), tensor([1, 1]), tensor([1, 1]), tensor([1, 1]), tensor([1, 1]), tensor([1, 1]), tensor([1, 1]), tensor([1, 1]), tensor([1, 1]), tensor([1, 1]), tensor([1, 1]), tensor([1, 1]), tensor([1, 1]), tensor([1, 1]), tensor([1, 1]), tensor([1, 1]), tensor([1, 1]), tensor([1, 1]), tensor([1, 1]), tensor([1, 1]), tensor([1, 1]), tensor([1, 1]), tensor([1, 1]), tensor([1, 1]), tensor([1, 1]), tensor([1, 1]), tensor([1, 1]), tensor([1, 1]), tensor([1, 1]), tensor([1, 1]), tensor([1, 1]), tensor([1, 1]), tensor([1, 1]), tensor([1, 1]), tensor([1, 1]), tensor([1, 1]), tensor([1, 1]), tensor([1, 1]), tensor([1, 1]), tensor([1, 1]), tensor([1, 1]), tensor([1, 1]), tensor([1, 1]), tensor([1, 1]), tensor([1, 1]), tensor([1, 1]), tensor([1, 1]), tensor([1, 1]), tensor([1, 1]), tensor([1, 1]), tensor([1, 1]), tensor([1, 1]), tensor([1, 1]), tensor([1, 1]), tensor([1, 1]), tensor([1, 1]), tensor([1, 1]), tensor([1, 1]), tensor([1, 1]), tensor([1, 1]), tensor([1, 1]), tensor([1, 1]), tensor([1, 1]), tensor([1, 1]), tensor([1, 1]), tensor([1, 1]), tensor([1, 1]), tensor([1, 1]), tensor([1, 1]), tensor([1, 1]), tensor([1, 1]), tensor([1, 1]), tensor([1, 1]), tensor([1, 1]), tensor([1, 1]), tensor([1, 1]), tensor([1, 1]), tensor([1, 1]), tensor([1, 1]), tensor([1, 1]), tensor([1, 1]), tensor([1, 1]), tensor([1, 1]), tensor([1, 1]), tensor([1, 1]), tensor([1, 1]), tensor([1, 1]), tensor([1, 1]), tensor([1, 1]), tensor([1, 1]), tensor([1, 1]), tensor([1, 1]), tensor([1, 1]), tensor([1, 1]), tensor([1, 1]), tensor([1, 1]), tensor([1, 1]), tensor([1, 1]), tensor([1, 1]), tensor([1, 1]), tensor([1, 1]), tensor([1, 1]), tensor([1, 1]), tensor([1, 1]), tensor([1, 1]), tensor([1, 1]), tensor([1, 1]), tensor([1, 1]), tensor([1, 1]), tensor([1, 1]), tensor([1, 1]), tensor([1, 1]), tensor([1, 1]), tensor([1, 1]), tensor([1, 1]), tensor([1, 1]), tensor([1, 1]), tensor([1, 1]), tensor([1, 1]), tensor([1, 1]), tensor([1, 1]), tensor([1, 1]), tensor([1, 1]), tensor([1, 1]), tensor([1, 1]), tensor([1, 1]), tensor([1, 1]), tensor([1, 1]), tensor([1, 1]), tensor([1, 1]), tensor([1, 1]), tensor([1, 1]), tensor([1, 1]), tensor([1, 1]), tensor([1, 1]), tensor([1, 1]), tensor([1, 1]), tensor([1, 1]), tensor([1, 1]), tensor([1, 1]), tensor([1, 1]), tensor([1, 1]), tensor([1, 1]), tensor([1, 1]), tensor([1, 1]), tensor([1, 1]), tensor([1, 1]), tensor([1, 1]), tensor([1, 1]), tensor([1, 1]), tensor([1, 1]), tensor([1, 1]), tensor([1, 1]), tensor([1, 1]), tensor([1, 1]), tensor([1, 1]), tensor([1, 1]), tensor([1, 1]), tensor([1, 1]), tensor([1, 1]), tensor([1, 1]), tensor([1, 1]), tensor([1, 1]), tensor([1, 1]), tensor([1, 1]), tensor([1, 1]), tensor([1, 1]), tensor([1, 1]), tensor([1, 1]), tensor([1, 1]), tensor([1, 1]), tensor([1, 1]), tensor([1, 1]), tensor([1, 1]), tensor([1, 1]), tensor([1, 1]), tensor([1, 1]), tensor([1, 1]), tensor([1, 1]), tensor([1, 1]), tensor([1, 1]), tensor([1, 1]), tensor([1, 1]), tensor([1, 1]), tensor([1, 1]), tensor([1, 1]), tensor([1, 1]), tensor([1, 1]), tensor([1, 1]), tensor([1, 1]), tensor([1, 1]), tensor([1, 1]), tensor([1, 1]), tensor([1, 1]), tensor([1, 1]), tensor([1, 1]), tensor([1, 1]), tensor([1, 1]), tensor([1, 1]), tensor([1, 1]), tensor([1, 1]), tensor([1, 1]), tensor([1, 1]), tensor([1, 1]), tensor([1, 1]), tensor([1, 1]), tensor([1, 1]), tensor([1, 1]), tensor([1, 1]), tensor([1, 1]), tensor([1, 1]), tensor([1, 1]), tensor([1, 1]), tensor([1, 1]), tensor([1, 1]), tensor([1, 1]), tensor([1, 1]), tensor([1, 1]), tensor([1, 1]), tensor([1, 1]), tensor([1, 1]), tensor([1, 1]), tensor([1, 1]), tensor([1, 1]), tensor([1, 1]), tensor([1, 1]), tensor([1, 1]), tensor([1, 1]), tensor([1, 1]), tensor([1, 1]), tensor([1, 1]), tensor([1, 1]), tensor([1, 1]), tensor([1, 1]), tensor([1, 1]), tensor([1, 1]), tensor([1, 1]), tensor([1, 1]), tensor([1, 1]), tensor([1, 1]), tensor([1, 1]), tensor([1, 1]), tensor([1, 1]), tensor([1, 1]), tensor([1, 1]), tensor([1, 1]), tensor([1, 1]), tensor([1, 1]), tensor([1, 1]), tensor([1, 1]), tensor([1, 1]), tensor([1, 1]), tensor([1, 1]), tensor([1, 1]), tensor([1, 1]), tensor([1, 1]), tensor([1, 1]), tensor([1, 1]), tensor([1, 1]), tensor([1, 1]), tensor([1, 1]), tensor([1, 1]), tensor([1, 1]), tensor([1, 1]), tensor([1, 1]), tensor([1, 1]), tensor([1, 1]), tensor([1, 1]), tensor([1, 1]), tensor([1, 1]), tensor([1, 1]), tensor([1, 1]), tensor([1, 1]), tensor([1, 1]), tensor([1, 1]), tensor([1, 1]), tensor([1, 1]), tensor([1, 1]), tensor([1, 1]), tensor([1, 1]), tensor([1, 1]), tensor([1, 1]), tensor([1, 1]), tensor([1, 1]), tensor([1, 1]), tensor([1, 1]), tensor([1, 1]), tensor([1, 1]), tensor([1, 1]), tensor([1, 1]), tensor([1, 1]), tensor([1, 1]), tensor([1, 1]), tensor([1, 1]), tensor([1, 1]), tensor([1, 1]), tensor([1, 1]), tensor([1, 1]), tensor([1, 1]), tensor([1, 1]), tensor([1, 1]), tensor([1, 1]), tensor([1, 1]), tensor([1, 1]), tensor([1, 1]), tensor([1, 1]), tensor([1, 1]), tensor([1, 1]), tensor([1, 1]), tensor([1, 1]), tensor([1, 1]), tensor([1, 1]), tensor([1, 1]), tensor([1, 1]), tensor([1, 1]), tensor([1, 1]), tensor([1, 1]), tensor([1, 1]), tensor([1, 1]), tensor([1, 1]), tensor([1, 1]), tensor([1, 1]), tensor([1, 1]), tensor([1, 1]), tensor([1, 1]), tensor([1, 1]), tensor([1, 1]), tensor([1, 1]), tensor([1, 1]), tensor([1, 1]), tensor([1, 1]), tensor([1, 1]), tensor([1, 1]), tensor([1, 1]), tensor([1, 1]), tensor([1, 1]), tensor([1, 1]), tensor([1, 1]), tensor([1, 1]), tensor([1, 1]), tensor([1, 1]), tensor([1, 1]), tensor([1, 1]), tensor([1, 1]), tensor([1, 1]), tensor([1, 1]), tensor([1, 1]), tensor([1, 1]), tensor([1, 1]), tensor([1, 1]), tensor([1, 1]), tensor([1, 1]), tensor([1, 1]), tensor([1, 1]), tensor([1, 1]), tensor([1, 1]), tensor([1, 1]), tensor([1, 1]), tensor([1, 1]), tensor([1, 1]), tensor([1, 1]), tensor([1, 1]), tensor([1, 1]), tensor([1, 1]), tensor([1, 1]), tensor([1, 1]), tensor([1, 1]), tensor([1, 1]), tensor([1, 1]), tensor([1, 1]), tensor([1, 1]), tensor([1, 1]), tensor([1, 1]), tensor([1, 1]), tensor([1, 1]), tensor([1, 1]), tensor([1, 1]), tensor([1, 1]), tensor([1, 1]), tensor([1, 1]), tensor([1, 1]), tensor([1, 1]), tensor([1, 1]), tensor([1, 1]), tensor([1, 1]), tensor([1, 1]), tensor([1, 1]), tensor([1, 1]), tensor([1, 1]), tensor([1, 1]), tensor([1, 1]), tensor([1, 1]), tensor([1, 1]), tensor([1, 1]), tensor([1, 1]), tensor([1, 1]), tensor([1, 1]), tensor([1, 1]), tensor([1, 1]), tensor([1, 1]), tensor([1, 1]), tensor([1, 1]), tensor([1, 1]), tensor([1, 1]), tensor([1, 1]), tensor([1, 1]), tensor([1, 1]), tensor([1, 1]), tensor([1, 1]), tensor([1, 1]), tensor([1, 1]), tensor([1, 1]), tensor([1, 1]), tensor([1, 1]), tensor([1, 1]), tensor([1, 1]), tensor([1, 1]), tensor([1, 1]), tensor([1, 1]), tensor([1, 1]), tensor([1, 1]), tensor([1, 1]), tensor([1, 1]), tensor([1, 1]), tensor([1, 1]), tensor([1, 1]), tensor([1, 1]), tensor([1, 1]), tensor([1, 1]), tensor([1, 1]), tensor([1, 1]), tensor([1, 1]), tensor([1, 1]), tensor([1, 1]), tensor([1, 1]), tensor([1, 1]), tensor([1, 1]), tensor([1, 1]), tensor([1, 1]), tensor([1, 1]), tensor([1, 1]), tensor([1, 1]), tensor([1, 1]), tensor([1, 1]), tensor([1, 1]), tensor([1, 1]), tensor([1, 1]), tensor([1, 1]), tensor([1, 1]), tensor([1, 1]), tensor([1, 1]), tensor([1, 1]), tensor([1, 1]), tensor([1, 1]), tensor([1, 1]), tensor([1, 1]), tensor([1, 1]), tensor([1, 1]), tensor([1, 1]), tensor([1, 1]), tensor([1, 1]), tensor([1, 1]), tensor([1, 1]), tensor([1, 1]), tensor([1, 1]), tensor([1, 1]), tensor([1, 1]), tensor([1, 1]), tensor([1, 1]), tensor([1, 1]), tensor([1, 1]), tensor([1, 1]), tensor([1, 1]), tensor([1, 1]), tensor([1, 1]), tensor([1, 1]), tensor([1, 1]), tensor([1, 1]), tensor([1, 1]), tensor([1, 1]), tensor([1, 1]), tensor([1, 1]), tensor([1, 1]), tensor([1, 1]), tensor([1, 1]), tensor([1, 1]), tensor([1, 1]), tensor([1, 1]), tensor([1, 1]), tensor([1, 1]), tensor([1, 1]), tensor([1, 1]), tensor([1, 1]), tensor([1, 1]), tensor([1, 1]), tensor([1, 1]), tensor([1, 1]), tensor([1, 1]), tensor([1, 1]), tensor([1, 1]), tensor([1, 1]), tensor([1, 1]), tensor([1, 1]), tensor([1, 1]), tensor([1, 1]), tensor([1, 1]), tensor([1, 1]), tensor([1, 1]), tensor([1, 1]), tensor([1, 1]), tensor([1, 1]), tensor([1, 1]), tensor([1, 1]), tensor([1, 1]), tensor([1, 1]), tensor([1, 1]), tensor([1, 1]), tensor([1, 1]), tensor([1, 1]), tensor([1, 1]), tensor([1, 1]), tensor([1, 1]), tensor([1, 1]), tensor([1, 1]), tensor([1, 1]), tensor([1, 1]), tensor([1, 1]), tensor([1, 1]), tensor([1, 1]), tensor([1, 1]), tensor([1, 1]), tensor([1, 1]), tensor([1, 1]), tensor([1, 1]), tensor([1, 1]), tensor([1, 1]), tensor([1, 1]), tensor([1, 1]), tensor([1, 1]), tensor([1, 1]), tensor([1, 1]), tensor([1, 1]), tensor([1, 1]), tensor([1, 1]), tensor([1, 1]), tensor([1, 1]), tensor([1, 1]), tensor([1, 1]), tensor([1, 1]), tensor([1, 1]), tensor([1, 1]), tensor([1, 1]), tensor([1, 1]), tensor([1, 1]), tensor([1, 1]), tensor([1, 1]), tensor([1, 1]), tensor([1, 1]), tensor([1, 1]), tensor([1, 1]), tensor([1, 1]), tensor([1, 1]), tensor([1, 1]), tensor([1, 1]), tensor([1, 1]), tensor([1, 1]), tensor([1, 1]), tensor([1, 1]), tensor([1, 1]), tensor([1, 1]), tensor([1, 1]), tensor([1, 1]), tensor([1, 1]), tensor([1, 1]), tensor([1, 1]), tensor([1, 1]), tensor([1, 1]), tensor([1, 1]), tensor([1, 1]), tensor([1, 1]), tensor([1, 1]), tensor([1, 1]), tensor([1, 1]), tensor([1, 1]), tensor([1, 1]), tensor([1, 1]), tensor([1, 1]), tensor([1, 1]), tensor([1, 1]), tensor([1, 1]), tensor([1, 1]), tensor([1, 1]), tensor([1, 1]), tensor([1, 1]), tensor([1, 1]), tensor([1, 1]), tensor([1, 1]), tensor([1, 1]), tensor([1, 1]), tensor([1, 1]), tensor([1, 1]), tensor([1, 1]), tensor([1, 1]), tensor([1, 1]), tensor([1, 1]), tensor([1, 1]), tensor([1, 1]), tensor([1, 1]), tensor([1, 1]), tensor([1, 1]), tensor([1, 1]), tensor([1, 1]), tensor([1, 1]), tensor([1, 1]), tensor([1, 1]), tensor([1, 1]), tensor([1, 1]), tensor([1, 1]), tensor([1, 1]), tensor([1, 1]), tensor([1, 1]), tensor([1, 1]), tensor([1, 1]), tensor([1, 1]), tensor([1, 1]), tensor([1, 1]), tensor([1, 1]), tensor([1, 1]), tensor([1, 1]), tensor([1, 1]), tensor([1, 1]), tensor([1, 1]), tensor([1, 1]), tensor([1, 1]), tensor([1, 1]), tensor([1, 1]), tensor([1, 1]), tensor([1, 1]), tensor([1, 1]), tensor([1, 1]), tensor([1, 1]), tensor([1, 1]), tensor([1, 1]), tensor([1, 1]), tensor([1, 1]), tensor([1, 1]), tensor([1, 1]), tensor([1, 1]), tensor([1, 1]), tensor([1, 1]), tensor([1, 1]), tensor([1, 1]), tensor([1, 1]), tensor([1, 1]), tensor([1, 1]), tensor([1, 1]), tensor([1, 1]), tensor([1, 1]), tensor([1, 1]), tensor([1, 1]), tensor([1, 1]), tensor([1, 1]), tensor([1, 1]), tensor([1, 1]), tensor([1, 1]), tensor([1, 1]), tensor([1, 1]), tensor([1, 1]), tensor([1, 1]), tensor([1, 1]), tensor([1, 1]), tensor([1, 1]), tensor([1, 1]), tensor([1, 1]), tensor([1, 1]), tensor([1, 1]), tensor([1, 1]), tensor([1, 1]), tensor([1, 1]), tensor([1, 1]), tensor([1, 1]), tensor([1, 1]), tensor([1, 1]), tensor([1, 1]), tensor([1, 1]), tensor([1, 1]), tensor([1, 1]), tensor([1, 1]), tensor([1, 1]), tensor([1, 1]), tensor([1, 1]), tensor([1, 1]), tensor([1, 1]), tensor([1, 1]), tensor([1, 1]), tensor([1, 1]), tensor([1, 1]), tensor([1, 1]), tensor([1, 1]), tensor([1, 1]), tensor([1, 1]), tensor([1, 1]), tensor([1, 1]), tensor([1, 1]), tensor([1, 1]), tensor([1, 1]), tensor([1, 1]), tensor([1, 1]), tensor([1, 1]), tensor([1, 1]), tensor([1, 1]), tensor([1, 1]), tensor([1, 1]), tensor([1, 1]), tensor([1, 1]), tensor([1, 1]), tensor([1, 1]), tensor([1, 1]), tensor([1, 1]), tensor([1, 1]), tensor([1, 1]), tensor([1, 1]), tensor([1, 1]), tensor([1, 1]), tensor([1, 1]), tensor([1, 1]), tensor([1, 1]), tensor([1, 1]), tensor([1, 1]), tensor([1, 1]), tensor([1, 1]), tensor([1, 1]), tensor([1, 1]), tensor([1, 1]), tensor([1, 1]), tensor([1, 1]), tensor([1, 1]), tensor([1, 1]), tensor([1, 1]), tensor([1, 1]), tensor([1, 1]), tensor([1, 1]), tensor([1, 1]), tensor([1, 1]), tensor([1, 1]), tensor([1, 1]), tensor([1, 1]), tensor([1, 1]), tensor([1, 1]), tensor([1, 1]), tensor([1, 1]), tensor([1, 1]), tensor([1, 1]), tensor([1, 1]), tensor([1, 1]), tensor([1, 1]), tensor([1, 1]), tensor([1, 1]), tensor([1, 1]), tensor([1, 1]), tensor([1, 1]), tensor([1, 1]), tensor([1, 1]), tensor([1, 1]), tensor([1, 1]), tensor([1, 1]), tensor([1, 1]), tensor([1, 1]), tensor([1, 1]), tensor([1, 1]), tensor([1, 1]), tensor([1, 1]), tensor([1, 1]), tensor([1, 1]), tensor([1, 1]), tensor([1, 1]), tensor([1, 1]), tensor([1, 1]), tensor([1, 1]), tensor([1, 1]), tensor([1, 1]), tensor([1, 1]), tensor([1, 1]), tensor([1, 1]), tensor([1, 1]), tensor([1, 1]), tensor([1, 1]), tensor([1, 1]), tensor([1, 1]), tensor([1, 1]), tensor([1, 1]), tensor([1, 1]), tensor([1, 1]), tensor([1, 1]), tensor([1, 1]), tensor([1, 1]), tensor([1, 1]), tensor([1, 1]), tensor([1, 1]), tensor([1, 1]), tensor([1, 1]), tensor([1, 1]), tensor([1, 1]), tensor([1, 1]), tensor([1, 1]), tensor([1, 1]), tensor([1, 1]), tensor([1, 1]), tensor([1, 1]), tensor([1, 1]), tensor([1, 1]), tensor([1, 1]), tensor([1, 1]), tensor([1, 1]), tensor([1, 1]), tensor([1, 1]), tensor([1, 1]), tensor([1, 1]), tensor([1, 1]), tensor([1, 1]), tensor([1, 1]), tensor([1, 1]), tensor([1, 1]), tensor([1, 1]), tensor([1, 1]), tensor([1, 1]), tensor([1, 1]), tensor([1, 1]), tensor([1, 1]), tensor([1, 1]), tensor([1, 1]), tensor([1, 1]), tensor([1, 1]), tensor([1, 1]), tensor([1, 1]), tensor([1, 1]), tensor([1, 1]), tensor([1, 1]), tensor([1, 1]), tensor([1, 1]), tensor([1, 1]), tensor([1, 1]), tensor([1, 1]), tensor([1, 1]), tensor([1, 1]), tensor([1, 1]), tensor([1, 1]), tensor([1, 1]), tensor([1, 1]), tensor([1, 1]), tensor([1, 1]), tensor([1, 1]), tensor([1, 1]), tensor([1, 1]), tensor([1, 1]), tensor([1, 1]), tensor([1, 1]), tensor([1, 1]), tensor([1, 1]), tensor([1, 1]), tensor([1, 1]), tensor([1, 1]), tensor([1, 1]), tensor([1, 1]), tensor([1, 1]), tensor([1, 1]), tensor([1, 1]), tensor([1, 1]), tensor([1, 1]), tensor([1, 1]), tensor([1, 1]), tensor([1, 1]), tensor([1, 1]), tensor([1, 1]), tensor([1, 1]), tensor([1, 1]), tensor([1, 1]), tensor([1, 1]), tensor([1, 1]), tensor([1, 1]), tensor([1, 1]), tensor([1, 1]), tensor([1, 1]), tensor([1, 1]), tensor([1, 1]), tensor([1, 1]), tensor([1, 1]), tensor([1, 1]), tensor([1, 1]), tensor([1, 1]), tensor([1, 1]), tensor([1, 1]), tensor([1, 1]), tensor([1, 1]), tensor([1, 1]), tensor([1, 1]), tensor([1, 1]), tensor([1, 1]), tensor([1, 1]), tensor([1, 1]), tensor([1, 1]), tensor([1, 1]), tensor([1, 1]), tensor([1, 1]), tensor([1, 1]), tensor([1, 1]), tensor([1, 1]), tensor([1, 1]), tensor([1, 1]), tensor([1, 1]), tensor([1, 1]), tensor([1, 1]), tensor([1, 1]), tensor([1, 1]), tensor([1, 1]), tensor([1, 1]), tensor([1, 1]), tensor([1, 1]), tensor([1, 1]), tensor([1, 1]), tensor([1, 1]), tensor([1, 1]), tensor([1, 1]), tensor([1, 1]), tensor([1, 1]), tensor([1, 1]), tensor([1, 1]), tensor([1, 1]), tensor([1, 1]), tensor([1, 1]), tensor([1, 1]), tensor([1, 1]), tensor([1, 1]), tensor([1, 1]), tensor([1, 1]), tensor([1, 1]), tensor([1, 1]), tensor([1, 1]), tensor([1, 1]), tensor([1, 1]), tensor([1, 1]), tensor([1, 1]), tensor([1, 1]), tensor([1, 1]), tensor([1, 1]), tensor([1, 1]), tensor([1, 1]), tensor([1, 1]), tensor([1, 1]), tensor([1, 1]), tensor([1, 1]), tensor([1, 1]), tensor([1, 1]), tensor([1, 1]), tensor([1, 1]), tensor([1, 1]), tensor([1, 1]), tensor([1, 1]), tensor([1, 1]), tensor([1, 1]), tensor([1, 1]), tensor([1, 1]), tensor([1, 1]), tensor([1, 1]), tensor([1, 1]), tensor([1, 1]), tensor([1, 1]), tensor([1, 1]), tensor([1, 1]), tensor([1, 1]), tensor([1, 1]), tensor([1, 1]), tensor([1, 1]), tensor([1, 1]), tensor([1, 1]), tensor([1, 1]), tensor([1, 1]), tensor([1, 1]), tensor([1, 1]), tensor([1, 1]), tensor([1, 1]), tensor([1, 1]), tensor([1, 1]), tensor([1, 1]), tensor([1, 1]), tensor([1, 1]), tensor([1, 1]), tensor([1, 1]), tensor([1, 1]), tensor([1, 1]), tensor([1, 1]), tensor([1, 1]), tensor([1, 1]), tensor([1, 1]), tensor([1, 1]), tensor([1, 1]), tensor([1, 1]), tensor([1, 1]), tensor([1, 1]), tensor([1, 1]), tensor([1, 1]), tensor([1, 1]), tensor([1, 1]), tensor([1, 1]), tensor([1, 1]), tensor([1, 1]), tensor([1, 1]), tensor([1, 1]), tensor([1, 1]), tensor([1, 1]), tensor([1, 1]), tensor([1, 1]), tensor([1, 1]), tensor([1, 1]), tensor([1, 1]), tensor([1, 1]), tensor([1, 1]), tensor([1, 1]), tensor([1, 1]), tensor([1, 1]), tensor([1, 1]), tensor([1, 1]), tensor([1, 1]), tensor([1, 1]), tensor([1, 1]), tensor([1, 1]), tensor([1, 1]), tensor([1, 1]), tensor([1, 1]), tensor([1, 1]), tensor([1, 1]), tensor([1, 1]), tensor([1, 1]), tensor([1, 1]), tensor([1, 1]), tensor([1, 1]), tensor([1, 1]), tensor([1, 1]), tensor([1, 1]), tensor([1, 1]), tensor([1, 1]), tensor([1, 1]), tensor([1, 1]), tensor([1, 1]), tensor([1, 1]), tensor([1, 1]), tensor([1, 1]), tensor([1, 1]), tensor([1, 1]), tensor([1, 1]), tensor([1, 1]), tensor([1, 1]), tensor([1, 1]), tensor([1, 1]), tensor([1, 1]), tensor([1, 1]), tensor([1, 1]), tensor([1, 1]), tensor([1, 1]), tensor([1, 1]), tensor([1, 1]), tensor([1, 1]), tensor([1, 1]), tensor([1, 1]), tensor([1, 1]), tensor([1, 1]), tensor([1, 1]), tensor([1, 1]), tensor([1, 1]), tensor([1, 1]), tensor([1, 1]), tensor([1, 1]), tensor([1, 1]), tensor([1, 1]), tensor([1, 1]), tensor([1, 1]), tensor([1, 1]), tensor([1, 1]), tensor([1, 1]), tensor([1, 1]), tensor([1, 1]), tensor([1, 1]), tensor([1, 1]), tensor([1, 1]), tensor([1, 1]), tensor([1, 1]), tensor([1, 1]), tensor([1, 1]), tensor([1, 1]), tensor([1, 1]), tensor([1, 1]), tensor([1, 1]), tensor([1, 1]), tensor([1, 1]), tensor([1, 1]), tensor([1, 1]), tensor([1, 1]), tensor([1, 1]), tensor([1, 1]), tensor([1, 1]), tensor([1, 1]), tensor([1, 1]), tensor([1, 1]), tensor([1, 1]), tensor([1, 1]), tensor([1, 1]), tensor([1, 1]), tensor([1, 1]), tensor([1, 1]), tensor([1, 1]), tensor([1, 1]), tensor([1, 1]), tensor([1, 1]), tensor([1, 1]), tensor([1, 1]), tensor([1, 1]), tensor([1, 1]), tensor([1, 1]), tensor([1, 1]), tensor([1, 1]), tensor([1, 1]), tensor([1, 1]), tensor([1, 1]), tensor([1, 1]), tensor([1, 1]), tensor([1, 1]), tensor([1, 1]), tensor([1, 1]), tensor([1, 1]), tensor([1, 1]), tensor([1, 1]), tensor([1, 1]), tensor([1, 1]), tensor([1, 1]), tensor([1, 1]), tensor([1, 1]), tensor([1, 1]), tensor([1, 1]), tensor([1, 1]), tensor([1, 1]), tensor([1, 1]), tensor([1, 1]), tensor([1, 1]), tensor([1, 1]), tensor([1, 1]), tensor([1, 1]), tensor([1, 1]), tensor([1, 1]), tensor([1, 1]), tensor([1, 1]), tensor([1, 1]), tensor([1, 1]), tensor([1, 1]), tensor([1, 1]), tensor([1, 1]), tensor([1, 1]), tensor([1, 1]), tensor([1, 1]), tensor([1, 1]), tensor([1, 1]), tensor([1, 1]), tensor([1, 1]), tensor([1, 1]), tensor([1, 1]), tensor([1, 1]), tensor([1, 1]), tensor([1, 1]), tensor([1, 1]), tensor([1, 1]), tensor([1, 1]), tensor([1, 1]), tensor([1, 1]), tensor([1, 1]), tensor([1, 1]), tensor([1, 1]), tensor([1, 1]), tensor([1, 1]), tensor([1, 1]), tensor([1, 1]), tensor([1, 1]), tensor([1, 1]), tensor([1, 1]), tensor([1, 1]), tensor([1, 1]), tensor([1, 1]), tensor([1, 1]), tensor([1, 1]), tensor([1, 1]), tensor([1, 1]), tensor([1, 1]), tensor([1, 1]), tensor([1, 1]), tensor([1, 1]), tensor([1, 1]), tensor([1, 1]), tensor([1, 1]), tensor([1, 1]), tensor([1, 1]), tensor([1, 1]), tensor([1, 1]), tensor([1, 1]), tensor([1, 1]), tensor([1, 1]), tensor([1, 1]), tensor([1, 1]), tensor([1, 1]), tensor([1, 1]), tensor([1, 1]), tensor([1, 1]), tensor([1, 1]), tensor([1, 1]), tensor([1, 1]), tensor([1, 1]), tensor([1, 1]), tensor([1, 1]), tensor([1, 1]), tensor([1, 1]), tensor([1, 1]), tensor([1, 1]), tensor([1, 1]), tensor([1, 1]), tensor([1, 1]), tensor([1, 1]), tensor([1, 1]), tensor([1, 1]), tensor([1, 1]), tensor([1, 1]), tensor([1, 1]), tensor([1, 1]), tensor([1, 1]), tensor([1, 1]), tensor([1, 1]), tensor([1, 1]), tensor([1, 1]), tensor([1, 1]), tensor([1, 1]), tensor([1, 1]), tensor([1, 1]), tensor([1, 1]), tensor([1, 1]), tensor([1, 1]), tensor([1, 1]), tensor([1, 1]), tensor([1, 1]), tensor([1, 1]), tensor([1, 1]), tensor([1, 1]), tensor([1, 1]), tensor([1, 1]), tensor([1, 1]), tensor([1, 1]), tensor([1, 1]), tensor([1, 1]), tensor([1, 1]), tensor([1, 1]), tensor([1, 1]), tensor([1, 1]), tensor([1, 1]), tensor([1, 1]), tensor([1, 1]), tensor([1, 1]), tensor([1, 1]), tensor([1, 1]), tensor([1, 1]), tensor([1, 1]), tensor([1, 1]), tensor([1, 1]), tensor([1, 1]), tensor([1, 1]), tensor([1, 1]), tensor([1, 1]), tensor([1, 1]), tensor([1, 1]), tensor([1, 1]), tensor([1, 1]), tensor([1, 1]), tensor([1, 1]), tensor([1, 1]), tensor([1, 1]), tensor([1, 1]), tensor([1, 1]), tensor([1, 1]), tensor([1, 1]), tensor([1, 1]), tensor([1, 1]), tensor([1, 1]), tensor([1, 1]), tensor([1, 1]), tensor([1, 1]), tensor([1, 1]), tensor([1, 1]), tensor([1, 1]), tensor([1, 1]), tensor([1, 1]), tensor([1, 1]), tensor([1, 1]), tensor([1, 1]), tensor([1, 1]), tensor([1, 1]), tensor([1, 1]), tensor([1, 1]), tensor([1, 1]), tensor([1, 1]), tensor([1, 1]), tensor([1, 1]), tensor([1, 1]), tensor([1, 1]), tensor([1, 1]), tensor([1, 1]), tensor([1, 1]), tensor([1, 1]), tensor([1, 1]), tensor([1, 1]), tensor([1, 1]), tensor([1, 1]), tensor([1, 1]), tensor([1, 1]), tensor([1, 1]), tensor([1, 1]), tensor([1, 1]), tensor([1, 1]), tensor([1, 1]), tensor([1, 1]), tensor([1, 1]), tensor([1, 1]), tensor([1, 1]), tensor([1, 1]), tensor([1, 1]), tensor([1, 1]), tensor([1, 1]), tensor([1, 1]), tensor([1, 1]), tensor([1, 1]), tensor([1, 1]), tensor([1, 1]), tensor([1, 1]), tensor([1, 1]), tensor([1, 1]), tensor([1, 1]), tensor([1, 1]), tensor([1, 1]), tensor([1, 1]), tensor([1, 1]), tensor([1, 1]), tensor([1, 1]), tensor([1, 1]), tensor([1, 1]), tensor([1, 1]), tensor([1, 1]), tensor([1, 1]), tensor([1, 1]), tensor([1, 1]), tensor([1, 1]), tensor([1, 1]), tensor([1, 1]), tensor([1, 1]), tensor([1, 1]), tensor([1, 1]), tensor([1, 1]), tensor([1, 1]), tensor([1, 1]), tensor([1, 1]), tensor([1, 1]), tensor([1, 1]), tensor([1, 1]), tensor([1, 1]), tensor([1, 1]), tensor([1, 1]), tensor([1, 1]), tensor([1, 1]), tensor([1, 1]), tensor([1, 1]), tensor([1, 1]), tensor([1, 1]), tensor([1, 1]), tensor([1, 1]), tensor([1, 1]), tensor([1, 1]), tensor([1, 1]), tensor([1, 1]), tensor([1, 1]), tensor([1, 1]), tensor([1, 1]), tensor([1, 1]), tensor([1, 1]), tensor([1, 1]), tensor([1, 1]), tensor([1, 1]), tensor([1, 1]), tensor([1, 1]), tensor([1, 1]), tensor([1, 1]), tensor([1, 1]), tensor([1, 1]), tensor([1, 1]), tensor([1, 1]), tensor([1, 1]), tensor([1, 1]), tensor([1, 1]), tensor([1, 1]), tensor([1, 1]), tensor([1, 1]), tensor([1, 1]), tensor([1, 1]), tensor([1, 1]), tensor([1, 1]), tensor([1, 1]), tensor([1, 1]), tensor([1, 1]), tensor([1, 1]), tensor([1, 1]), tensor([1, 1]), tensor([1, 1]), tensor([1, 1]), tensor([1, 1]), tensor([1, 1]), tensor([1, 1]), tensor([1, 1]), tensor([1, 1]), tensor([1, 1]), tensor([1, 1]), tensor([1, 1]), tensor([1, 1]), tensor([1, 1]), tensor([1, 1]), tensor([1, 1]), tensor([1, 1]), tensor([1, 1]), tensor([1, 1]), tensor([1, 1]), tensor([1, 1]), tensor([1, 1]), tensor([1, 1]), tensor([1, 1]), tensor([1, 1]), tensor([1, 1]), tensor([1, 1]), tensor([1, 1]), tensor([1, 1]), tensor([1, 1]), tensor([1, 1]), tensor([1, 1]), tensor([1, 1]), tensor([1, 1]), tensor([1, 1]), tensor([1, 1]), tensor([1, 1]), tensor([1, 1]), tensor([1, 1]), tensor([1, 1]), tensor([1, 1]), tensor([1, 1]), tensor([1, 1]), tensor([1, 1]), tensor([1, 1]), tensor([1, 1]), tensor([1, 1]), tensor([1, 1]), tensor([1, 1]), tensor([1, 1]), tensor([1, 1]), tensor([1, 1]), tensor([1, 1]), tensor([1, 1]), tensor([1, 1]), tensor([1, 1]), tensor([1, 1]), tensor([1, 1]), tensor([1, 1]), tensor([1, 1]), tensor([1, 1]), tensor([1, 1]), tensor([1, 1]), tensor([1, 1]), tensor([1, 1]), tensor([1, 1]), tensor([1, 1]), tensor([1, 1]), tensor([1, 1]), tensor([1, 1]), tensor([1, 1]), tensor([1, 1]), tensor([1, 1]), tensor([1, 1]), tensor([1, 1]), tensor([1, 1]), tensor([1, 1]), tensor([1, 1]), tensor([1, 1]), tensor([1, 1]), tensor([1, 1]), tensor([1, 1]), tensor([1, 1]), tensor([1, 1]), tensor([1, 1]), tensor([1, 1]), tensor([1, 1]), tensor([1, 1]), tensor([1, 1]), tensor([1, 1]), tensor([1, 1]), tensor([1, 1]), tensor([1, 1]), tensor([1, 1]), tensor([1, 1]), tensor([1, 1]), tensor([1, 1]), tensor([1, 1]), tensor([1, 1]), tensor([1, 1]), tensor([1, 1]), tensor([1, 1]), tensor([1, 1]), tensor([1, 1]), tensor([1, 1]), tensor([1, 1]), tensor([1, 1]), tensor([1, 1]), tensor([1, 1]), tensor([1, 1]), tensor([1, 1]), tensor([1, 1]), tensor([1, 1]), tensor([1, 1]), tensor([1, 1]), tensor([1, 1]), tensor([1, 1]), tensor([1, 1]), tensor([1, 1]), tensor([1, 1]), tensor([1, 1]), tensor([1, 1]), tensor([1, 1]), tensor([1, 1]), tensor([1, 1]), tensor([1, 1]), tensor([1, 1]), tensor([1, 1]), tensor([1, 1]), tensor([1, 1]), tensor([1, 1]), tensor([1, 1]), tensor([1, 1]), tensor([1, 1]), tensor([0, 0]), tensor([0, 0]), tensor([0, 0]), tensor([0, 0]), tensor([0, 0]), tensor([0, 0]), tensor([0, 0]), tensor([0, 0]), tensor([0, 0]), tensor([0, 0]), tensor([0, 0]), tensor([0, 0]), tensor([0, 0]), tensor([0, 0]), tensor([0, 0]), tensor([0, 0]), tensor([0, 0]), tensor([0, 0]), tensor([0, 0]), tensor([0, 0]), tensor([0, 0]), tensor([0, 0]), tensor([0, 0]), tensor([0, 0]), tensor([0, 0]), tensor([0, 0]), tensor([0, 0]), tensor([0, 0]), tensor([0, 0]), tensor([0, 0]), tensor([0, 0]), tensor([0, 0]), tensor([0, 0]), tensor([0, 0]), tensor([0, 0]), tensor([0, 0]), tensor([0, 0]), tensor([0, 0]), tensor([0, 0]), tensor([0, 0]), tensor([0, 0]), tensor([0, 0]), tensor([0, 0]), tensor([0, 0]), tensor([0, 0]), tensor([0, 0]), tensor([0, 0]), tensor([0, 0]), tensor([0, 0]), tensor([0, 0]), tensor([0, 0]), tensor([0, 0]), tensor([0, 0]), tensor([0, 0]), tensor([0, 0]), tensor([0, 0]), tensor([0, 0]), tensor([0, 0]), tensor([0, 0]), tensor([0, 0]), tensor([0, 0]), tensor([0, 0]), tensor([0, 0]), tensor([0, 0]), tensor([0, 0]), tensor([0, 0]), tensor([0, 0]), tensor([0, 0]), tensor([0, 0]), tensor([0, 0]), tensor([0, 0]), tensor([0, 0]), tensor([0, 0]), tensor([0, 0]), tensor([0, 0]), tensor([0, 0]), tensor([0, 0]), tensor([0, 0]), tensor([0, 0]), tensor([0, 0]), tensor([0, 0]), tensor([0, 0]), tensor([0, 0]), tensor([0, 0]), tensor([0, 0]), tensor([0, 0]), tensor([0, 0]), tensor([0, 0]), tensor([0, 0]), tensor([0, 0]), tensor([0, 0]), tensor([0, 0]), tensor([0, 0]), tensor([0, 0]), tensor([0, 0]), tensor([0, 0]), tensor([0, 0]), tensor([0, 0]), tensor([0, 0]), tensor([0, 0]), tensor([0, 0]), tensor([0, 0]), tensor([0, 0]), tensor([0, 0]), tensor([0, 0]), tensor([0, 0]), tensor([0, 0]), tensor([0, 0]), tensor([0, 0]), tensor([0, 0]), tensor([0, 0]), tensor([0, 0]), tensor([0, 0]), tensor([0, 0]), tensor([0, 0]), tensor([0, 0]), tensor([0, 0]), tensor([0, 0]), tensor([0, 0]), tensor([0, 0]), tensor([0, 0]), tensor([0, 0]), tensor([0, 0]), tensor([0, 0]), tensor([0, 0]), tensor([0, 0]), tensor([0, 0]), tensor([0, 0]), tensor([0, 0]), tensor([0, 0]), tensor([0, 0]), tensor([0, 0]), tensor([0, 0]), tensor([0, 0]), tensor([0, 0]), tensor([0, 0]), tensor([0, 0]), tensor([0, 0]), tensor([0, 0]), tensor([0, 0]), tensor([0, 0]), tensor([0, 0]), tensor([0, 0]), tensor([0, 0]), tensor([0, 0]), tensor([0, 0]), tensor([0, 0]), tensor([0, 0]), tensor([0, 0]), tensor([0, 0]), tensor([0, 0]), tensor([0, 0]), tensor([0, 0]), tensor([0, 0]), tensor([0, 0]), tensor([0, 0]), tensor([0, 0]), tensor([0, 0]), tensor([0, 0]), tensor([0, 0]), tensor([0, 0]), tensor([0, 0]), tensor([0, 0]), tensor([0, 0]), tensor([0, 0]), tensor([0, 0]), tensor([0, 0]), tensor([0, 0]), tensor([0, 0]), tensor([0, 0]), tensor([0, 0]), tensor([0, 0]), tensor([0, 0]), tensor([0, 0]), tensor([0, 0]), tensor([0, 0]), tensor([0, 0]), tensor([0, 0]), tensor([0, 0]), tensor([0, 0]), tensor([0, 0]), tensor([0, 0]), tensor([0, 0]), tensor([0, 0]), tensor([0, 0]), tensor([0, 0]), tensor([0, 0]), tensor([0, 0]), tensor([0, 0]), tensor([0, 0]), tensor([0, 0]), tensor([0, 0]), tensor([0, 0]), tensor([0, 0]), tensor([0, 0]), tensor([0, 0]), tensor([0, 0]), tensor([0, 0]), tensor([0, 0]), tensor([0, 0]), tensor([0, 0]), tensor([0, 0]), tensor([0, 0]), tensor([0, 0]), tensor([0, 0]), tensor([0, 0]), tensor([0, 0]), tensor([0, 0]), tensor([0, 0]), tensor([0, 0]), tensor([0, 0]), tensor([0, 0]), tensor([0, 0]), tensor([0, 0]), tensor([0, 0]), tensor([0, 0]), tensor([0, 0]), tensor([0, 0]), tensor([0, 0]), tensor([0, 0]), tensor([0, 0]), tensor([0, 0]), tensor([0, 0]), tensor([0, 0]), tensor([0, 0]), tensor([0, 0]), tensor([0, 0]), tensor([0, 0]), tensor([0, 0]), tensor([0, 0]), tensor([0, 0]), tensor([0, 0]), tensor([0, 0]), tensor([0, 0]), tensor([0, 0]), tensor([0, 0]), tensor([0, 0]), tensor([0, 0]), tensor([0, 0]), tensor([0, 0]), tensor([0, 0]), tensor([0, 0]), tensor([0, 0]), tensor([0, 0]), tensor([0, 0]), tensor([0, 0]), tensor([0, 0]), tensor([0, 0]), tensor([0, 0]), tensor([0, 0]), tensor([0, 0]), tensor([0, 0]), tensor([0, 0]), tensor([0, 0]), tensor([0, 0]), tensor([0, 0]), tensor([0, 0]), tensor([0, 0]), tensor([0, 0]), tensor([0, 0]), tensor([0, 0]), tensor([0, 0]), tensor([0, 0]), tensor([0, 0]), tensor([0, 0]), tensor([0, 0]), tensor([0, 0]), tensor([0, 0]), tensor([0, 0]), tensor([0, 0]), tensor([0, 0]), tensor([0, 0]), tensor([0, 0]), tensor([0, 0]), tensor([0, 0]), tensor([0, 0]), tensor([0, 0]), tensor([0, 0]), tensor([0, 0]), tensor([0, 0]), tensor([0, 0]), tensor([0, 0]), tensor([0, 0]), tensor([0, 0]), tensor([0, 0]), tensor([0, 0]), tensor([0, 0]), tensor([0, 0]), tensor([0, 0]), tensor([0, 0]), tensor([0, 0]), tensor([0, 0]), tensor([0, 0]), tensor([0, 0]), tensor([0, 0]), tensor([0, 0]), tensor([0, 0]), tensor([0, 0]), tensor([0, 0]), tensor([0, 0]), tensor([0, 0]), tensor([0, 0]), tensor([0, 0]), tensor([0, 0]), tensor([0, 0]), tensor([0, 0]), tensor([0, 0]), tensor([0, 0]), tensor([0, 0]), tensor([0, 0]), tensor([0, 0]), tensor([0, 0]), tensor([0, 0]), tensor([0, 0]), tensor([0, 0]), tensor([0, 0]), tensor([0, 0]), tensor([0, 0]), tensor([0, 0]), tensor([0, 0]), tensor([0, 0]), tensor([0, 0]), tensor([0, 0]), tensor([0, 0]), tensor([0, 0]), tensor([0, 0]), tensor([0, 0]), tensor([0, 0]), tensor([0, 0]), tensor([0, 0]), tensor([0, 0]), tensor([0, 0]), tensor([0, 0]), tensor([0, 0]), tensor([0, 0]), tensor([0, 0]), tensor([0, 0]), tensor([0, 0]), tensor([0, 0]), tensor([0, 0]), tensor([0, 0]), tensor([0, 0]), tensor([0, 0]), tensor([0, 0]), tensor([0, 0]), tensor([0, 0]), tensor([0, 0]), tensor([0, 0]), tensor([0, 0]), tensor([0, 0]), tensor([0, 0]), tensor([0, 0]), tensor([0, 0]), tensor([0, 0]), tensor([0, 0]), tensor([0, 0]), tensor([0, 0]), tensor([0, 0]), tensor([0, 0]), tensor([0, 0]), tensor([0, 0]), tensor([0, 0]), tensor([0, 0]), tensor([0, 0]), tensor([0, 0]), tensor([0, 0]), tensor([0, 0]), tensor([0, 0]), tensor([0, 0]), tensor([0, 0]), tensor([0, 0]), tensor([0, 0]), tensor([0, 0]), tensor([0, 0]), tensor([0, 0]), tensor([0, 0]), tensor([0, 0]), tensor([0, 0]), tensor([0, 0]), tensor([0, 0]), tensor([0, 0]), tensor([0, 0]), tensor([0, 0]), tensor([0, 0]), tensor([0, 0]), tensor([0, 0]), tensor([0, 0]), tensor([0, 0]), tensor([0, 0]), tensor([0, 0]), tensor([0, 0]), tensor([0, 0]), tensor([0, 0]), tensor([0, 0]), tensor([0, 0]), tensor([0, 0]), tensor([0, 0]), tensor([0, 0]), tensor([0, 0]), tensor([0, 0]), tensor([0, 0]), tensor([0, 0]), tensor([0, 0]), tensor([0, 0]), tensor([0, 0]), tensor([0, 0]), tensor([0, 0]), tensor([0, 0]), tensor([0, 0]), tensor([0, 0]), tensor([0, 0]), tensor([0, 0]), tensor([0, 0]), tensor([0, 0]), tensor([0, 0]), tensor([0, 0]), tensor([0, 0]), tensor([0, 0]), tensor([0, 0]), tensor([0, 0]), tensor([0, 0]), tensor([0, 0]), tensor([0, 0]), tensor([0, 0]), tensor([0, 0]), tensor([0, 0]), tensor([0, 0]), tensor([0, 0]), tensor([0, 0]), tensor([0, 0]), tensor([0, 0]), tensor([0, 0]), tensor([0, 0]), tensor([0, 0]), tensor([0, 0]), tensor([0, 0]), tensor([0, 0]), tensor([0, 0]), tensor([0, 0]), tensor([0, 0]), tensor([0, 0]), tensor([0, 0]), tensor([0, 0]), tensor([0, 0]), tensor([0, 0]), tensor([0, 0]), tensor([0, 0]), tensor([0, 0]), tensor([0, 0]), tensor([0, 0]), tensor([0, 0]), tensor([0, 0]), tensor([0, 0]), tensor([0, 0]), tensor([0, 0]), tensor([0, 0]), tensor([0, 0]), tensor([0, 0]), tensor([0, 0]), tensor([0, 0]), tensor([0, 0]), tensor([0, 0]), tensor([0, 0]), tensor([0, 0]), tensor([0, 0]), tensor([0, 0]), tensor([0, 0]), tensor([0, 0]), tensor([0, 0]), tensor([0, 0]), tensor([0, 0]), tensor([0, 0]), tensor([0, 0]), tensor([0, 0]), tensor([0, 0]), tensor([0, 0]), tensor([0, 0]), tensor([0, 0]), tensor([0, 0]), tensor([0, 0]), tensor([0, 0]), tensor([0, 0]), tensor([0, 0]), tensor([0, 0]), tensor([0, 0]), tensor([0, 0]), tensor([0, 0]), tensor([0, 0]), tensor([0, 0]), tensor([0, 0]), tensor([0, 0]), tensor([0, 0]), tensor([0, 0]), tensor([0, 0]), tensor([0, 0]), tensor([0, 0]), tensor([0, 0]), tensor([0, 0]), tensor([0, 0]), tensor([0, 0]), tensor([0, 0]), tensor([0, 0]), tensor([0, 0]), tensor([0, 0]), tensor([0, 0]), tensor([0, 0]), tensor([0, 0]), tensor([0, 0]), tensor([0, 0]), tensor([0, 0]), tensor([0, 0]), tensor([0, 0]), tensor([0, 0]), tensor([0, 0]), tensor([0, 0]), tensor([0, 0]), tensor([0, 0]), tensor([0, 0]), tensor([0, 0]), tensor([0, 0]), tensor([0, 0]), tensor([0, 0]), tensor([0, 0]), tensor([0, 0]), tensor([0, 0]), tensor([0, 0]), tensor([0, 0]), tensor([0, 0]), tensor([0, 0]), tensor([0, 0]), tensor([0, 0]), tensor([0, 0]), tensor([0, 0]), tensor([0, 0]), tensor([0, 0]), tensor([0, 0]), tensor([0, 0]), tensor([0, 0]), tensor([0, 0]), tensor([0, 0]), tensor([0, 0]), tensor([0, 0]), tensor([0, 0]), tensor([0, 0]), tensor([0, 0]), tensor([0, 0]), tensor([0, 0]), tensor([0, 0]), tensor([0, 0]), tensor([0, 0]), tensor([0, 0]), tensor([0, 0]), tensor([0, 0]), tensor([0, 0]), tensor([0, 0]), tensor([0, 0]), tensor([0, 0]), tensor([0, 0]), tensor([0, 0]), tensor([0, 0]), tensor([0, 0]), tensor([0, 0]), tensor([0, 0]), tensor([0, 0]), tensor([0, 0]), tensor([0, 0]), tensor([0, 0]), tensor([0, 0]), tensor([0, 0]), tensor([0, 0]), tensor([0, 0]), tensor([0, 0]), tensor([0, 0]), tensor([0, 0]), tensor([0, 0]), tensor([0, 0]), tensor([0, 0]), tensor([0, 0]), tensor([0, 0]), tensor([0, 0]), tensor([0, 0]), tensor([0, 0]), tensor([0, 0]), tensor([0, 0]), tensor([0, 0]), tensor([0, 0]), tensor([0, 0]), tensor([0, 0]), tensor([0, 0]), tensor([0, 0]), tensor([0, 0]), tensor([0, 0]), tensor([0, 0]), tensor([0, 0]), tensor([0, 0]), tensor([0, 0]), tensor([0, 0]), tensor([0, 0]), tensor([0, 0]), tensor([0, 0]), tensor([0, 0]), tensor([0, 0]), tensor([0, 0]), tensor([0, 0]), tensor([0, 0]), tensor([0, 0]), tensor([0, 0]), tensor([0, 0]), tensor([0, 0]), tensor([0, 0]), tensor([0, 0]), tensor([0, 0]), tensor([0, 0]), tensor([0, 0]), tensor([0, 0]), tensor([0, 0]), tensor([0, 0]), tensor([0, 0]), tensor([0, 0]), tensor([0, 0]), tensor([0, 0]), tensor([0, 0]), tensor([0, 0]), tensor([0, 0]), tensor([0, 0]), tensor([0, 0]), tensor([0, 0]), tensor([0, 0]), tensor([0, 0]), tensor([0, 0]), tensor([0, 0]), tensor([0, 0]), tensor([0, 0]), tensor([0, 0]), tensor([0, 0]), tensor([0, 0]), tensor([0, 0]), tensor([0, 0]), tensor([0, 0]), tensor([0, 0]), tensor([0, 0]), tensor([0, 0]), tensor([0, 0]), tensor([0, 0]), tensor([0, 0]), tensor([0, 0]), tensor([0, 0]), tensor([0, 0]), tensor([0, 0]), tensor([0, 0]), tensor([0, 0]), tensor([0, 0]), tensor([0, 0]), tensor([0, 0]), tensor([0, 0]), tensor([0, 0]), tensor([0, 0]), tensor([0, 0]), tensor([0, 0]), tensor([0, 0]), tensor([0, 0]), tensor([0, 0]), tensor([0, 0]), tensor([0, 0]), tensor([0, 0]), tensor([0, 0]), tensor([0, 0]), tensor([0, 0]), tensor([0, 0]), tensor([0, 0]), tensor([0, 0]), tensor([0, 0]), tensor([0, 0]), tensor([0, 0]), tensor([0, 0]), tensor([0, 0]), tensor([0, 0]), tensor([0, 0]), tensor([0, 0]), tensor([0, 0]), tensor([0, 0]), tensor([0, 0]), tensor([0, 0]), tensor([0, 0]), tensor([0, 0]), tensor([0, 0]), tensor([0, 0]), tensor([0, 0]), tensor([0, 0]), tensor([0, 0]), tensor([0, 0]), tensor([0, 0]), tensor([0, 0]), tensor([0, 0]), tensor([0, 0]), tensor([0, 0]), tensor([0, 0]), tensor([0, 0]), tensor([0, 0]), tensor([0, 0]), tensor([0, 0]), tensor([0, 0]), tensor([0, 0]), tensor([0, 0]), tensor([0, 0]), tensor([0, 0]), tensor([0, 0]), tensor([0, 0]), tensor([0, 0]), tensor([0, 0]), tensor([0, 0]), tensor([0, 0]), tensor([0, 0]), tensor([0, 0]), tensor([0, 0]), tensor([0, 0]), tensor([0, 0]), tensor([0, 0]), tensor([0, 0]), tensor([0, 0]), tensor([0, 0]), tensor([0, 0]), tensor([0, 0]), tensor([0, 0]), tensor([0, 0]), tensor([0, 0]), tensor([0, 0]), tensor([0, 0]), tensor([0, 0]), tensor([0, 0]), tensor([0, 0]), tensor([0, 0]), tensor([0, 0]), tensor([0, 0]), tensor([0, 0]), tensor([0, 0]), tensor([0, 0]), tensor([0, 0]), tensor([0, 0]), tensor([0, 0]), tensor([0, 0]), tensor([0, 0]), tensor([0, 0]), tensor([0, 0]), tensor([0, 0]), tensor([0, 0]), tensor([0, 0]), tensor([0, 0]), tensor([0, 0]), tensor([0, 0]), tensor([0, 0]), tensor([0, 0]), tensor([0, 0]), tensor([0, 0]), tensor([0, 0]), tensor([0, 0]), tensor([0, 0]), tensor([0, 0]), tensor([0, 0]), tensor([0, 0]), tensor([0, 0]), tensor([0, 0]), tensor([0, 0]), tensor([0, 0]), tensor([0, 0]), tensor([0, 0]), tensor([0, 0]), tensor([0, 0]), tensor([0, 0]), tensor([0, 0]), tensor([0, 0]), tensor([0, 0]), tensor([0, 0]), tensor([0, 0]), tensor([0, 0]), tensor([0, 0]), tensor([0, 0]), tensor([0, 0]), tensor([0, 0]), tensor([0, 0]), tensor([0, 0]), tensor([0, 0]), tensor([0, 0]), tensor([0, 0]), tensor([0, 0]), tensor([0, 0]), tensor([0, 0]), tensor([0, 0]), tensor([0, 0]), tensor([0, 0]), tensor([0, 0]), tensor([0, 0]), tensor([0, 0]), tensor([0, 0]), tensor([0, 0]), tensor([0, 0]), tensor([0, 0]), tensor([0, 0]), tensor([0, 0]), tensor([0, 0]), tensor([0, 0]), tensor([0, 0]), tensor([0, 0]), tensor([0, 0]), tensor([0, 0]), tensor([0, 0]), tensor([0, 0]), tensor([0, 0]), tensor([0, 0]), tensor([0, 0]), tensor([0, 0]), tensor([0, 0]), tensor([0, 0]), tensor([0, 0]), tensor([0, 0]), tensor([0, 0]), tensor([0, 0]), tensor([0, 0]), tensor([0, 0]), tensor([0, 0]), tensor([0, 0]), tensor([0, 0]), tensor([0, 0]), tensor([0, 0]), tensor([0, 0]), tensor([0, 0]), tensor([0, 0]), tensor([0, 0]), tensor([0, 0]), tensor([0, 0]), tensor([0, 0]), tensor([0, 0]), tensor([0, 0]), tensor([0, 0]), tensor([0, 0]), tensor([0, 0]), tensor([0, 0]), tensor([0, 0]), tensor([0, 0]), tensor([0, 0]), tensor([0, 0]), tensor([0, 0]), tensor([0, 0]), tensor([0, 0]), tensor([0, 0]), tensor([0, 0]), tensor([0, 0]), tensor([0, 0]), tensor([0, 0]), tensor([0, 0]), tensor([0, 0]), tensor([0, 0]), tensor([0, 0]), tensor([0, 0]), tensor([0, 0]), tensor([0, 0]), tensor([0, 0]), tensor([0, 0]), tensor([0, 0]), tensor([0, 0]), tensor([0, 0]), tensor([0, 0]), tensor([0, 0]), tensor([0, 0]), tensor([0, 0]), tensor([0, 0]), tensor([0, 0]), tensor([0, 0]), tensor([0, 0]), tensor([0, 0]), tensor([0, 0]), tensor([0, 0]), tensor([0, 0]), tensor([0, 0]), tensor([0, 0]), tensor([0, 0]), tensor([0, 0]), tensor([0, 0]), tensor([0, 0]), tensor([0, 0]), tensor([0, 0]), tensor([0, 0]), tensor([0, 0]), tensor([0, 0]), tensor([0, 0]), tensor([0, 0]), tensor([0, 0]), tensor([0, 0]), tensor([0, 0]), tensor([0, 0]), tensor([0, 0]), tensor([0, 0]), tensor([0, 0]), tensor([0, 0]), tensor([0, 0]), tensor([0, 0]), tensor([0, 0]), tensor([0, 0]), tensor([0, 0]), tensor([0, 0]), tensor([0, 0]), tensor([0, 0]), tensor([0, 0]), tensor([0, 0]), tensor([0, 0]), tensor([0, 0]), tensor([0, 0]), tensor([0, 0]), tensor([0, 0]), tensor([0, 0]), tensor([0, 0]), tensor([0, 0]), tensor([0, 0]), tensor([0, 0]), tensor([0, 0]), tensor([0, 0]), tensor([0, 0]), tensor([0, 0]), tensor([0, 0]), tensor([0, 0]), tensor([0, 0]), tensor([0, 0]), tensor([0, 0]), tensor([0, 0]), tensor([0, 0]), tensor([0, 0]), tensor([0, 0]), tensor([0, 0]), tensor([0, 0]), tensor([0, 0]), tensor([0, 0]), tensor([0, 0]), tensor([0, 0]), tensor([0, 0]), tensor([0, 0]), tensor([0, 0]), tensor([0, 0]), tensor([0, 0]), tensor([0, 0]), tensor([0, 0]), tensor([0, 0]), tensor([0, 0]), tensor([0, 0]), tensor([0, 0]), tensor([0, 0]), tensor([0, 0]), tensor([0, 0]), tensor([0, 0]), tensor([0, 0]), tensor([0, 0]), tensor([0, 0]), tensor([0, 0]), tensor([0, 0]), tensor([0, 0]), tensor([0, 0]), tensor([0, 0]), tensor([0, 0]), tensor([0, 0]), tensor([0, 0]), tensor([0, 0]), tensor([0, 0]), tensor([0, 0]), tensor([0, 0]), tensor([0, 0]), tensor([0, 0]), tensor([0, 0]), tensor([0, 0]), tensor([0, 0]), tensor([0, 0]), tensor([0, 0]), tensor([0, 0]), tensor([0, 0]), tensor([0, 0]), tensor([0, 0]), tensor([0, 0]), tensor([0, 0]), tensor([0, 0]), tensor([0, 0]), tensor([0, 0]), tensor([0, 0]), tensor([0, 0]), tensor([0, 0]), tensor([0, 0]), tensor([0, 0]), tensor([0, 0]), tensor([0, 0]), tensor([0, 0]), tensor([0, 0]), tensor([0, 0]), tensor([0, 0]), tensor([0, 0]), tensor([0, 0]), tensor([0, 0]), tensor([0, 0]), tensor([0, 0]), tensor([0, 0]), tensor([0, 0]), tensor([0, 0]), tensor([0, 0]), tensor([0, 0]), tensor([0, 0]), tensor([0, 0]), tensor([0, 0]), tensor([0, 0]), tensor([0, 0]), tensor([0, 0]), tensor([0, 0]), tensor([0, 0]), tensor([0, 0]), tensor([0, 0]), tensor([0, 0]), tensor([0, 0]), tensor([0, 0]), tensor([0, 0]), tensor([0, 0]), tensor([0, 0]), tensor([0, 0]), tensor([0, 0]), tensor([0, 0]), tensor([0, 0]), tensor([0, 0]), tensor([0, 0]), tensor([0, 0]), tensor([0, 0]), tensor([0, 0]), tensor([0, 0]), tensor([0, 0]), tensor([0, 0]), tensor([0, 0]), tensor([0, 0]), tensor([0, 0]), tensor([0, 0]), tensor([0, 0]), tensor([0, 0]), tensor([0, 0]), tensor([0, 0]), tensor([0, 0]), tensor([0, 0]), tensor([0, 0]), tensor([0, 0]), tensor([0, 0]), tensor([0, 0]), tensor([0, 0]), tensor([0, 0]), tensor([0, 0]), tensor([0, 0]), tensor([0, 0]), tensor([0, 0]), tensor([0, 0]), tensor([0, 0]), tensor([0, 0]), tensor([0, 0]), tensor([0, 0]), tensor([0, 0]), tensor([0, 0]), tensor([0, 0]), tensor([0, 0]), tensor([0, 0]), tensor([0, 0]), tensor([0, 0]), tensor([0, 0]), tensor([0, 0]), tensor([0, 0]), tensor([0, 0]), tensor([0, 0]), tensor([0, 0]), tensor([0, 0]), tensor([0, 0]), tensor([0, 0]), tensor([0, 0]), tensor([0, 0]), tensor([0, 0]), tensor([0, 0]), tensor([0, 0]), tensor([0, 0]), tensor([0, 0]), tensor([0, 0]), tensor([0, 0]), tensor([0, 0]), tensor([0, 0]), tensor([0, 0]), tensor([0, 0]), tensor([0, 0]), tensor([0, 0]), tensor([0, 0]), tensor([0, 0]), tensor([0, 0]), tensor([0, 0]), tensor([0, 0]), tensor([0, 0]), tensor([0, 0]), tensor([0, 0]), tensor([0, 0]), tensor([0, 0]), tensor([0, 0]), tensor([0, 0]), tensor([0, 0]), tensor([0, 0]), tensor([0, 0]), tensor([0, 0]), tensor([0, 1]), tensor([0, 1]), tensor([0, 1]), tensor([0, 1]), tensor([0, 1]), tensor([0, 1]), tensor([0, 1]), tensor([0, 1]), tensor([0, 1]), tensor([0, 1]), tensor([0, 1]), tensor([0, 1]), tensor([0, 1]), tensor([0, 1]), tensor([0, 1]), tensor([0, 1]), tensor([0, 1]), tensor([0, 1]), tensor([0, 1]), tensor([0, 1]), tensor([0, 1]), tensor([0, 1]), tensor([0, 1]), tensor([0, 1]), tensor([0, 1]), tensor([0, 1]), tensor([0, 1]), tensor([0, 1]), tensor([0, 1]), tensor([0, 1]), tensor([0, 1]), tensor([0, 1]), tensor([0, 1]), tensor([0, 1]), tensor([0, 1]), tensor([0, 1]), tensor([0, 1]), tensor([0, 1]), tensor([0, 1]), tensor([0, 1]), tensor([0, 1]), tensor([0, 1]), tensor([0, 1]), tensor([0, 1]), tensor([0, 1]), tensor([0, 1]), tensor([0, 1]), tensor([0, 1]), tensor([0, 1]), tensor([0, 1]), tensor([0, 1]), tensor([0, 1]), tensor([0, 1]), tensor([0, 1]), tensor([0, 1]), tensor([0, 1]), tensor([0, 1]), tensor([0, 1]), tensor([0, 1]), tensor([0, 1]), tensor([0, 1]), tensor([0, 1]), tensor([0, 1]), tensor([0, 1]), tensor([0, 1]), tensor([0, 1]), tensor([0, 1]), tensor([0, 1]), tensor([0, 1]), tensor([0, 1]), tensor([0, 1]), tensor([0, 1]), tensor([0, 1]), tensor([0, 1]), tensor([0, 1]), tensor([0, 1]), tensor([0, 1]), tensor([0, 1]), tensor([0, 1]), tensor([0, 1]), tensor([0, 1]), tensor([0, 1]), tensor([0, 1]), tensor([0, 1]), tensor([0, 1]), tensor([0, 1]), tensor([0, 1]), tensor([0, 1]), tensor([0, 1]), tensor([0, 1]), tensor([0, 1]), tensor([0, 1]), tensor([0, 1]), tensor([0, 1]), tensor([0, 1]), tensor([0, 1]), tensor([0, 1]), tensor([0, 1]), tensor([0, 1]), tensor([0, 1]), tensor([0, 1]), tensor([0, 1]), tensor([0, 1]), tensor([0, 1]), tensor([0, 1]), tensor([0, 1]), tensor([0, 1]), tensor([0, 1]), tensor([0, 1]), tensor([0, 1]), tensor([0, 1]), tensor([0, 1]), tensor([0, 1]), tensor([0, 1]), tensor([0, 1]), tensor([0, 1]), tensor([0, 1]), tensor([0, 1]), tensor([0, 1]), tensor([0, 1]), tensor([0, 1]), tensor([0, 1]), tensor([0, 1]), tensor([0, 1]), tensor([0, 1]), tensor([0, 1]), tensor([0, 1]), tensor([0, 1]), tensor([0, 1]), tensor([0, 1]), tensor([0, 1]), tensor([0, 1]), tensor([0, 1]), tensor([0, 1]), tensor([0, 1]), tensor([0, 1]), tensor([0, 1]), tensor([0, 1]), tensor([0, 1]), tensor([0, 1]), tensor([0, 1]), tensor([0, 1]), tensor([0, 1]), tensor([0, 1]), tensor([0, 1]), tensor([0, 1]), tensor([0, 1]), tensor([0, 1]), tensor([0, 1]), tensor([0, 1]), tensor([0, 1]), tensor([0, 1]), tensor([0, 1]), tensor([0, 1]), tensor([0, 1]), tensor([0, 1]), tensor([0, 1]), tensor([0, 1]), tensor([0, 1]), tensor([0, 1]), tensor([0, 1]), tensor([0, 1]), tensor([0, 1]), tensor([0, 1]), tensor([0, 1]), tensor([0, 1]), tensor([0, 1]), tensor([0, 1]), tensor([0, 1]), tensor([0, 1]), tensor([0, 1]), tensor([0, 1]), tensor([0, 1]), tensor([0, 1]), tensor([0, 1]), tensor([0, 1]), tensor([0, 1]), tensor([0, 1]), tensor([0, 1]), tensor([0, 1]), tensor([0, 1]), tensor([0, 1]), tensor([0, 1]), tensor([0, 1]), tensor([0, 1]), tensor([0, 1]), tensor([0, 1]), tensor([0, 1]), tensor([0, 1]), tensor([0, 1]), tensor([0, 1]), tensor([0, 1]), tensor([0, 1]), tensor([0, 1]), tensor([0, 1]), tensor([0, 1]), tensor([0, 1]), tensor([0, 1]), tensor([0, 1]), tensor([0, 1]), tensor([0, 1]), tensor([0, 1]), tensor([0, 1]), tensor([0, 1]), tensor([0, 1]), tensor([0, 1]), tensor([0, 1]), tensor([0, 1]), tensor([0, 1]), tensor([0, 1]), tensor([0, 1]), tensor([0, 1]), tensor([0, 1]), tensor([0, 1]), tensor([0, 1]), tensor([0, 1]), tensor([0, 1]), tensor([0, 1]), tensor([0, 1]), tensor([0, 1]), tensor([0, 1]), tensor([0, 1]), tensor([0, 1]), tensor([0, 1]), tensor([0, 1]), tensor([0, 1]), tensor([0, 1]), tensor([0, 1]), tensor([0, 1]), tensor([0, 1]), tensor([0, 1]), tensor([0, 1]), tensor([0, 1]), tensor([0, 1]), tensor([0, 1]), tensor([0, 1]), tensor([0, 1]), tensor([0, 1]), tensor([0, 1]), tensor([0, 1]), tensor([0, 1]), tensor([0, 1]), tensor([0, 1]), tensor([0, 1]), tensor([0, 1]), tensor([0, 1]), tensor([0, 1]), tensor([0, 1]), tensor([0, 1]), tensor([0, 1]), tensor([0, 1]), tensor([0, 1]), tensor([0, 1]), tensor([0, 1]), tensor([0, 1]), tensor([0, 1]), tensor([0, 1]), tensor([0, 1]), tensor([0, 1]), tensor([0, 1]), tensor([0, 1]), tensor([0, 1]), tensor([0, 1]), tensor([0, 1]), tensor([0, 1]), tensor([0, 1]), tensor([0, 1]), tensor([0, 1]), tensor([0, 1]), tensor([0, 1]), tensor([0, 1]), tensor([0, 1]), tensor([0, 1]), tensor([0, 1]), tensor([0, 1]), tensor([0, 1]), tensor([0, 1]), tensor([0, 1]), tensor([0, 1]), tensor([0, 1]), tensor([0, 1]), tensor([0, 1]), tensor([0, 1]), tensor([0, 1]), tensor([0, 1]), tensor([0, 1]), tensor([0, 1]), tensor([0, 1]), tensor([0, 1]), tensor([0, 1]), tensor([0, 1]), tensor([0, 1]), tensor([0, 1]), tensor([0, 1]), tensor([0, 1]), tensor([0, 1]), tensor([0, 1]), tensor([0, 1]), tensor([0, 1]), tensor([0, 1]), tensor([0, 1]), tensor([0, 1]), tensor([0, 1]), tensor([0, 1]), tensor([0, 1]), tensor([0, 1]), tensor([0, 1]), tensor([0, 1]), tensor([0, 1]), tensor([0, 1]), tensor([0, 1]), tensor([0, 1]), tensor([0, 1]), tensor([0, 1]), tensor([0, 1]), tensor([0, 1]), tensor([0, 1]), tensor([0, 1]), tensor([0, 1]), tensor([0, 1]), tensor([0, 1]), tensor([0, 1]), tensor([0, 1]), tensor([0, 1]), tensor([0, 1]), tensor([0, 1]), tensor([0, 1]), tensor([0, 1]), tensor([0, 1]), tensor([0, 1]), tensor([0, 1]), tensor([0, 1]), tensor([0, 1]), tensor([0, 1]), tensor([0, 1]), tensor([0, 1]), tensor([0, 1]), tensor([0, 1]), tensor([0, 1]), tensor([0, 1]), tensor([0, 1]), tensor([0, 1]), tensor([0, 1]), tensor([0, 1]), tensor([0, 1]), tensor([0, 1]), tensor([0, 1]), tensor([0, 1]), tensor([0, 1]), tensor([0, 1]), tensor([0, 1]), tensor([0, 1]), tensor([0, 1]), tensor([0, 1]), tensor([0, 1]), tensor([0, 1]), tensor([0, 1]), tensor([0, 1]), tensor([0, 1]), tensor([0, 1]), tensor([0, 1]), tensor([0, 1]), tensor([0, 1]), tensor([0, 1]), tensor([0, 1]), tensor([0, 1]), tensor([0, 1]), tensor([0, 1]), tensor([0, 1]), tensor([0, 1]), tensor([0, 1]), tensor([0, 1]), tensor([0, 1]), tensor([0, 1]), tensor([0, 1]), tensor([0, 1]), tensor([0, 1]), tensor([0, 1]), tensor([0, 1]), tensor([0, 1]), tensor([0, 1]), tensor([0, 1]), tensor([0, 1]), tensor([0, 1]), tensor([0, 1]), tensor([0, 1]), tensor([0, 1]), tensor([0, 1]), tensor([0, 1]), tensor([0, 1]), tensor([0, 1]), tensor([0, 1]), tensor([0, 1]), tensor([0, 1]), tensor([0, 1]), tensor([0, 1]), tensor([0, 1]), tensor([0, 1]), tensor([0, 1]), tensor([0, 1]), tensor([0, 1]), tensor([0, 1]), tensor([0, 1]), tensor([0, 1]), tensor([0, 1]), tensor([0, 1]), tensor([0, 1]), tensor([0, 1]), tensor([0, 1]), tensor([0, 1]), tensor([0, 1]), tensor([0, 1]), tensor([0, 1]), tensor([0, 1]), tensor([0, 1]), tensor([0, 1]), tensor([0, 1]), tensor([0, 1]), tensor([0, 1]), tensor([0, 1]), tensor([0, 1]), tensor([0, 1]), tensor([0, 1]), tensor([0, 1]), tensor([0, 1]), tensor([0, 1]), tensor([0, 1]), tensor([0, 1]), tensor([0, 1]), tensor([0, 1]), tensor([0, 1]), tensor([0, 1]), tensor([0, 1]), tensor([0, 1]), tensor([0, 1]), tensor([0, 1]), tensor([0, 1]), tensor([0, 1]), tensor([0, 1]), tensor([0, 1]), tensor([0, 1]), tensor([0, 1]), tensor([0, 1]), tensor([0, 1]), tensor([0, 1]), tensor([0, 1]), tensor([0, 1]), tensor([0, 1]), tensor([0, 1]), tensor([0, 1]), tensor([0, 1]), tensor([0, 1]), tensor([0, 1]), tensor([0, 1]), tensor([0, 1]), tensor([0, 1]), tensor([0, 1]), tensor([0, 1]), tensor([0, 1]), tensor([0, 1]), tensor([0, 1]), tensor([0, 1]), tensor([0, 1]), tensor([0, 1]), tensor([0, 1]), tensor([0, 1]), tensor([0, 1]), tensor([0, 1]), tensor([0, 1]), tensor([0, 1]), tensor([0, 1]), tensor([0, 1]), tensor([0, 1]), tensor([0, 1]), tensor([0, 1]), tensor([0, 1]), tensor([0, 1]), tensor([0, 1]), tensor([0, 1]), tensor([0, 1]), tensor([0, 1]), tensor([0, 1]), tensor([0, 1]), tensor([0, 1]), tensor([0, 1]), tensor([0, 1]), tensor([0, 1]), tensor([0, 1]), tensor([0, 1]), tensor([0, 1]), tensor([0, 1]), tensor([0, 1]), tensor([0, 1]), tensor([0, 1]), tensor([0, 1]), tensor([0, 1]), tensor([0, 1]), tensor([0, 1]), tensor([0, 1]), tensor([0, 1]), tensor([0, 1]), tensor([0, 1]), tensor([0, 1]), tensor([0, 1]), tensor([0, 1]), tensor([0, 1]), tensor([0, 1]), tensor([0, 1]), tensor([0, 1]), tensor([0, 1]), tensor([0, 1]), tensor([0, 1]), tensor([0, 1]), tensor([0, 1]), tensor([0, 1]), tensor([0, 1]), tensor([0, 1]), tensor([0, 1]), tensor([0, 1]), tensor([0, 1]), tensor([0, 1]), tensor([0, 1]), tensor([0, 1]), tensor([0, 1]), tensor([0, 1]), tensor([0, 1]), tensor([0, 1]), tensor([0, 1]), tensor([0, 1]), tensor([0, 1]), tensor([0, 1]), tensor([0, 1]), tensor([0, 1]), tensor([0, 1]), tensor([0, 1]), tensor([0, 1]), tensor([0, 1]), tensor([0, 1]), tensor([0, 1]), tensor([0, 1]), tensor([0, 1]), tensor([0, 1]), tensor([0, 1]), tensor([0, 1]), tensor([0, 1]), tensor([0, 1]), tensor([0, 1]), tensor([0, 1]), tensor([0, 1]), tensor([0, 1]), tensor([0, 1]), tensor([0, 1]), tensor([0, 1]), tensor([0, 1]), tensor([0, 1]), tensor([0, 1]), tensor([0, 1]), tensor([0, 1]), tensor([0, 1]), tensor([0, 1]), tensor([0, 1]), tensor([0, 1]), tensor([0, 1]), tensor([0, 1]), tensor([0, 1]), tensor([0, 1]), tensor([0, 1]), tensor([0, 1]), tensor([0, 1]), tensor([0, 1]), tensor([0, 1]), tensor([0, 1]), tensor([0, 1]), tensor([0, 1]), tensor([0, 1]), tensor([0, 1]), tensor([0, 1]), tensor([0, 1]), tensor([0, 1]), tensor([0, 1]), tensor([0, 1]), tensor([0, 1]), tensor([0, 1]), tensor([0, 1]), tensor([0, 1]), tensor([0, 1]), tensor([0, 1]), tensor([0, 1]), tensor([0, 1]), tensor([0, 1]), tensor([0, 1]), tensor([0, 1]), tensor([0, 1]), tensor([0, 1]), tensor([0, 1]), tensor([0, 1]), tensor([0, 1]), tensor([0, 1]), tensor([0, 1]), tensor([0, 1]), tensor([0, 1]), tensor([0, 1]), tensor([0, 1]), tensor([0, 1]), tensor([0, 1]), tensor([0, 1]), tensor([0, 1]), tensor([0, 1]), tensor([0, 1]), tensor([0, 1]), tensor([0, 1]), tensor([0, 1]), tensor([0, 1]), tensor([0, 1]), tensor([0, 1]), tensor([0, 1]), tensor([0, 1]), tensor([0, 1]), tensor([0, 1])]\n"
     ]
    }
   ],
   "source": [
    "x2 = torch.load('all_age_gender_test_tensor.pt')\n",
    "print(x2)"
   ]
  },
  {
   "cell_type": "code",
   "execution_count": 62,
   "metadata": {},
   "outputs": [
    {
     "data": {
      "text/plain": [
       "list"
      ]
     },
     "execution_count": 62,
     "metadata": {},
     "output_type": "execute_result"
    }
   ],
   "source": [
    "type(x2)"
   ]
  },
  {
   "cell_type": "code",
   "execution_count": 64,
   "metadata": {},
   "outputs": [
    {
     "name": "stdout",
     "output_type": "stream",
     "text": [
      "<class 'torch.Tensor'>\n",
      "<class 'torch.Tensor'>\n"
     ]
    }
   ],
   "source": [
    "print(type(all_age_gender_test[0]))\n",
    "print(type(x2[0]))"
   ]
  },
  {
   "cell_type": "code",
   "execution_count": 65,
   "metadata": {},
   "outputs": [],
   "source": [
    "torch.save(all_age_gender_train, 'all_age_gender_train_tensor.pt')\n",
    "torch.save(all_age_gender_val, 'all_age_gender_val_tensor.pt')"
   ]
  },
  {
   "cell_type": "code",
   "execution_count": 66,
   "metadata": {},
   "outputs": [],
   "source": [
    "torch.save(all_images_data_train, 'all_images_data_train_tensor.pt')\n",
    "torch.save(all_images_data_val, 'all_images_data_val_tensor.pt')\n",
    "torch.save(all_images_data_test, 'all_images_data_test_tensor.pt')"
   ]
  },
  {
   "cell_type": "code",
   "execution_count": 67,
   "metadata": {},
   "outputs": [
    {
     "name": "stdout",
     "output_type": "stream",
     "text": [
      "tensor([[[177, 181, 182,  ..., 119, 121, 122],\n",
      "         [180, 184, 185,  ..., 119, 120, 121],\n",
      "         [185, 189, 190,  ..., 118, 118, 118],\n",
      "         ...,\n",
      "         [163, 162, 160,  ..., 186, 184, 184],\n",
      "         [164, 163, 161,  ..., 185, 184, 184],\n",
      "         [164, 163, 162,  ..., 182, 182, 182]],\n",
      "\n",
      "        [[162, 166, 169,  ...,  61,  65,  66],\n",
      "         [165, 169, 172,  ...,  61,  64,  65],\n",
      "         [170, 174, 177,  ...,  62,  62,  62],\n",
      "         ...,\n",
      "         [161, 160, 158,  ..., 173, 173, 175],\n",
      "         [162, 161, 159,  ..., 172, 173, 175],\n",
      "         [162, 161, 160,  ..., 169, 171, 173]],\n",
      "\n",
      "        [[155, 159, 160,  ...,  24,  28,  29],\n",
      "         [158, 162, 163,  ...,  24,  27,  28],\n",
      "         [163, 167, 168,  ...,  25,  25,  25],\n",
      "         ...,\n",
      "         [172, 171, 169,  ..., 167, 167, 168],\n",
      "         [173, 172, 170,  ..., 166, 169, 170],\n",
      "         [173, 172, 171,  ..., 163, 167, 168]]], dtype=torch.uint8)\n"
     ]
    }
   ],
   "source": [
    "x11 = torch.load('all_images_data_test_tensor.pt')\n",
    "print(x11[0])"
   ]
  },
  {
   "cell_type": "code",
   "execution_count": 68,
   "metadata": {},
   "outputs": [
    {
     "name": "stdout",
     "output_type": "stream",
     "text": [
      "<class 'list'>\n",
      "<class 'list'>\n"
     ]
    }
   ],
   "source": [
    "print(type(all_images_data_test))\n",
    "print(type(x11))"
   ]
  },
  {
   "cell_type": "code",
   "execution_count": 69,
   "metadata": {},
   "outputs": [
    {
     "name": "stdout",
     "output_type": "stream",
     "text": [
      "tensor([[[177, 181, 182,  ..., 119, 121, 122],\n",
      "         [180, 184, 185,  ..., 119, 120, 121],\n",
      "         [185, 189, 190,  ..., 118, 118, 118],\n",
      "         ...,\n",
      "         [163, 162, 160,  ..., 186, 184, 184],\n",
      "         [164, 163, 161,  ..., 185, 184, 184],\n",
      "         [164, 163, 162,  ..., 182, 182, 182]],\n",
      "\n",
      "        [[162, 166, 169,  ...,  61,  65,  66],\n",
      "         [165, 169, 172,  ...,  61,  64,  65],\n",
      "         [170, 174, 177,  ...,  62,  62,  62],\n",
      "         ...,\n",
      "         [161, 160, 158,  ..., 173, 173, 175],\n",
      "         [162, 161, 159,  ..., 172, 173, 175],\n",
      "         [162, 161, 160,  ..., 169, 171, 173]],\n",
      "\n",
      "        [[155, 159, 160,  ...,  24,  28,  29],\n",
      "         [158, 162, 163,  ...,  24,  27,  28],\n",
      "         [163, 167, 168,  ...,  25,  25,  25],\n",
      "         ...,\n",
      "         [172, 171, 169,  ..., 167, 167, 168],\n",
      "         [173, 172, 170,  ..., 166, 169, 170],\n",
      "         [173, 172, 171,  ..., 163, 167, 168]]], dtype=torch.uint8)\n"
     ]
    }
   ],
   "source": [
    "print(all_images_data_test[0])"
   ]
  },
  {
   "cell_type": "code",
   "execution_count": null,
   "metadata": {},
   "outputs": [],
   "source": []
  },
  {
   "cell_type": "code",
   "execution_count": null,
   "metadata": {},
   "outputs": [],
   "source": []
  },
  {
   "cell_type": "code",
   "execution_count": null,
   "metadata": {},
   "outputs": [],
   "source": []
  },
  {
   "cell_type": "code",
   "execution_count": 15,
   "metadata": {},
   "outputs": [],
   "source": [
    "import torch\n",
    "from torchvision import transforms\n",
    "from PIL import Image\n",
    "\n",
    "# Assuming img_tensor is your torch.Tensor object\n",
    "img_tensor = torch.randn(3, 256, 256)  # Example tensor, replace with your own\n",
    "\n",
    "# Convert the tensor to a PIL Image\n",
    "to_pil = transforms.ToPILImage()\n",
    "img_pil = to_pil(img_tensor)\n",
    "\n",
    "# Now you can resize the PIL Image\n",
    "resized_img = transforms.functional.resize(img_pil, (128, 128))  # Replace (128, 128) with your desired size\n"
   ]
  },
  {
   "cell_type": "code",
   "execution_count": 16,
   "metadata": {},
   "outputs": [
    {
     "data": {
      "text/plain": [
       "torch.Size([3, 256, 256])"
      ]
     },
     "execution_count": 16,
     "metadata": {},
     "output_type": "execute_result"
    }
   ],
   "source": [
    "img_tensor.shape"
   ]
  },
  {
   "cell_type": "markdown",
   "metadata": {},
   "source": [
    "# class CustomDataset(Dataset)"
   ]
  },
  {
   "cell_type": "code",
   "execution_count": 17,
   "metadata": {},
   "outputs": [],
   "source": [
    "import torch\n",
    "from torch.utils.data import Dataset\n",
    "from PIL import Image\n",
    "from torchvision.transforms.functional import to_pil_image\n",
    "\n",
    "\n",
    "\n",
    "\n",
    "class CustomDataset(Dataset):\n",
    "    def __init__(self, your_data, your_labels, transform=None):\n",
    "        self.data = your_data\n",
    "        self.labels = your_labels\n",
    "        self.transform = transform\n",
    "\n",
    "    def __len__(self):\n",
    "        return len(self.data)\n",
    "\n",
    "    def __getitem__(self, idx):\n",
    "        sample = self.data[idx]\n",
    "        # Convert the tensor to a PIL Image\n",
    "        #to_pil = transforms.ToPILImage()\n",
    "        #sample = to_pil(sample)\n",
    "        sample = sample.float()\n",
    "        #sample = sample.to(torch.float32)\n",
    "        #sample = Image.open(sample)\n",
    "        #sample = to_pil_image(sample)  # Convert tensor to PIL Image\n",
    "        #sample = sample.permute(1, 2, 0).numpy().astype('uint8')\n",
    "        #sample = Image.fromarray(sample)\n",
    "        label = self.labels[idx]\n",
    "\n",
    "        if self.transform:\n",
    "            sample = self.transform(sample)\n",
    "\n",
    "        return sample, label\n"
   ]
  },
  {
   "cell_type": "code",
   "execution_count": 18,
   "metadata": {},
   "outputs": [],
   "source": [
    "from torchvision import transforms\n",
    "\n",
    "# Example of using torchvision transforms with your custom dataset\n",
    "#composed_transform = transforms.Compose([\n",
    " #   transforms.ToTensor(),\n",
    "  #  transforms.Normalize(mean=[0.485, 0.456, 0.406], std=[0.229, 0.224, 0.225])\n",
    "#])\n",
    "\n",
    "composed_transform = transforms.Compose([\n",
    "    #ConvertToPIL(),  # Convert tensor to PIL Image\n",
    "    transforms.ToPILImage(),\n",
    "    transforms.Resize((128,128)),  # transforms.Resize((64, 64)),\n",
    "    transforms.ToTensor(),\n",
    "    transforms.Normalize(mean=(0.5, 0.5, 0.5), std=(0.5, 0.5, 0.5)),\n",
    "])\n",
    "\n",
    "#transformed_dataset = CustomDataset(your_data, your_labels, transform=composed_transform)\n"
   ]
  },
  {
   "cell_type": "code",
   "execution_count": 19,
   "metadata": {},
   "outputs": [],
   "source": [
    "# Assuming you have your data and labels ready\n",
    "your_train_data = all_images_data_train # images  # Your data in the appropriate format\n",
    "your_train_labels = all_age_gender_train #age_gender  # Corresponding labels\n",
    "\n",
    "# Instantiate the custom dataset\n",
    "custom_train_dataset = CustomDataset(your_train_data, your_train_labels, transform=composed_transform)\n"
   ]
  },
  {
   "cell_type": "code",
   "execution_count": 20,
   "metadata": {},
   "outputs": [],
   "source": [
    "# Assuming you have your data and labels ready\n",
    "your_val_data = all_images_data_val # images  # Your data in the appropriate format\n",
    "your_val_labels = all_age_gender_val #age_gender  # Corresponding labels\n",
    "\n",
    "# Instantiate the custom dataset\n",
    "custom_val_dataset = CustomDataset(your_val_data, your_val_labels, transform=composed_transform)\n"
   ]
  },
  {
   "cell_type": "code",
   "execution_count": 21,
   "metadata": {},
   "outputs": [],
   "source": [
    "# Assuming you have your data and labels ready\n",
    "your_test_data = all_images_data_test # images  # Your data in the appropriate format\n",
    "your_test_labels = all_age_gender_test #age_gender  # Corresponding labels\n",
    "\n",
    "# Instantiate the custom dataset\n",
    "custom_test_dataset = CustomDataset(your_test_data, your_test_labels, transform=composed_transform)\n"
   ]
  },
  {
   "cell_type": "code",
   "execution_count": 22,
   "metadata": {},
   "outputs": [],
   "source": [
    "\n",
    "# Instantiate the custom dataset\n",
    "#custom_dataset = CustomDataset(your_data, your_labels)"
   ]
  },
  {
   "cell_type": "code",
   "execution_count": 23,
   "metadata": {},
   "outputs": [
    {
     "name": "stdout",
     "output_type": "stream",
     "text": [
      "4741\n"
     ]
    }
   ],
   "source": [
    "print(len(custom_test_dataset))"
   ]
  },
  {
   "cell_type": "code",
   "execution_count": 24,
   "metadata": {},
   "outputs": [
    {
     "data": {
      "text/plain": [
       "<__main__.CustomDataset at 0x2ad7b37b1828>"
      ]
     },
     "execution_count": 24,
     "metadata": {},
     "output_type": "execute_result"
    }
   ],
   "source": [
    "custom_test_dataset"
   ]
  },
  {
   "cell_type": "code",
   "execution_count": 25,
   "metadata": {},
   "outputs": [
    {
     "name": "stdout",
     "output_type": "stream",
     "text": [
      "torch.Size([3, 128, 128])\n",
      "torch.Size([2])\n"
     ]
    }
   ],
   "source": [
    "print(custom_test_dataset[0][0].shape)\n",
    "print(custom_test_dataset[0][1].shape)"
   ]
  },
  {
   "cell_type": "code",
   "execution_count": 26,
   "metadata": {},
   "outputs": [
    {
     "name": "stdout",
     "output_type": "stream",
     "text": [
      "1: Young (age ≤ 35): tensor(1)\n",
      "0: Old (age > 35): tensor(0)\n"
     ]
    }
   ],
   "source": [
    "print('1: Young (age ≤ 35):', custom_test_dataset[0][1][0])\n",
    "\n",
    "print('0: Old (age > 35):', custom_test_dataset[0][1][1])"
   ]
  },
  {
   "cell_type": "code",
   "execution_count": null,
   "metadata": {},
   "outputs": [],
   "source": []
  },
  {
   "cell_type": "markdown",
   "metadata": {},
   "source": [
    "# Dataloaders:"
   ]
  },
  {
   "cell_type": "code",
   "execution_count": 27,
   "metadata": {},
   "outputs": [],
   "source": [
    "from torch.utils.data import DataLoader\n",
    "from copy import deepcopy\n",
    "\n",
    "batch_size = 128\n",
    "TEST_BS = 512\n",
    "\n",
    "train_data_loader = DataLoader(custom_train_dataset, batch_size=batch_size, shuffle=True)\n",
    "val_data_loader = DataLoader(custom_val_dataset, batch_size=TEST_BS, shuffle=True)\n",
    "test_data_loader = DataLoader(custom_test_dataset, batch_size=1, shuffle=True)"
   ]
  },
  {
   "cell_type": "code",
   "execution_count": 28,
   "metadata": {},
   "outputs": [],
   "source": [
    "for batch_idx, (images, labels) in enumerate(test_data_loader):\n",
    "    # zero the parameter gradients\n",
    "    #optimizer.zero_grad()\n",
    "\n",
    "    # move to GPU\n",
    "    images, labels = images, labels[:, 0]\n",
    "    break"
   ]
  },
  {
   "cell_type": "code",
   "execution_count": 29,
   "metadata": {},
   "outputs": [
    {
     "data": {
      "text/plain": [
       "(tensor([[[[ 0.5686,  0.5765,  0.5686,  ..., -0.1922, -0.1922, -0.2000],\n",
       "           [ 0.5451,  0.5529,  0.5529,  ..., -0.1843, -0.1843, -0.1765],\n",
       "           [ 0.5373,  0.5451,  0.5373,  ..., -0.1686, -0.1608, -0.1608],\n",
       "           ...,\n",
       "           [-0.3020, -0.2549, -0.1922,  ...,  0.5294,  0.5765,  0.6078],\n",
       "           [-0.3020, -0.2471, -0.1686,  ...,  0.6000,  0.6157,  0.6157],\n",
       "           [-0.3020, -0.2314, -0.1529,  ...,  0.6471,  0.6235,  0.5765]],\n",
       " \n",
       "          [[ 0.7725,  0.7804,  0.7725,  ...,  0.1529,  0.1529,  0.1608],\n",
       "           [ 0.7647,  0.7725,  0.7725,  ...,  0.1451,  0.1529,  0.1608],\n",
       "           [ 0.7569,  0.7647,  0.7569,  ...,  0.1373,  0.1451,  0.1529],\n",
       "           ...,\n",
       "           [ 0.2078,  0.2549,  0.3176,  ...,  0.7176,  0.7569,  0.7804],\n",
       "           [ 0.2078,  0.2627,  0.3412,  ...,  0.7725,  0.7882,  0.7804],\n",
       "           [ 0.2078,  0.2784,  0.3569,  ...,  0.8196,  0.7882,  0.7412]],\n",
       " \n",
       "          [[ 0.9529,  0.9608,  0.9529,  ...,  0.4353,  0.4431,  0.4431],\n",
       "           [ 0.9373,  0.9451,  0.9451,  ...,  0.4196,  0.4353,  0.4353],\n",
       "           [ 0.9294,  0.9373,  0.9294,  ...,  0.4118,  0.4275,  0.4353],\n",
       "           ...,\n",
       "           [ 0.4275,  0.4745,  0.5373,  ...,  0.8588,  0.8980,  0.9137],\n",
       "           [ 0.4275,  0.4824,  0.5608,  ...,  0.9137,  0.9294,  0.9137],\n",
       "           [ 0.4275,  0.4980,  0.5765,  ...,  0.9529,  0.9216,  0.8745]]]]),\n",
       " tensor([0]))"
      ]
     },
     "execution_count": 29,
     "metadata": {},
     "output_type": "execute_result"
    }
   ],
   "source": [
    "images, labels"
   ]
  },
  {
   "cell_type": "code",
   "execution_count": 30,
   "metadata": {},
   "outputs": [
    {
     "data": {
      "text/plain": [
       "112"
      ]
     },
     "execution_count": 30,
     "metadata": {},
     "output_type": "execute_result"
    }
   ],
   "source": [
    "len(train_data_loader)"
   ]
  },
  {
   "cell_type": "code",
   "execution_count": 31,
   "metadata": {},
   "outputs": [
    {
     "name": "stdout",
     "output_type": "stream",
     "text": [
      "torch.Size([3, 128, 128])\n",
      "tensor(0)\n"
     ]
    }
   ],
   "source": [
    "print(images[0].shape)\n",
    "print(labels[0])"
   ]
  },
  {
   "cell_type": "code",
   "execution_count": 32,
   "metadata": {},
   "outputs": [
    {
     "data": {
      "text/plain": [
       "10"
      ]
     },
     "execution_count": 32,
     "metadata": {},
     "output_type": "execute_result"
    }
   ],
   "source": [
    "len(val_data_loader)"
   ]
  },
  {
   "cell_type": "code",
   "execution_count": 33,
   "metadata": {},
   "outputs": [
    {
     "data": {
      "text/plain": [
       "<__main__.CustomDataset at 0x2ad7b2a16198>"
      ]
     },
     "execution_count": 33,
     "metadata": {},
     "output_type": "execute_result"
    }
   ],
   "source": [
    "custom_train_dataset"
   ]
  },
  {
   "cell_type": "code",
   "execution_count": 34,
   "metadata": {},
   "outputs": [
    {
     "data": {
      "text/plain": [
       "(tensor([[[ 1.0000,  0.9922,  0.9216,  ...,  0.7020,  0.6863,  0.6627],\n",
       "          [ 0.9922,  0.9843,  0.9608,  ...,  0.6784,  0.6627,  0.6471],\n",
       "          [ 0.9843,  0.9765,  0.9843,  ...,  0.6706,  0.6392,  0.6157],\n",
       "          ...,\n",
       "          [-1.0000, -1.0000, -1.0000,  ..., -0.0196, -0.0118, -0.0510],\n",
       "          [-1.0000, -1.0000, -1.0000,  ..., -0.0196,  0.0118, -0.0588],\n",
       "          [-1.0000, -1.0000, -1.0000,  ..., -0.0196,  0.0431, -0.0196]],\n",
       " \n",
       "         [[-0.2078,  0.3255,  0.8510,  ...,  0.7804,  0.7647,  0.7412],\n",
       "          [-0.2157,  0.9451,  0.8039,  ...,  0.7569,  0.7412,  0.7255],\n",
       "          [-0.2157,  0.6863,  0.0431,  ...,  0.7490,  0.7176,  0.6941],\n",
       "          ...,\n",
       "          [-1.0000,  0.4353,  1.0000,  ..., -0.1529, -0.1373, -0.1608],\n",
       "          [-1.0000,  0.4353,  1.0000,  ..., -0.1529, -0.1216, -0.1765],\n",
       "          [-1.0000,  0.4353,  1.0000,  ..., -0.1608, -0.0980, -0.1529]],\n",
       " \n",
       "         [[-1.0000, -0.8039,  0.4118,  ...,  0.7961,  0.7804,  0.7569],\n",
       "          [-0.4353, -0.4196, -0.1529,  ...,  0.7725,  0.7569,  0.7412],\n",
       "          [-0.2078,  0.1294, -0.0902,  ...,  0.7647,  0.7333,  0.7098],\n",
       "          ...,\n",
       "          [-1.0000, -1.0000, -1.0000,  ..., -0.2157, -0.2000, -0.2314],\n",
       "          [-1.0000, -1.0000, -1.0000,  ..., -0.2235, -0.1922, -0.2471],\n",
       "          [-1.0000, -1.0000, -1.0000,  ..., -0.2392, -0.1765, -0.2314]]]),\n",
       " tensor([1, 0]))"
      ]
     },
     "execution_count": 34,
     "metadata": {},
     "output_type": "execute_result"
    }
   ],
   "source": [
    "custom_train_dataset[0]"
   ]
  },
  {
   "cell_type": "code",
   "execution_count": 35,
   "metadata": {},
   "outputs": [
    {
     "name": "stdout",
     "output_type": "stream",
     "text": [
      "cuda\n"
     ]
    }
   ],
   "source": [
    "from models import MyResNet, ConvNet\n",
    "import torch.nn as nn\n",
    "\n",
    "import torch.optim as optim\n",
    "from tqdm import tqdm\n",
    "\n",
    "device = torch.device(\"cuda\" if torch.cuda.is_available() else \"cpu\")\n",
    "print(device)"
   ]
  },
  {
   "cell_type": "code",
   "execution_count": 36,
   "metadata": {},
   "outputs": [
    {
     "data": {
      "text/plain": [
       "112"
      ]
     },
     "execution_count": 36,
     "metadata": {},
     "output_type": "execute_result"
    }
   ],
   "source": [
    "len(train_data_loader)"
   ]
  },
  {
   "cell_type": "code",
   "execution_count": 37,
   "metadata": {},
   "outputs": [],
   "source": [
    "model = MyResNet(num_classes=2, pretrain=False)\n",
    "# model = ConvNet(num_classes=2)\n",
    "model = model.cuda()\n",
    "criterion = nn.NLLLoss()"
   ]
  },
  {
   "cell_type": "code",
   "execution_count": 38,
   "metadata": {},
   "outputs": [],
   "source": [
    "from torch.optim import Adam\n",
    "from time import sleep\n",
    "# https://adamoudad.github.io/posts/progress_bar_with_tqdm/\n",
    "def train_per_epoch_tqdm_2(model, optimizer, criterion, epoch, num_epochs):\n",
    "    model.train()\n",
    "    epoch_loss = 0.0\n",
    "    epoch_acc = 0.0\n",
    "\n",
    "    correct_predictions = 0\n",
    "    total_samples = 0\n",
    "\n",
    "    with tqdm(train_data_loader, unit=\"batch\") as tepoch:\n",
    "        for images, labels in tepoch:\n",
    "            tepoch.set_description(f\"Epoch {epoch}\")\n",
    "                \n",
    "            optimizer.zero_grad()\n",
    "\n",
    "            # move to GPU\n",
    "            images, labels = images.to(device), labels[:, 0].to(device)\n",
    "\n",
    "            # forward\n",
    "            outputs = model.forward(images)\n",
    "\n",
    "            loss = criterion(outputs, labels)\n",
    "\n",
    "            _, preds = torch.max(outputs.data, 1)\n",
    "\n",
    "            loss.backward()\n",
    "            optimizer.step()\n",
    "\n",
    "            epoch_loss += loss.item()\n",
    "            epoch_acc += torch.sum(preds == labels).item()\n",
    "\n",
    "            # Update counts for accuracy calculation\n",
    "            total_samples += labels.size(0)\n",
    "            correct_predictions += torch.sum(preds == labels).item()\n",
    "            # Calculate accuracy for this batch\n",
    "            batch_accuracy = (correct_predictions / total_samples) * 100\n",
    "            \n",
    "            #tepoch.set_postfix(loss=epoch_loss, accuracy=epoch_acc)\n",
    "            tepoch.set_postfix(loss=loss.item(), accuracy=batch_accuracy) \n",
    "            sleep(0.1)\n",
    "    epoch_loss /= len(train_data_loader)\n",
    "    epoch_acc = (epoch_acc / len(train_data_loader))\n",
    "    print('epoch_acc:', epoch_acc)\n",
    "\n",
    "    accuracy_all = (correct_predictions / total_samples) * 100\n",
    "    print(f\"Accuracy after all batches: {accuracy_all:.2f}%\")\n",
    "\n",
    "\n",
    "    print('TRAINING Epoch %d/%d Loss %.4f Accuracy %.4f' % (epoch, num_epochs, epoch_loss, epoch_acc))"
   ]
  },
  {
   "cell_type": "code",
   "execution_count": 39,
   "metadata": {},
   "outputs": [],
   "source": [
    "def valid_per_epoch(model, epoch, num_epochs, criterion):\n",
    "    model.eval()\n",
    "    epoch_loss = 0.0\n",
    "    epoch_acc = 0.0\n",
    "\n",
    "    correct_predictions = 0\n",
    "    total_samples = 0\n",
    "\n",
    "    for batch_idx, (images, labels) in enumerate(val_data_loader):\n",
    "        # move to GPU\n",
    "        images, labels = images.to(device), labels[:, 0].to(device)\n",
    "\n",
    "        # forward\n",
    "        outputs = model.forward(images)\n",
    "\n",
    "        loss = criterion(outputs, labels)\n",
    "\n",
    "        _, preds = torch.max(outputs.data, 1)\n",
    "\n",
    "        epoch_loss += loss.item()\n",
    "        epoch_acc += torch.sum(preds == labels).item()\n",
    "\n",
    "\n",
    "        # Update counts for accuracy calculation\n",
    "        total_samples += labels.size(0)\n",
    "        correct_predictions += torch.sum(preds == labels).item()\n",
    "        # Calculate accuracy for this batch\n",
    "        batch_accuracy = (correct_predictions / total_samples) * 100\n",
    "\n",
    "    epoch_loss /= len(val_data_loader)\n",
    "    epoch_acc /= len(val_data_loader)\n",
    "\n",
    "\n",
    "    accuracy_all = (correct_predictions / total_samples) * 100\n",
    "    print(f\"Accuracy after all batches: {accuracy_all:.2f}%\")\n",
    "\n",
    "    print('VALID Epoch %d/%d Loss %.4f Accuracy %.4f' % (epoch, num_epochs, epoch_loss, epoch_acc))\n",
    "\n",
    "    return epoch_loss"
   ]
  },
  {
   "cell_type": "code",
   "execution_count": 40,
   "metadata": {
    "scrolled": true
   },
   "outputs": [
    {
     "name": "stderr",
     "output_type": "stream",
     "text": [
      "Epoch 1: 100%|██████████| 112/112 [01:34<00:00,  1.18batch/s, accuracy=64.8, loss=0.599]\n"
     ]
    },
    {
     "name": "stdout",
     "output_type": "stream",
     "text": [
      "epoch_acc: 82.30357142857143\n",
      "Accuracy after all batches: 64.81%\n",
      "TRAINING Epoch 1/50 Loss 0.6297 Accuracy 82.3036\n",
      "Accuracy after all batches: 69.44%\n",
      "VALID Epoch 1/50 Loss 0.5784 Accuracy 329.2000\n"
     ]
    },
    {
     "name": "stderr",
     "output_type": "stream",
     "text": [
      "Epoch 2: 100%|██████████| 112/112 [01:26<00:00,  1.29batch/s, accuracy=72.4, loss=0.536]\n"
     ]
    },
    {
     "name": "stdout",
     "output_type": "stream",
     "text": [
      "epoch_acc: 91.95535714285714\n",
      "Accuracy after all batches: 72.41%\n",
      "TRAINING Epoch 2/50 Loss 0.5456 Accuracy 91.9554\n",
      "Accuracy after all batches: 72.83%\n",
      "VALID Epoch 2/50 Loss 0.5505 Accuracy 345.3000\n"
     ]
    },
    {
     "name": "stderr",
     "output_type": "stream",
     "text": [
      "Epoch 3: 100%|██████████| 112/112 [01:18<00:00,  1.42batch/s, accuracy=77.1, loss=0.555]\n"
     ]
    },
    {
     "name": "stdout",
     "output_type": "stream",
     "text": [
      "epoch_acc: 97.96428571428571\n",
      "Accuracy after all batches: 77.14%\n",
      "TRAINING Epoch 3/50 Loss 0.4808 Accuracy 97.9643\n",
      "Accuracy after all batches: 74.58%\n",
      "VALID Epoch 3/50 Loss 0.5145 Accuracy 353.6000\n"
     ]
    },
    {
     "name": "stderr",
     "output_type": "stream",
     "text": [
      "Epoch 4: 100%|██████████| 112/112 [01:20<00:00,  1.39batch/s, accuracy=79.7, loss=0.296]\n"
     ]
    },
    {
     "name": "stdout",
     "output_type": "stream",
     "text": [
      "epoch_acc: 101.16964285714286\n",
      "Accuracy after all batches: 79.67%\n",
      "TRAINING Epoch 4/50 Loss 0.4334 Accuracy 101.1696\n",
      "Accuracy after all batches: 77.94%\n",
      "VALID Epoch 4/50 Loss 0.4558 Accuracy 369.5000\n"
     ]
    },
    {
     "name": "stderr",
     "output_type": "stream",
     "text": [
      "Epoch 5: 100%|██████████| 112/112 [01:19<00:00,  1.41batch/s, accuracy=82.3, loss=0.246]\n"
     ]
    },
    {
     "name": "stdout",
     "output_type": "stream",
     "text": [
      "epoch_acc: 104.50892857142857\n",
      "Accuracy after all batches: 82.30%\n",
      "TRAINING Epoch 5/50 Loss 0.3898 Accuracy 104.5089\n",
      "Accuracy after all batches: 78.59%\n",
      "VALID Epoch 5/50 Loss 0.4431 Accuracy 372.6000\n"
     ]
    },
    {
     "name": "stderr",
     "output_type": "stream",
     "text": [
      "Epoch 6: 100%|██████████| 112/112 [01:18<00:00,  1.43batch/s, accuracy=84.5, loss=0.225]\n"
     ]
    },
    {
     "name": "stdout",
     "output_type": "stream",
     "text": [
      "epoch_acc: 107.32142857142857\n",
      "Accuracy after all batches: 84.51%\n",
      "TRAINING Epoch 6/50 Loss 0.3440 Accuracy 107.3214\n",
      "Accuracy after all batches: 80.78%\n",
      "VALID Epoch 6/50 Loss 0.4272 Accuracy 383.0000\n"
     ]
    },
    {
     "name": "stderr",
     "output_type": "stream",
     "text": [
      "Epoch 7: 100%|██████████| 112/112 [01:20<00:00,  1.40batch/s, accuracy=87.1, loss=0.157]\n"
     ]
    },
    {
     "name": "stdout",
     "output_type": "stream",
     "text": [
      "epoch_acc: 110.66964285714286\n",
      "Accuracy after all batches: 87.15%\n",
      "TRAINING Epoch 7/50 Loss 0.2974 Accuracy 110.6696\n",
      "Accuracy after all batches: 80.34%\n",
      "VALID Epoch 7/50 Loss 0.4252 Accuracy 380.9000\n"
     ]
    },
    {
     "name": "stderr",
     "output_type": "stream",
     "text": [
      "Epoch 8: 100%|██████████| 112/112 [01:20<00:00,  1.39batch/s, accuracy=89.9, loss=0.284]\n"
     ]
    },
    {
     "name": "stdout",
     "output_type": "stream",
     "text": [
      "epoch_acc: 114.16071428571429\n",
      "Accuracy after all batches: 89.90%\n",
      "TRAINING Epoch 8/50 Loss 0.2477 Accuracy 114.1607\n",
      "Accuracy after all batches: 80.00%\n",
      "VALID Epoch 8/50 Loss 0.4432 Accuracy 379.3000\n"
     ]
    },
    {
     "name": "stderr",
     "output_type": "stream",
     "text": [
      "Epoch 9: 100%|██████████| 112/112 [01:19<00:00,  1.42batch/s, accuracy=92.3, loss=0.259]\n"
     ]
    },
    {
     "name": "stdout",
     "output_type": "stream",
     "text": [
      "epoch_acc: 117.21428571428571\n",
      "Accuracy after all batches: 92.30%\n",
      "TRAINING Epoch 9/50 Loss 0.1994 Accuracy 117.2143\n",
      "Accuracy after all batches: 80.97%\n",
      "VALID Epoch 9/50 Loss 0.4589 Accuracy 383.9000\n"
     ]
    },
    {
     "name": "stderr",
     "output_type": "stream",
     "text": [
      "Epoch 10: 100%|██████████| 112/112 [01:18<00:00,  1.42batch/s, accuracy=95, loss=0.194]  \n"
     ]
    },
    {
     "name": "stdout",
     "output_type": "stream",
     "text": [
      "epoch_acc: 120.59821428571429\n",
      "Accuracy after all batches: 94.97%\n",
      "TRAINING Epoch 10/50 Loss 0.1449 Accuracy 120.5982\n",
      "Accuracy after all batches: 80.64%\n",
      "VALID Epoch 10/50 Loss 0.5086 Accuracy 382.3000\n"
     ]
    },
    {
     "name": "stderr",
     "output_type": "stream",
     "text": [
      "Epoch 11: 100%|██████████| 112/112 [01:18<00:00,  1.43batch/s, accuracy=96.8, loss=0.107] \n"
     ]
    },
    {
     "name": "stdout",
     "output_type": "stream",
     "text": [
      "epoch_acc: 122.90178571428571\n",
      "Accuracy after all batches: 96.78%\n",
      "TRAINING Epoch 11/50 Loss 0.1009 Accuracy 122.9018\n",
      "Accuracy after all batches: 78.23%\n",
      "VALID Epoch 11/50 Loss 0.6091 Accuracy 370.9000\n"
     ]
    },
    {
     "name": "stderr",
     "output_type": "stream",
     "text": [
      "Epoch 12: 100%|██████████| 112/112 [01:18<00:00,  1.42batch/s, accuracy=98.5, loss=0.904] \n"
     ]
    },
    {
     "name": "stdout",
     "output_type": "stream",
     "text": [
      "epoch_acc: 125.07142857142857\n",
      "Accuracy after all batches: 98.49%\n",
      "TRAINING Epoch 12/50 Loss 0.0707 Accuracy 125.0714\n",
      "Accuracy after all batches: 78.57%\n",
      "VALID Epoch 12/50 Loss 0.7869 Accuracy 372.5000\n"
     ]
    },
    {
     "name": "stderr",
     "output_type": "stream",
     "text": [
      "Epoch 13: 100%|██████████| 112/112 [01:17<00:00,  1.44batch/s, accuracy=97, loss=0.0771]  \n"
     ]
    },
    {
     "name": "stdout",
     "output_type": "stream",
     "text": [
      "epoch_acc: 123.16071428571429\n",
      "Accuracy after all batches: 96.98%\n",
      "TRAINING Epoch 13/50 Loss 0.0881 Accuracy 123.1607\n",
      "Accuracy after all batches: 81.00%\n",
      "VALID Epoch 13/50 Loss 0.6354 Accuracy 384.0000\n"
     ]
    },
    {
     "name": "stderr",
     "output_type": "stream",
     "text": [
      "Epoch 14: 100%|██████████| 112/112 [01:19<00:00,  1.41batch/s, accuracy=99.1, loss=0.0188]\n"
     ]
    },
    {
     "name": "stdout",
     "output_type": "stream",
     "text": [
      "epoch_acc: 125.83035714285714\n",
      "Accuracy after all batches: 99.09%\n",
      "TRAINING Epoch 14/50 Loss 0.0396 Accuracy 125.8304\n",
      "Accuracy after all batches: 80.28%\n",
      "VALID Epoch 14/50 Loss 0.6410 Accuracy 380.6000\n"
     ]
    },
    {
     "name": "stderr",
     "output_type": "stream",
     "text": [
      "Epoch 15: 100%|██████████| 112/112 [01:18<00:00,  1.42batch/s, accuracy=99.6, loss=0.0297]\n"
     ]
    },
    {
     "name": "stdout",
     "output_type": "stream",
     "text": [
      "epoch_acc: 126.45535714285714\n",
      "Accuracy after all batches: 99.58%\n",
      "TRAINING Epoch 15/50 Loss 0.0241 Accuracy 126.4554\n",
      "Accuracy after all batches: 81.04%\n",
      "VALID Epoch 15/50 Loss 0.6862 Accuracy 384.2000\n"
     ]
    },
    {
     "name": "stderr",
     "output_type": "stream",
     "text": [
      "Epoch 16: 100%|██████████| 112/112 [01:20<00:00,  1.40batch/s, accuracy=99.6, loss=0.42]   \n"
     ]
    },
    {
     "name": "stdout",
     "output_type": "stream",
     "text": [
      "epoch_acc: 126.53571428571429\n",
      "Accuracy after all batches: 99.64%\n",
      "TRAINING Epoch 16/50 Loss 0.0269 Accuracy 126.5357\n",
      "Accuracy after all batches: 79.71%\n",
      "VALID Epoch 16/50 Loss 0.7462 Accuracy 377.9000\n"
     ]
    },
    {
     "name": "stderr",
     "output_type": "stream",
     "text": [
      "Epoch 17: 100%|██████████| 112/112 [01:19<00:00,  1.41batch/s, accuracy=98.1, loss=0.062] \n"
     ]
    },
    {
     "name": "stdout",
     "output_type": "stream",
     "text": [
      "epoch_acc: 124.60714285714286\n",
      "Accuracy after all batches: 98.12%\n",
      "TRAINING Epoch 17/50 Loss 0.0640 Accuracy 124.6071\n",
      "Accuracy after all batches: 80.91%\n",
      "VALID Epoch 17/50 Loss 0.6739 Accuracy 383.6000\n"
     ]
    },
    {
     "name": "stderr",
     "output_type": "stream",
     "text": [
      "Epoch 18: 100%|██████████| 112/112 [01:19<00:00,  1.41batch/s, accuracy=99.3, loss=0.823]  \n"
     ]
    },
    {
     "name": "stdout",
     "output_type": "stream",
     "text": [
      "epoch_acc: 126.125\n",
      "Accuracy after all batches: 99.32%\n",
      "TRAINING Epoch 18/50 Loss 0.0394 Accuracy 126.1250\n",
      "Accuracy after all batches: 80.47%\n",
      "VALID Epoch 18/50 Loss 0.8128 Accuracy 381.5000\n"
     ]
    },
    {
     "name": "stderr",
     "output_type": "stream",
     "text": [
      "Epoch 19: 100%|██████████| 112/112 [01:21<00:00,  1.38batch/s, accuracy=96.7, loss=0.12]  \n"
     ]
    },
    {
     "name": "stdout",
     "output_type": "stream",
     "text": [
      "epoch_acc: 122.75892857142857\n",
      "Accuracy after all batches: 96.67%\n",
      "TRAINING Epoch 19/50 Loss 0.0919 Accuracy 122.7589\n",
      "Accuracy after all batches: 80.13%\n",
      "VALID Epoch 19/50 Loss 0.6998 Accuracy 379.9000\n"
     ]
    },
    {
     "name": "stderr",
     "output_type": "stream",
     "text": [
      "Epoch 20: 100%|██████████| 112/112 [01:19<00:00,  1.40batch/s, accuracy=99, loss=0.3]     \n"
     ]
    },
    {
     "name": "stdout",
     "output_type": "stream",
     "text": [
      "epoch_acc: 125.70535714285714\n",
      "Accuracy after all batches: 98.99%\n",
      "TRAINING Epoch 20/50 Loss 0.0399 Accuracy 125.7054\n",
      "Accuracy after all batches: 80.30%\n",
      "VALID Epoch 20/50 Loss 0.8039 Accuracy 380.7000\n"
     ]
    },
    {
     "name": "stderr",
     "output_type": "stream",
     "text": [
      "Epoch 21: 100%|██████████| 112/112 [01:22<00:00,  1.37batch/s, accuracy=99.5, loss=0.0664] \n"
     ]
    },
    {
     "name": "stdout",
     "output_type": "stream",
     "text": [
      "epoch_acc: 126.3125\n",
      "Accuracy after all batches: 99.47%\n",
      "TRAINING Epoch 21/50 Loss 0.0226 Accuracy 126.3125\n",
      "Accuracy after all batches: 81.52%\n",
      "VALID Epoch 21/50 Loss 0.7482 Accuracy 386.5000\n"
     ]
    },
    {
     "name": "stderr",
     "output_type": "stream",
     "text": [
      "Epoch 22: 100%|██████████| 112/112 [01:20<00:00,  1.38batch/s, accuracy=99.8, loss=0.157]  \n"
     ]
    },
    {
     "name": "stdout",
     "output_type": "stream",
     "text": [
      "epoch_acc: 126.6875\n",
      "Accuracy after all batches: 99.76%\n",
      "TRAINING Epoch 22/50 Loss 0.0159 Accuracy 126.6875\n",
      "Accuracy after all batches: 81.52%\n",
      "VALID Epoch 22/50 Loss 0.6793 Accuracy 386.5000\n"
     ]
    },
    {
     "name": "stderr",
     "output_type": "stream",
     "text": [
      "Epoch 23: 100%|██████████| 112/112 [01:19<00:00,  1.40batch/s, accuracy=99.7, loss=0.0229] \n"
     ]
    },
    {
     "name": "stdout",
     "output_type": "stream",
     "text": [
      "epoch_acc: 126.66964285714286\n",
      "Accuracy after all batches: 99.75%\n",
      "TRAINING Epoch 23/50 Loss 0.0145 Accuracy 126.6696\n",
      "Accuracy after all batches: 81.84%\n",
      "VALID Epoch 23/50 Loss 0.7261 Accuracy 388.0000\n"
     ]
    },
    {
     "name": "stderr",
     "output_type": "stream",
     "text": [
      "Epoch 24: 100%|██████████| 112/112 [01:21<00:00,  1.37batch/s, accuracy=99.7, loss=0.00323]\n"
     ]
    },
    {
     "name": "stdout",
     "output_type": "stream",
     "text": [
      "epoch_acc: 126.65178571428571\n",
      "Accuracy after all batches: 99.73%\n",
      "TRAINING Epoch 24/50 Loss 0.0142 Accuracy 126.6518\n",
      "Accuracy after all batches: 81.19%\n",
      "VALID Epoch 24/50 Loss 0.7276 Accuracy 384.9000\n"
     ]
    },
    {
     "name": "stderr",
     "output_type": "stream",
     "text": [
      "Epoch 25: 100%|██████████| 112/112 [01:18<00:00,  1.43batch/s, accuracy=99.8, loss=0.0669] \n"
     ]
    },
    {
     "name": "stdout",
     "output_type": "stream",
     "text": [
      "epoch_acc: 126.70535714285714\n",
      "Accuracy after all batches: 99.78%\n",
      "TRAINING Epoch 25/50 Loss 0.0100 Accuracy 126.7054\n",
      "Accuracy after all batches: 81.33%\n",
      "VALID Epoch 25/50 Loss 0.7276 Accuracy 385.6000\n"
     ]
    }
   ],
   "source": [
    "#########\n",
    "# Training #\n",
    "#########\n",
    "NUM_EPOCHS = 50\n",
    "losses = []\n",
    "trigger_times = 0\n",
    "best_loss = 1e9\n",
    "best_model = None\n",
    "optimizer = optim.SGD(model.parameters(), lr=1e-3, momentum=0.9, weight_decay=5e-4)\n",
    "scheduler = torch.optim.lr_scheduler.StepLR(optimizer, step_size=20, gamma=0.5, last_epoch=-1)\n",
    "\n",
    "for epoch in range(NUM_EPOCHS):\n",
    "    train_per_epoch_tqdm_2(model, optimizer, criterion, epoch + 1, NUM_EPOCHS)\n",
    "    epoch_loss = valid_per_epoch(model, epoch + 1, NUM_EPOCHS, criterion)\n",
    "    losses.append(epoch_loss)\n",
    "    if epoch_loss < best_loss and epoch > 5:\n",
    "        best_model = deepcopy(model)\n",
    "        best_loss = epoch_loss\n",
    "    # Early Stop\n",
    "    if (epoch > 20) and (losses[-1] >= losses[-2]):\n",
    "        trigger_times += 1\n",
    "        if trigger_times > 2:\n",
    "            break\n",
    "    else:\n",
    "        trigger_times = 0\n",
    "\n",
    "    scheduler.step()"
   ]
  },
  {
   "cell_type": "code",
   "execution_count": null,
   "metadata": {},
   "outputs": [],
   "source": [
    "model"
   ]
  },
  {
   "cell_type": "code",
   "execution_count": 42,
   "metadata": {},
   "outputs": [
    {
     "data": {
      "text/plain": [
       "'/gpfs/space/home/sulaiman/MM/UTKFace'"
      ]
     },
     "execution_count": 42,
     "metadata": {},
     "output_type": "execute_result"
    }
   ],
   "source": [
    "pwd"
   ]
  },
  {
   "cell_type": "code",
   "execution_count": 250,
   "metadata": {},
   "outputs": [
    {
     "name": "stdout",
     "output_type": "stream",
     "text": [
      "c:\\MM\\Tools\\PyTorch\\PyTorch Fundamentals\\Local_CONDA_Env\\Last-Layer Fairness Fine-tuning is Simple and Effective for Neural Networks\n"
     ]
    }
   ],
   "source": [
    "cd .."
   ]
  },
  {
   "cell_type": "code",
   "execution_count": 41,
   "metadata": {},
   "outputs": [],
   "source": [
    "state = {\n",
    "        'epoch': epoch,\n",
    "        'state_dict': model.state_dict(),\n",
    "        'optimizer': optimizer.state_dict(),\n",
    "}\n",
    "\n",
    "savepath='checkpoint_128s_50Epochs.t7'\n",
    "torch.save(state,savepath)"
   ]
  },
  {
   "cell_type": "code",
   "execution_count": 43,
   "metadata": {},
   "outputs": [
    {
     "data": {
      "text/plain": [
       "'/gpfs/space/home/sulaiman/MM/UTKFace'"
      ]
     },
     "execution_count": 43,
     "metadata": {},
     "output_type": "execute_result"
    }
   ],
   "source": [
    "pwd"
   ]
  },
  {
   "cell_type": "code",
   "execution_count": 44,
   "metadata": {},
   "outputs": [],
   "source": [
    "model = MyResNet(num_classes=2, pretrain=False)\n",
    "# model = ConvNet(num_classes=2)\n",
    "model = model.cuda()\n",
    "criterion = nn.NLLLoss()\n",
    "\n",
    "optimizer = optim.SGD(model.parameters(), lr=1e-3, momentum=0.9, weight_decay=5e-4)"
   ]
  },
  {
   "cell_type": "code",
   "execution_count": 45,
   "metadata": {},
   "outputs": [],
   "source": [
    "checkpoint = torch.load('checkpoint_128s_50Epochs.t7')\n",
    "model.load_state_dict(checkpoint['state_dict'])\n",
    "optimizer.load_state_dict(checkpoint['optimizer'])\n",
    "epoch = checkpoint['epoch']"
   ]
  },
  {
   "cell_type": "code",
   "execution_count": 46,
   "metadata": {},
   "outputs": [
    {
     "name": "stdout",
     "output_type": "stream",
     "text": [
      "Accuracy after all batches: 81.33%\n",
      "VALID Epoch 1/1 Loss 0.7121 Accuracy 385.6000\n"
     ]
    }
   ],
   "source": [
    "epoch = 0\n",
    "NUM_EPOCHS = 1\n",
    "\n",
    "epoch_loss = valid_per_epoch(model, epoch + 1, NUM_EPOCHS, criterion)"
   ]
  },
  {
   "cell_type": "code",
   "execution_count": 257,
   "metadata": {},
   "outputs": [
    {
     "name": "stderr",
     "output_type": "stream",
     "text": [
      "Epoch 1: 100%|██████████| 28/28 [02:06<00:00,  4.53s/batch, accuracy=89.5, loss=0.273]\n"
     ]
    },
    {
     "name": "stdout",
     "output_type": "stream",
     "text": [
      "epoch_acc: 454.64285714285717\n",
      "Accuracy after all batches: 89.50%\n",
      "TRAINING Epoch 1/10 Loss 0.2740 Accuracy 454.6429\n",
      "Accuracy after all batches: 75.57%\n",
      "VALID Epoch 1/10 Loss 0.5012 Accuracy 1194.3333\n"
     ]
    },
    {
     "name": "stderr",
     "output_type": "stream",
     "text": [
      "Epoch 2: 100%|██████████| 28/28 [02:11<00:00,  4.69s/batch, accuracy=91.1, loss=0.269]\n"
     ]
    },
    {
     "name": "stdout",
     "output_type": "stream",
     "text": [
      "epoch_acc: 462.60714285714283\n",
      "Accuracy after all batches: 91.07%\n",
      "TRAINING Epoch 2/10 Loss 0.2473 Accuracy 462.6071\n",
      "Accuracy after all batches: 74.90%\n",
      "VALID Epoch 2/10 Loss 0.5181 Accuracy 1183.6667\n"
     ]
    },
    {
     "name": "stderr",
     "output_type": "stream",
     "text": [
      "Epoch 3: 100%|██████████| 28/28 [02:17<00:00,  4.91s/batch, accuracy=93, loss=0.243]  \n"
     ]
    },
    {
     "name": "stdout",
     "output_type": "stream",
     "text": [
      "epoch_acc: 472.39285714285717\n",
      "Accuracy after all batches: 93.00%\n",
      "TRAINING Epoch 3/10 Loss 0.2102 Accuracy 472.3929\n",
      "Accuracy after all batches: 74.79%\n",
      "VALID Epoch 3/10 Loss 0.5434 Accuracy 1182.0000\n"
     ]
    },
    {
     "name": "stderr",
     "output_type": "stream",
     "text": [
      "Epoch 4: 100%|██████████| 28/28 [02:27<00:00,  5.28s/batch, accuracy=94.5, loss=0.167]\n"
     ]
    },
    {
     "name": "stdout",
     "output_type": "stream",
     "text": [
      "epoch_acc: 480.07142857142856\n",
      "Accuracy after all batches: 94.51%\n",
      "TRAINING Epoch 4/10 Loss 0.1790 Accuracy 480.0714\n",
      "Accuracy after all batches: 76.12%\n",
      "VALID Epoch 4/10 Loss 0.5195 Accuracy 1203.0000\n"
     ]
    },
    {
     "name": "stderr",
     "output_type": "stream",
     "text": [
      "Epoch 5: 100%|██████████| 28/28 [02:15<00:00,  4.82s/batch, accuracy=96.4, loss=0.155]\n"
     ]
    },
    {
     "name": "stdout",
     "output_type": "stream",
     "text": [
      "epoch_acc: 489.57142857142856\n",
      "Accuracy after all batches: 96.38%\n",
      "TRAINING Epoch 5/10 Loss 0.1465 Accuracy 489.5714\n",
      "Accuracy after all batches: 77.47%\n",
      "VALID Epoch 5/10 Loss 0.5168 Accuracy 1224.3333\n"
     ]
    },
    {
     "name": "stderr",
     "output_type": "stream",
     "text": [
      "Epoch 6: 100%|██████████| 28/28 [02:13<00:00,  4.78s/batch, accuracy=97.5, loss=0.117]\n"
     ]
    },
    {
     "name": "stdout",
     "output_type": "stream",
     "text": [
      "epoch_acc: 495.2142857142857\n",
      "Accuracy after all batches: 97.49%\n",
      "TRAINING Epoch 6/10 Loss 0.1178 Accuracy 495.2143\n",
      "Accuracy after all batches: 77.09%\n",
      "VALID Epoch 6/10 Loss 0.5482 Accuracy 1218.3333\n"
     ]
    },
    {
     "name": "stderr",
     "output_type": "stream",
     "text": [
      "Epoch 7: 100%|██████████| 28/28 [02:21<00:00,  5.06s/batch, accuracy=98.6, loss=0.0955]\n"
     ]
    },
    {
     "name": "stdout",
     "output_type": "stream",
     "text": [
      "epoch_acc: 500.85714285714283\n",
      "Accuracy after all batches: 98.60%\n",
      "TRAINING Epoch 7/10 Loss 0.0904 Accuracy 500.8571\n",
      "Accuracy after all batches: 74.56%\n",
      "VALID Epoch 7/10 Loss 0.6367 Accuracy 1178.3333\n"
     ]
    },
    {
     "name": "stderr",
     "output_type": "stream",
     "text": [
      "Epoch 8: 100%|██████████| 28/28 [02:08<00:00,  4.60s/batch, accuracy=99.1, loss=0.0608]\n"
     ]
    },
    {
     "name": "stdout",
     "output_type": "stream",
     "text": [
      "epoch_acc: 503.60714285714283\n",
      "Accuracy after all batches: 99.14%\n",
      "TRAINING Epoch 8/10 Loss 0.0700 Accuracy 503.6071\n",
      "Accuracy after all batches: 75.49%\n",
      "VALID Epoch 8/10 Loss 0.6648 Accuracy 1193.0000\n"
     ]
    },
    {
     "name": "stderr",
     "output_type": "stream",
     "text": [
      "Epoch 9: 100%|██████████| 28/28 [02:26<00:00,  5.23s/batch, accuracy=99.5, loss=0.0509]\n"
     ]
    },
    {
     "name": "stdout",
     "output_type": "stream",
     "text": [
      "epoch_acc: 505.5357142857143\n",
      "Accuracy after all batches: 99.52%\n",
      "TRAINING Epoch 9/10 Loss 0.0541 Accuracy 505.5357\n",
      "Accuracy after all batches: 75.49%\n",
      "VALID Epoch 9/10 Loss 0.6700 Accuracy 1193.0000\n"
     ]
    },
    {
     "name": "stderr",
     "output_type": "stream",
     "text": [
      "Epoch 10: 100%|██████████| 28/28 [02:20<00:00,  5.03s/batch, accuracy=99.7, loss=0.0431]\n"
     ]
    },
    {
     "name": "stdout",
     "output_type": "stream",
     "text": [
      "epoch_acc: 506.42857142857144\n",
      "Accuracy after all batches: 99.70%\n",
      "TRAINING Epoch 10/10 Loss 0.0415 Accuracy 506.4286\n",
      "Accuracy after all batches: 75.38%\n",
      "VALID Epoch 10/10 Loss 0.6908 Accuracy 1191.3333\n"
     ]
    }
   ],
   "source": [
    "#########\n",
    "# Training #\n",
    "#########\n",
    "NUM_EPOCHS = 10\n",
    "losses = []\n",
    "trigger_times = 0\n",
    "best_loss = 1e9\n",
    "best_model = None\n",
    "optimizer = optim.SGD(model.parameters(), lr=1e-3, momentum=0.9, weight_decay=5e-4)\n",
    "scheduler = torch.optim.lr_scheduler.StepLR(optimizer, step_size=20, gamma=0.5, last_epoch=-1)\n",
    "\n",
    "for epoch in range(NUM_EPOCHS):\n",
    "    train_per_epoch_tqdm_2(model, optimizer, criterion, epoch + 1, NUM_EPOCHS)\n",
    "    epoch_loss = valid_per_epoch(model, epoch + 1, NUM_EPOCHS, criterion)\n",
    "    losses.append(epoch_loss)\n",
    "    if epoch_loss < best_loss and epoch > 5:\n",
    "        best_model = deepcopy(model)\n",
    "        best_loss = epoch_loss\n",
    "    # Early Stop\n",
    "    if (epoch > 20) and (losses[-1] >= losses[-2]):\n",
    "        trigger_times += 1\n",
    "        if trigger_times > 2:\n",
    "            break\n",
    "    else:\n",
    "        trigger_times = 0\n",
    "\n",
    "    scheduler.step()"
   ]
  },
  {
   "cell_type": "code",
   "execution_count": 258,
   "metadata": {},
   "outputs": [],
   "source": [
    "state = {\n",
    "        'epoch': epoch,\n",
    "        'state_dict': model.state_dict(),\n",
    "        'optimizer': optimizer.state_dict(),\n",
    "}\n",
    "\n",
    "savepath='checkpoint_20Epochs.t7'\n",
    "torch.save(state,savepath)"
   ]
  },
  {
   "cell_type": "code",
   "execution_count": null,
   "metadata": {},
   "outputs": [],
   "source": []
  },
  {
   "cell_type": "code",
   "execution_count": null,
   "metadata": {},
   "outputs": [],
   "source": []
  },
  {
   "cell_type": "code",
   "execution_count": null,
   "metadata": {},
   "outputs": [],
   "source": []
  }
 ],
 "metadata": {
  "interpreter": {
   "hash": "af407973ba12897262deda9d8992946cc1a9873fff2de40f1acc89cdf9010052"
  },
  "kernelspec": {
   "display_name": "Python 3",
   "language": "python",
   "name": "python3"
  },
  "language_info": {
   "codemirror_mode": {
    "name": "ipython",
    "version": 3
   },
   "file_extension": ".py",
   "mimetype": "text/x-python",
   "name": "python",
   "nbconvert_exporter": "python",
   "pygments_lexer": "ipython3",
   "version": "3.9.13"
  }
 },
 "nbformat": 4,
 "nbformat_minor": 2
}
